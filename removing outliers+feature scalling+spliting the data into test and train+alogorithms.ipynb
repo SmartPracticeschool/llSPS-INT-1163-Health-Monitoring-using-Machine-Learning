{
 "cells": [
  {
   "cell_type": "code",
   "execution_count": 84,
   "metadata": {},
   "outputs": [
    {
     "data": {
      "text/plain": [
       "'C:\\\\Users\\\\HP\\\\Desktop\\\\RSIP project 2020\\\\data sets'"
      ]
     },
     "execution_count": 84,
     "metadata": {},
     "output_type": "execute_result"
    }
   ],
   "source": [
    "import os\n",
    "os.getcwd()"
   ]
  },
  {
   "cell_type": "code",
   "execution_count": 85,
   "metadata": {},
   "outputs": [
    {
     "data": {
      "text/plain": [
       "'C:\\\\Users\\\\HP\\\\Desktop\\\\RSIP project 2020\\\\data sets'"
      ]
     },
     "execution_count": 85,
     "metadata": {},
     "output_type": "execute_result"
    }
   ],
   "source": [
    "os.chdir(\"C:\\\\Users\\\\HP\\\\Desktop\\\\RSIP project 2020\\\\data sets\")\n",
    "os.getcwd()"
   ]
  },
  {
   "cell_type": "code",
   "execution_count": 86,
   "metadata": {},
   "outputs": [],
   "source": [
    "import numpy as np\n",
    "import pandas as pd\n",
    "import matplotlib.pyplot as plt\n",
    "from sklearn import preprocessing \n",
    "import seaborn as sns"
   ]
  },
  {
   "cell_type": "code",
   "execution_count": 87,
   "metadata": {},
   "outputs": [
    {
     "data": {
      "text/html": [
       "<div>\n",
       "<style scoped>\n",
       "    .dataframe tbody tr th:only-of-type {\n",
       "        vertical-align: middle;\n",
       "    }\n",
       "\n",
       "    .dataframe tbody tr th {\n",
       "        vertical-align: top;\n",
       "    }\n",
       "\n",
       "    .dataframe thead th {\n",
       "        text-align: right;\n",
       "    }\n",
       "</style>\n",
       "<table border=\"1\" class=\"dataframe\">\n",
       "  <thead>\n",
       "    <tr style=\"text-align: right;\">\n",
       "      <th></th>\n",
       "      <th>SBP</th>\n",
       "      <th>DBP</th>\n",
       "      <th>Pulse</th>\n",
       "      <th>Temperature</th>\n",
       "      <th>Level</th>\n",
       "    </tr>\n",
       "  </thead>\n",
       "  <tbody>\n",
       "    <tr>\n",
       "      <th>0</th>\n",
       "      <td>120</td>\n",
       "      <td>80</td>\n",
       "      <td>80</td>\n",
       "      <td>98</td>\n",
       "      <td>0</td>\n",
       "    </tr>\n",
       "    <tr>\n",
       "      <th>1</th>\n",
       "      <td>140</td>\n",
       "      <td>83</td>\n",
       "      <td>75</td>\n",
       "      <td>100</td>\n",
       "      <td>1</td>\n",
       "    </tr>\n",
       "    <tr>\n",
       "      <th>2</th>\n",
       "      <td>155</td>\n",
       "      <td>100</td>\n",
       "      <td>92</td>\n",
       "      <td>104</td>\n",
       "      <td>2</td>\n",
       "    </tr>\n",
       "    <tr>\n",
       "      <th>3</th>\n",
       "      <td>115</td>\n",
       "      <td>82</td>\n",
       "      <td>79</td>\n",
       "      <td>97</td>\n",
       "      <td>0</td>\n",
       "    </tr>\n",
       "    <tr>\n",
       "      <th>4</th>\n",
       "      <td>119</td>\n",
       "      <td>79</td>\n",
       "      <td>85</td>\n",
       "      <td>102</td>\n",
       "      <td>1</td>\n",
       "    </tr>\n",
       "    <tr>\n",
       "      <th>...</th>\n",
       "      <td>...</td>\n",
       "      <td>...</td>\n",
       "      <td>...</td>\n",
       "      <td>...</td>\n",
       "      <td>...</td>\n",
       "    </tr>\n",
       "    <tr>\n",
       "      <th>144</th>\n",
       "      <td>154</td>\n",
       "      <td>99</td>\n",
       "      <td>83</td>\n",
       "      <td>103</td>\n",
       "      <td>2</td>\n",
       "    </tr>\n",
       "    <tr>\n",
       "      <th>145</th>\n",
       "      <td>118</td>\n",
       "      <td>77</td>\n",
       "      <td>73</td>\n",
       "      <td>98</td>\n",
       "      <td>0</td>\n",
       "    </tr>\n",
       "    <tr>\n",
       "      <th>146</th>\n",
       "      <td>125</td>\n",
       "      <td>87</td>\n",
       "      <td>79</td>\n",
       "      <td>102</td>\n",
       "      <td>1</td>\n",
       "    </tr>\n",
       "    <tr>\n",
       "      <th>147</th>\n",
       "      <td>132</td>\n",
       "      <td>88</td>\n",
       "      <td>78</td>\n",
       "      <td>101</td>\n",
       "      <td>1</td>\n",
       "    </tr>\n",
       "    <tr>\n",
       "      <th>148</th>\n",
       "      <td>118</td>\n",
       "      <td>82</td>\n",
       "      <td>74</td>\n",
       "      <td>98</td>\n",
       "      <td>0</td>\n",
       "    </tr>\n",
       "  </tbody>\n",
       "</table>\n",
       "<p>149 rows × 5 columns</p>\n",
       "</div>"
      ],
      "text/plain": [
       "     SBP  DBP  Pulse  Temperature  Level\n",
       "0    120   80     80           98      0\n",
       "1    140   83     75          100      1\n",
       "2    155  100     92          104      2\n",
       "3    115   82     79           97      0\n",
       "4    119   79     85          102      1\n",
       "..   ...  ...    ...          ...    ...\n",
       "144  154   99     83          103      2\n",
       "145  118   77     73           98      0\n",
       "146  125   87     79          102      1\n",
       "147  132   88     78          101      1\n",
       "148  118   82     74           98      0\n",
       "\n",
       "[149 rows x 5 columns]"
      ]
     },
     "execution_count": 87,
     "metadata": {},
     "output_type": "execute_result"
    }
   ],
   "source": [
    "#Import the data\n",
    "df=pd.read_csv(\"Health monitoring.csv\")\n",
    "df"
   ]
  },
  {
   "cell_type": "code",
   "execution_count": 88,
   "metadata": {},
   "outputs": [
    {
     "data": {
      "text/html": [
       "<div>\n",
       "<style scoped>\n",
       "    .dataframe tbody tr th:only-of-type {\n",
       "        vertical-align: middle;\n",
       "    }\n",
       "\n",
       "    .dataframe tbody tr th {\n",
       "        vertical-align: top;\n",
       "    }\n",
       "\n",
       "    .dataframe thead th {\n",
       "        text-align: right;\n",
       "    }\n",
       "</style>\n",
       "<table border=\"1\" class=\"dataframe\">\n",
       "  <thead>\n",
       "    <tr style=\"text-align: right;\">\n",
       "      <th></th>\n",
       "      <th>SBP</th>\n",
       "      <th>DBP</th>\n",
       "      <th>Pulse</th>\n",
       "      <th>Temperature</th>\n",
       "      <th>Level</th>\n",
       "    </tr>\n",
       "  </thead>\n",
       "  <tbody>\n",
       "    <tr>\n",
       "      <th>0</th>\n",
       "      <td>120</td>\n",
       "      <td>80</td>\n",
       "      <td>80</td>\n",
       "      <td>98</td>\n",
       "      <td>0</td>\n",
       "    </tr>\n",
       "    <tr>\n",
       "      <th>1</th>\n",
       "      <td>140</td>\n",
       "      <td>83</td>\n",
       "      <td>75</td>\n",
       "      <td>100</td>\n",
       "      <td>1</td>\n",
       "    </tr>\n",
       "    <tr>\n",
       "      <th>2</th>\n",
       "      <td>155</td>\n",
       "      <td>100</td>\n",
       "      <td>92</td>\n",
       "      <td>104</td>\n",
       "      <td>2</td>\n",
       "    </tr>\n",
       "    <tr>\n",
       "      <th>3</th>\n",
       "      <td>115</td>\n",
       "      <td>82</td>\n",
       "      <td>79</td>\n",
       "      <td>97</td>\n",
       "      <td>0</td>\n",
       "    </tr>\n",
       "    <tr>\n",
       "      <th>4</th>\n",
       "      <td>119</td>\n",
       "      <td>79</td>\n",
       "      <td>85</td>\n",
       "      <td>102</td>\n",
       "      <td>1</td>\n",
       "    </tr>\n",
       "  </tbody>\n",
       "</table>\n",
       "</div>"
      ],
      "text/plain": [
       "   SBP  DBP  Pulse  Temperature  Level\n",
       "0  120   80     80           98      0\n",
       "1  140   83     75          100      1\n",
       "2  155  100     92          104      2\n",
       "3  115   82     79           97      0\n",
       "4  119   79     85          102      1"
      ]
     },
     "execution_count": 88,
     "metadata": {},
     "output_type": "execute_result"
    }
   ],
   "source": [
    "df.head()"
   ]
  },
  {
   "cell_type": "code",
   "execution_count": 89,
   "metadata": {},
   "outputs": [
    {
     "data": {
      "text/plain": [
       "<matplotlib.axes._subplots.AxesSubplot at 0x27a3cec4608>"
      ]
     },
     "execution_count": 89,
     "metadata": {},
     "output_type": "execute_result"
    },
    {
     "data": {
      "image/png": "[encoded data removed]",
      "text/plain": [
       "<Figure size 432x288 with 1 Axes>"
      ]
     },
     "metadata": {
      "needs_background": "light"
     },
     "output_type": "display_data"
    }
   ],
   "source": [
    "#Discover outliers with visualzation tools\n",
    "#Create a boxplot for 'SBP'\n",
    "import seaborn as sns\n",
    "sns.boxplot(x=df['SBP'])"
   ]
  },
  {
   "cell_type": "code",
   "execution_count": 90,
   "metadata": {},
   "outputs": [
    {
     "data": {
      "image/png": "[encoded data removed]",
      "text/plain": [
       "<Figure size 1152x576 with 1 Axes>"
      ]
     },
     "metadata": {
      "needs_background": "light"
     },
     "output_type": "display_data"
    }
   ],
   "source": [
    "#Create a scatter plot for two variables 'indus' & 'tax'\n",
    "fig, ax = plt.subplots(figsize=(16,8))\n",
    "ax.scatter(df['SBP'], df['Pulse'])\n",
    "ax.set_xlabel('Proportion of non-retail business acres per town')\n",
    "ax.set_ylabel('Full-value property-tax rate per $10,000')\n",
    "plt.show()"
   ]
  },
  {
   "cell_type": "markdown",
   "metadata": {},
   "source": [
    "# Working with outliers"
   ]
  },
  {
   "cell_type": "code",
   "execution_count": 91,
   "metadata": {},
   "outputs": [
    {
     "name": "stdout",
     "output_type": "stream",
     "text": [
      "[[0.24357291 0.12981141 0.83543145 0.93958575 1.17216922]\n",
      " [1.1416318  0.17883593 0.10332636 0.036012   0.00792006]\n",
      " [2.18053533 1.92783754 3.08845021 1.98720749 1.18800934]\n",
      " [0.58987408 0.07595348 0.64767989 1.42738462 1.17216922]\n",
      " [0.31283314 0.23269386 1.77418927 1.01160974 0.00792006]\n",
      " [1.97507879 1.67304813 0.10332636 0.52381087 1.18800934]\n",
      " [0.52061385 0.64422365 1.04208418 0.45178687 1.17216922]\n",
      " [1.62877761 2.18746037 0.64767989 0.93958575 1.18800934]\n",
      " [0.31283314 0.33557631 1.4175873  0.036012   1.17216922]\n",
      " [0.93617526 1.26151834 1.98084199 1.01160974 1.18800934]\n",
      " [0.45135361 0.84998854 0.0844252  0.45178687 1.17216922]\n",
      " [0.44902945 0.69324817 1.5864377  0.52381087 0.00792006]\n",
      " [1.48793298 0.89901307 1.21093458 1.98720749 1.18800934]\n",
      " [0.38209338 0.64422365 0.10332636 0.45178687 1.17216922]\n",
      " [0.65913432 0.5413412  1.22983574 0.93958575 1.17216922]\n",
      " [1.28247644 1.67304813 2.91959981 1.01160974 1.18800934]\n",
      " [0.58754992 0.79613062 0.0844252  0.52381087 0.00792006]\n",
      " [0.79533062 0.59036572 0.0844252  0.036012   0.00792006]\n",
      " [1.1416318  1.00189551 0.83543145 1.01160974 1.18800934]\n",
      " [0.31283314 0.33557631 1.04208418 0.45178687 1.17216922]\n",
      " [0.52061385 0.43845875 0.29107793 0.93958575 1.17216922]\n",
      " [1.2132162  1.36440078 0.64767989 1.49940861 1.18800934]\n",
      " [0.37976921 0.79613062 1.21093458 0.036012   0.00792006]\n",
      " [0.1719885  0.89901307 0.83543145 0.52381087 0.00792006]\n",
      " [1.62645345 1.41342531 1.5864377  1.98720749 1.18800934]\n",
      " [0.52061385 0.33557631 1.04208418 0.93958575 1.17216922]\n",
      " [0.38209338 0.5413412  1.4175873  0.45178687 1.17216922]\n",
      " [0.31050897 0.59036572 0.83543145 0.036012   0.00792006]\n",
      " [0.44902945 0.38460083 1.21093458 0.52381087 0.00792006]\n",
      " [1.69571368 1.10477796 1.5864377  1.98720749 1.18800934]\n",
      " [1.62877761 1.67304813 2.54409668 2.40298236 1.18800934]\n",
      " [1.69803785 2.18746037 1.98084199 2.89078124 1.18800934]\n",
      " [0.31283314 0.33557631 0.29107793 0.93958575 1.17216922]\n",
      " [0.45135361 0.23269386 0.0844252  0.45178687 1.17216922]\n",
      " [0.52061385 0.12981141 0.29107793 0.93958575 1.17216922]\n",
      " [0.58987408 0.33557631 1.4175873  0.45178687 1.17216922]\n",
      " [0.1719885  0.38460083 0.64767989 0.036012   0.00792006]\n",
      " [0.24124874 0.79613062 0.83543145 0.93958575 0.00792006]\n",
      " [0.31050897 0.69324817 0.64767989 0.52381087 0.00792006]\n",
      " [0.24357291 0.33557631 1.04208418 2.47500636 1.18800934]\n",
      " [0.38209338 0.23269386 0.0844252  2.96280523 1.18800934]\n",
      " [1.62877761 1.67304813 0.64767989 0.036012   1.18800934]\n",
      " [0.31283314 0.5413412  0.66658105 0.93958575 1.17216922]\n",
      " [0.38209338 0.23269386 1.04208418 0.45178687 1.17216922]\n",
      " [0.45135361 0.33557631 0.10332636 0.93958575 1.17216922]\n",
      " [1.48793298 1.10477796 1.21093458 0.52381087 1.18800934]\n",
      " [1.55719321 0.89901307 0.83543145 1.98720749 1.18800934]\n",
      " [0.24124874 0.38460083 0.64767989 0.036012   0.00792006]\n",
      " [0.1719885  0.69324817 0.45992833 0.93958575 0.00792006]\n",
      " [0.24357291 0.5413412  1.04208418 0.93958575 1.17216922]\n",
      " [0.38209338 0.23269386 0.0844252  0.036012   1.17216922]\n",
      " [1.1416318  1.8249551  1.77418927 1.01160974 1.18800934]\n",
      " [0.31050897 0.69324817 0.27217676 0.93958575 0.00792006]\n",
      " [0.1719885  0.59036572 0.0844252  0.45178687 0.00792006]\n",
      " [0.31283314 0.33557631 1.04208418 0.93958575 1.17216922]\n",
      " [0.38209338 0.43845875 0.10332636 0.45178687 1.17216922]\n",
      " [1.35173667 1.36440078 0.64767989 0.52381087 1.18800934]\n",
      " [1.62877761 1.77593057 1.22983574 1.98720749 1.18800934]\n",
      " [1.28015227 1.20766041 0.83543145 1.01160974 1.18800934]\n",
      " [0.1719885  0.38460083 0.64767989 0.45178687 0.00792006]\n",
      " [0.24124874 0.28171838 0.10332636 0.036012   0.00792006]\n",
      " [0.38209338 0.02692896 0.66658105 0.93958575 1.17216922]\n",
      " [0.24357291 0.33557631 1.04208418 0.45178687 1.17216922]\n",
      " [0.31283314 0.12981141 0.10332636 0.93958575 1.17216922]\n",
      " [0.38209338 0.33557631 1.22983574 0.93958575 1.17216922]\n",
      " [0.24124874 0.17883593 0.64767989 0.036012   0.00792006]\n",
      " [0.31050897 0.48748328 2.16859356 0.52381087 0.00792006]\n",
      " [1.76497392 1.51630775 1.21093458 1.49940861 1.18800934]\n",
      " [1.69571368 1.41342531 0.83543145 1.01160974 1.18800934]\n",
      " [1.76729809 2.18746037 2.16859356 0.52381087 1.18800934]\n",
      " [1.55951738 1.36440078 1.60533887 1.98720749 1.18800934]\n",
      " [0.1719885  0.38460083 0.0844252  0.036012   0.00792006]\n",
      " [0.24124874 0.59036572 0.45992833 0.93958575 0.00792006]\n",
      " [0.31050897 0.69324817 0.27217676 0.45178687 0.00792006]\n",
      " [0.24357291 0.23269386 0.10332636 0.93958575 1.17216922]\n",
      " [0.31283314 0.33557631 0.66658105 0.93958575 1.17216922]\n",
      " [0.38209338 0.43845875 1.04208418 0.45178687 1.17216922]\n",
      " [1.55951738 1.46728323 0.45992833 0.036012   1.18800934]\n",
      " [1.35173667 1.36440078 0.64767989 0.52381087 1.18800934]\n",
      " [1.28247644 1.26151834 0.0844252  0.45178687 1.18800934]\n",
      " [1.62877761 1.87881302 0.83543145 1.49940861 1.18800934]\n",
      " [0.65913432 0.33557631 0.10332636 0.93958575 1.17216922]\n",
      " [0.52061385 0.23269386 0.29107793 0.93958575 1.17216922]\n",
      " [0.45135361 0.12981141 0.47882949 0.45178687 1.17216922]\n",
      " [0.58987408 0.33557631 1.04208418 0.93958575 1.17216922]\n",
      " [1.83423415 1.51630775 1.21093458 1.01160974 1.18800934]\n",
      " [1.90349439 1.41342531 0.83543145 0.036012   1.18800934]\n",
      " [1.76497392 1.31054286 1.39868614 0.45178687 1.18800934]\n",
      " [0.03346803 0.28171838 0.0844252  0.93958575 0.00792006]\n",
      " [0.24357291 0.12981141 0.0844252  0.93958575 1.17216922]\n",
      " [0.31283314 0.33557631 1.04208418 0.93958575 1.17216922]\n",
      " [0.38209338 0.5413412  0.29107793 0.93958575 1.17216922]\n",
      " [0.45135361 0.23269386 0.47882949 0.93958575 1.17216922]\n",
      " [0.38209338 0.23269386 0.0844252  2.47500636 1.18800934]\n",
      " [0.24357291 0.12981141 0.10332636 2.47500636 1.18800934]\n",
      " [0.45135361 2.18746037 1.77418927 0.036012   0.00792006]\n",
      " [1.14395597 1.67304813 0.83543145 1.01160974 1.18800934]\n",
      " [1.69803785 1.57016568 0.64767989 1.01160974 1.18800934]\n",
      " [0.38209338 0.23269386 0.47882949 0.45178687 1.17216922]\n",
      " [0.51828968 0.48748328 0.0844252  0.93958575 0.00792006]\n",
      " [0.58754992 0.59036572 0.27217676 0.93958575 0.00792006]\n",
      " [0.58754992 0.48748328 0.10332636 1.01160974 0.00792006]\n",
      " [0.65681015 1.10477796 0.64767989 0.036012   0.00792006]\n",
      " [0.72607039 0.59036572 0.45992833 0.45178687 0.00792006]\n",
      " [0.79533062 0.79613062 0.83543145 0.036012   0.00792006]\n",
      " [0.86459086 0.89901307 0.64767989 0.52381087 0.00792006]\n",
      " [1.55951738 1.36440078 1.04208418 0.45178687 1.18800934]\n",
      " [1.49025714 1.46728323 1.98084199 0.52381087 1.18800934]\n",
      " [1.69803785 1.36440078 1.79309043 1.01160974 1.18800934]\n",
      " [1.48793298 1.92783754 0.10332636 0.036012   1.18800934]\n",
      " [1.55719321 2.03071999 1.21093458 0.52381087 1.18800934]\n",
      " [1.55719321 1.41342531 1.02318301 0.036012   1.18800934]\n",
      " [1.97275462 1.72207265 0.10332636 0.45178687 1.18800934]\n",
      " [2.11127509 1.8249551  0.64767989 0.036012   1.18800934]\n",
      " [0.38209338 0.23269386 0.85433262 0.93958575 1.17216922]\n",
      " [0.31283314 0.5413412  1.04208418 0.45178687 1.17216922]\n",
      " [0.24357291 0.33557631 1.22983574 0.93958575 1.17216922]\n",
      " [0.45135361 0.23269386 1.4175873  0.93958575 1.17216922]\n",
      " [0.52061385 0.12981141 1.04208418 0.93958575 1.17216922]\n",
      " [0.31283314 0.12981141 0.47882949 0.45178687 1.17216922]\n",
      " [0.31283314 0.23269386 1.04208418 0.93958575 1.17216922]\n",
      " [0.10272827 0.38460083 0.10332636 0.036012   0.00792006]\n",
      " [0.1719885  0.59036572 0.27217676 0.52381087 0.00792006]\n",
      " [0.31050897 0.69324817 0.64767989 0.52381087 0.00792006]\n",
      " [0.44902945 0.38460083 0.0844252  0.036012   0.00792006]\n",
      " [1.69571368 0.89901307 0.0844252  0.52381087 1.18800934]\n",
      " [1.62645345 1.10477796 0.83543145 0.45178687 1.18800934]\n",
      " [2.04201486 2.03071999 1.02318301 1.01160974 1.18800934]\n",
      " [1.90349439 1.8249551  1.21093458 1.49940861 1.18800934]\n",
      " [0.38209338 0.33557631 1.4175873  0.93958575 1.17216922]\n",
      " [0.31283314 0.23269386 1.04208418 0.93958575 1.17216922]\n",
      " [0.24357291 0.33557631 0.85433262 0.45178687 1.17216922]\n",
      " [0.31283314 0.33557631 0.29107793 0.93958575 1.17216922]\n",
      " [1.76729809 1.77593057 0.0844252  0.93958575 1.18800934]\n",
      " [1.35173667 1.46728323 1.5864377  1.49940861 1.18800934]\n",
      " [1.2132162  1.98169547 0.45992833 1.01160974 1.18800934]\n",
      " [0.44902945 0.59036572 0.0844252  0.036012   0.00792006]\n",
      " [0.52061385 0.33557631 0.47882949 0.93958575 1.17216922]\n",
      " [0.38209338 0.23269386 1.22983574 0.93958575 1.17216922]\n",
      " [0.45135361 0.43845875 0.29107793 0.93958575 1.17216922]\n",
      " [0.72607039 0.48748328 0.45992833 0.036012   0.00792006]\n",
      " [0.86459086 0.59036572 0.83543145 0.52381087 0.00792006]\n",
      " [1.07237156 0.69324817 1.02318301 0.036012   0.00792006]\n",
      " [1.62645345 1.31054286 0.64767989 0.036012   1.18800934]\n",
      " [2.11127509 1.8249551  1.39868614 1.49940861 1.18800934]\n",
      " [0.38209338 0.43845875 0.47882949 0.93958575 1.17216922]\n",
      " [0.10272827 0.59036572 0.64767989 1.01160974 0.00792006]\n",
      " [0.58754992 0.69324817 0.45992833 0.52381087 0.00792006]\n",
      " [0.38209338 0.07595348 0.29107793 0.93958575 1.17216922]]\n"
     ]
    }
   ],
   "source": [
    "#Get Z-scores of Health monitoring system\n",
    "from scipy import stats\n",
    "import numpy as np\n",
    "z = np.abs(stats.zscore(df))\n",
    "print(z)"
   ]
  },
  {
   "cell_type": "code",
   "execution_count": 92,
   "metadata": {},
   "outputs": [
    {
     "name": "stdout",
     "output_type": "stream",
     "text": [
      "(array([2], dtype=int64), array([2], dtype=int64))\n"
     ]
    }
   ],
   "source": [
    "# Define a threshold to identify an outlier.\n",
    "threshold = 3\n",
    "print(np.where(z > 3))"
   ]
  },
  {
   "cell_type": "code",
   "execution_count": 93,
   "metadata": {},
   "outputs": [
    {
     "name": "stdout",
     "output_type": "stream",
     "text": [
      "0.7961306191277138\n"
     ]
    }
   ],
   "source": [
    "print(z[22][1])"
   ]
  },
  {
   "cell_type": "code",
   "execution_count": 94,
   "metadata": {},
   "outputs": [
    {
     "name": "stdout",
     "output_type": "stream",
     "text": [
      "SBP            15.0\n",
      "DBP            11.0\n",
      "Pulse           7.0\n",
      "Temperature     3.0\n",
      "Level           2.0\n",
      "dtype: float64\n"
     ]
    }
   ],
   "source": [
    "#Find outliers using IQR Score(i.e. IQR=Q3-Q1) \n",
    "Q1 = df.quantile(0.25)\n",
    "Q3 = df.quantile(0.75)\n",
    "IQR = Q3 - Q1\n",
    "print(IQR)"
   ]
  },
  {
   "cell_type": "code",
   "execution_count": 95,
   "metadata": {},
   "outputs": [
    {
     "name": "stdout",
     "output_type": "stream",
     "text": [
      "       SBP    DBP  Pulse  Temperature  Level\n",
      "0    False  False  False        False  False\n",
      "1    False  False  False        False  False\n",
      "2    False  False  False        False  False\n",
      "3    False  False  False        False  False\n",
      "4    False  False  False        False  False\n",
      "..     ...    ...    ...          ...    ...\n",
      "144  False  False  False        False  False\n",
      "145  False  False  False        False  False\n",
      "146  False  False  False        False  False\n",
      "147  False  False  False        False  False\n",
      "148  False  False  False        False  False\n",
      "\n",
      "[149 rows x 5 columns]\n"
     ]
    },
    {
     "ename": "TypeError",
     "evalue": "Cannot perform 'ror_' with a dtyped [bool] array and scalar of type [NoneType]",
     "output_type": "error",
     "traceback": [
      "\u001b[1;31m---------------------------------------------------------------------------\u001b[0m",
      "\u001b[1;31mTypeError\u001b[0m                                 Traceback (most recent call last)",
      "\u001b[1;32m~\\anaconda3\\lib\\site-packages\\pandas\\core\\ops\\array_ops.py\u001b[0m in \u001b[0;36mna_logical_op\u001b[1;34m(x, y, op)\u001b[0m\n\u001b[0;32m    273\u001b[0m         \u001b[1;31m#  (xint or xbool) and (yint or bool)\u001b[0m\u001b[1;33m\u001b[0m\u001b[1;33m\u001b[0m\u001b[1;33m\u001b[0m\u001b[0m\n\u001b[1;32m--> 274\u001b[1;33m         \u001b[0mresult\u001b[0m \u001b[1;33m=\u001b[0m \u001b[0mop\u001b[0m\u001b[1;33m(\u001b[0m\u001b[0mx\u001b[0m\u001b[1;33m,\u001b[0m \u001b[0my\u001b[0m\u001b[1;33m)\u001b[0m\u001b[1;33m\u001b[0m\u001b[1;33m\u001b[0m\u001b[0m\n\u001b[0m\u001b[0;32m    275\u001b[0m     \u001b[1;32mexcept\u001b[0m \u001b[0mTypeError\u001b[0m\u001b[1;33m:\u001b[0m\u001b[1;33m\u001b[0m\u001b[1;33m\u001b[0m\u001b[0m\n",
      "\u001b[1;32m~\\anaconda3\\lib\\site-packages\\pandas\\core\\ops\\roperator.py\u001b[0m in \u001b[0;36mror_\u001b[1;34m(left, right)\u001b[0m\n\u001b[0;32m     55\u001b[0m \u001b[1;32mdef\u001b[0m \u001b[0mror_\u001b[0m\u001b[1;33m(\u001b[0m\u001b[0mleft\u001b[0m\u001b[1;33m,\u001b[0m \u001b[0mright\u001b[0m\u001b[1;33m)\u001b[0m\u001b[1;33m:\u001b[0m\u001b[1;33m\u001b[0m\u001b[1;33m\u001b[0m\u001b[0m\n\u001b[1;32m---> 56\u001b[1;33m     \u001b[1;32mreturn\u001b[0m \u001b[0moperator\u001b[0m\u001b[1;33m.\u001b[0m\u001b[0mor_\u001b[0m\u001b[1;33m(\u001b[0m\u001b[0mright\u001b[0m\u001b[1;33m,\u001b[0m \u001b[0mleft\u001b[0m\u001b[1;33m)\u001b[0m\u001b[1;33m\u001b[0m\u001b[1;33m\u001b[0m\u001b[0m\n\u001b[0m\u001b[0;32m     57\u001b[0m \u001b[1;33m\u001b[0m\u001b[0m\n",
      "\u001b[1;31mTypeError\u001b[0m: unsupported operand type(s) for |: 'NoneType' and 'bool'",
      "\nDuring handling of the above exception, another exception occurred:\n",
      "\u001b[1;31mValueError\u001b[0m                                Traceback (most recent call last)",
      "\u001b[1;32m~\\anaconda3\\lib\\site-packages\\pandas\\core\\ops\\array_ops.py\u001b[0m in \u001b[0;36mna_logical_op\u001b[1;34m(x, y, op)\u001b[0m\n\u001b[0;32m    287\u001b[0m             \u001b[1;32mtry\u001b[0m\u001b[1;33m:\u001b[0m\u001b[1;33m\u001b[0m\u001b[1;33m\u001b[0m\u001b[0m\n\u001b[1;32m--> 288\u001b[1;33m                 \u001b[0mresult\u001b[0m \u001b[1;33m=\u001b[0m \u001b[0mlibops\u001b[0m\u001b[1;33m.\u001b[0m\u001b[0mscalar_binop\u001b[0m\u001b[1;33m(\u001b[0m\u001b[0mx\u001b[0m\u001b[1;33m,\u001b[0m \u001b[0my\u001b[0m\u001b[1;33m,\u001b[0m \u001b[0mop\u001b[0m\u001b[1;33m)\u001b[0m\u001b[1;33m\u001b[0m\u001b[1;33m\u001b[0m\u001b[0m\n\u001b[0m\u001b[0;32m    289\u001b[0m             except (\n",
      "\u001b[1;32mpandas\\_libs\\ops.pyx\u001b[0m in \u001b[0;36mpandas._libs.ops.scalar_binop\u001b[1;34m()\u001b[0m\n",
      "\u001b[1;31mValueError\u001b[0m: Buffer has wrong number of dimensions (expected 1, got 2)",
      "\nDuring handling of the above exception, another exception occurred:\n",
      "\u001b[1;31mTypeError\u001b[0m                                 Traceback (most recent call last)",
      "\u001b[1;32m<ipython-input-95-a02a94f243ef>\u001b[0m in \u001b[0;36m<module>\u001b[1;34m\u001b[0m\n\u001b[1;32m----> 1\u001b[1;33m \u001b[0mprint\u001b[0m\u001b[1;33m(\u001b[0m\u001b[0mdf\u001b[0m \u001b[1;33m<\u001b[0m \u001b[1;33m(\u001b[0m\u001b[0mQ1\u001b[0m \u001b[1;33m-\u001b[0m \u001b[1;36m1.5\u001b[0m \u001b[1;33m*\u001b[0m \u001b[0mIQR\u001b[0m\u001b[1;33m)\u001b[0m\u001b[1;33m)\u001b[0m \u001b[1;33m|\u001b[0m\u001b[1;33m(\u001b[0m\u001b[0mdf\u001b[0m \u001b[1;33m>\u001b[0m \u001b[1;33m(\u001b[0m\u001b[0mQ3\u001b[0m \u001b[1;33m+\u001b[0m \u001b[1;36m1.5\u001b[0m \u001b[1;33m*\u001b[0m \u001b[0mIQR\u001b[0m\u001b[1;33m)\u001b[0m\u001b[1;33m)\u001b[0m\u001b[1;33m\u001b[0m\u001b[1;33m\u001b[0m\u001b[0m\n\u001b[0m",
      "\u001b[1;32m~\\anaconda3\\lib\\site-packages\\pandas\\core\\ops\\__init__.py\u001b[0m in \u001b[0;36mf\u001b[1;34m(self, other, axis, level, fill_value)\u001b[0m\n\u001b[0;32m    717\u001b[0m                 \u001b[0mself\u001b[0m \u001b[1;33m=\u001b[0m \u001b[0mself\u001b[0m\u001b[1;33m.\u001b[0m\u001b[0mfillna\u001b[0m\u001b[1;33m(\u001b[0m\u001b[0mfill_value\u001b[0m\u001b[1;33m)\u001b[0m\u001b[1;33m\u001b[0m\u001b[1;33m\u001b[0m\u001b[0m\n\u001b[0;32m    718\u001b[0m \u001b[1;33m\u001b[0m\u001b[0m\n\u001b[1;32m--> 719\u001b[1;33m             \u001b[0mnew_data\u001b[0m \u001b[1;33m=\u001b[0m \u001b[0mdispatch_to_series\u001b[0m\u001b[1;33m(\u001b[0m\u001b[0mself\u001b[0m\u001b[1;33m,\u001b[0m \u001b[0mother\u001b[0m\u001b[1;33m,\u001b[0m \u001b[0mop\u001b[0m\u001b[1;33m,\u001b[0m \u001b[0mstr_rep\u001b[0m\u001b[1;33m)\u001b[0m\u001b[1;33m\u001b[0m\u001b[1;33m\u001b[0m\u001b[0m\n\u001b[0m\u001b[0;32m    720\u001b[0m             \u001b[1;32mreturn\u001b[0m \u001b[0mself\u001b[0m\u001b[1;33m.\u001b[0m\u001b[0m_construct_result\u001b[0m\u001b[1;33m(\u001b[0m\u001b[0mnew_data\u001b[0m\u001b[1;33m)\u001b[0m\u001b[1;33m\u001b[0m\u001b[1;33m\u001b[0m\u001b[0m\n\u001b[0;32m    721\u001b[0m \u001b[1;33m\u001b[0m\u001b[0m\n",
      "\u001b[1;32m~\\anaconda3\\lib\\site-packages\\pandas\\core\\ops\\__init__.py\u001b[0m in \u001b[0;36mdispatch_to_series\u001b[1;34m(left, right, func, str_rep, axis)\u001b[0m\n\u001b[0;32m    376\u001b[0m         \u001b[1;31m# Get the appropriate array-op to apply to each block's values.\u001b[0m\u001b[1;33m\u001b[0m\u001b[1;33m\u001b[0m\u001b[1;33m\u001b[0m\u001b[0m\n\u001b[0;32m    377\u001b[0m         \u001b[0marray_op\u001b[0m \u001b[1;33m=\u001b[0m \u001b[0mget_array_op\u001b[0m\u001b[1;33m(\u001b[0m\u001b[0mfunc\u001b[0m\u001b[1;33m,\u001b[0m \u001b[0mstr_rep\u001b[0m\u001b[1;33m=\u001b[0m\u001b[0mstr_rep\u001b[0m\u001b[1;33m)\u001b[0m\u001b[1;33m\u001b[0m\u001b[1;33m\u001b[0m\u001b[0m\n\u001b[1;32m--> 378\u001b[1;33m         \u001b[0mbm\u001b[0m \u001b[1;33m=\u001b[0m \u001b[0mleft\u001b[0m\u001b[1;33m.\u001b[0m\u001b[0m_data\u001b[0m\u001b[1;33m.\u001b[0m\u001b[0mapply\u001b[0m\u001b[1;33m(\u001b[0m\u001b[0marray_op\u001b[0m\u001b[1;33m,\u001b[0m \u001b[0mright\u001b[0m\u001b[1;33m=\u001b[0m\u001b[0mright\u001b[0m\u001b[1;33m)\u001b[0m\u001b[1;33m\u001b[0m\u001b[1;33m\u001b[0m\u001b[0m\n\u001b[0m\u001b[0;32m    379\u001b[0m         \u001b[1;32mreturn\u001b[0m \u001b[0mtype\u001b[0m\u001b[1;33m(\u001b[0m\u001b[0mleft\u001b[0m\u001b[1;33m)\u001b[0m\u001b[1;33m(\u001b[0m\u001b[0mbm\u001b[0m\u001b[1;33m)\u001b[0m\u001b[1;33m\u001b[0m\u001b[1;33m\u001b[0m\u001b[0m\n\u001b[0;32m    380\u001b[0m \u001b[1;33m\u001b[0m\u001b[0m\n",
      "\u001b[1;32m~\\anaconda3\\lib\\site-packages\\pandas\\core\\internals\\managers.py\u001b[0m in \u001b[0;36mapply\u001b[1;34m(self, f, filter, **kwargs)\u001b[0m\n\u001b[0;32m    438\u001b[0m \u001b[1;33m\u001b[0m\u001b[0m\n\u001b[0;32m    439\u001b[0m             \u001b[1;32mif\u001b[0m \u001b[0mcallable\u001b[0m\u001b[1;33m(\u001b[0m\u001b[0mf\u001b[0m\u001b[1;33m)\u001b[0m\u001b[1;33m:\u001b[0m\u001b[1;33m\u001b[0m\u001b[1;33m\u001b[0m\u001b[0m\n\u001b[1;32m--> 440\u001b[1;33m                 \u001b[0mapplied\u001b[0m \u001b[1;33m=\u001b[0m \u001b[0mb\u001b[0m\u001b[1;33m.\u001b[0m\u001b[0mapply\u001b[0m\u001b[1;33m(\u001b[0m\u001b[0mf\u001b[0m\u001b[1;33m,\u001b[0m \u001b[1;33m**\u001b[0m\u001b[0mkwargs\u001b[0m\u001b[1;33m)\u001b[0m\u001b[1;33m\u001b[0m\u001b[1;33m\u001b[0m\u001b[0m\n\u001b[0m\u001b[0;32m    441\u001b[0m             \u001b[1;32melse\u001b[0m\u001b[1;33m:\u001b[0m\u001b[1;33m\u001b[0m\u001b[1;33m\u001b[0m\u001b[0m\n\u001b[0;32m    442\u001b[0m                 \u001b[0mapplied\u001b[0m \u001b[1;33m=\u001b[0m \u001b[0mgetattr\u001b[0m\u001b[1;33m(\u001b[0m\u001b[0mb\u001b[0m\u001b[1;33m,\u001b[0m \u001b[0mf\u001b[0m\u001b[1;33m)\u001b[0m\u001b[1;33m(\u001b[0m\u001b[1;33m**\u001b[0m\u001b[0mkwargs\u001b[0m\u001b[1;33m)\u001b[0m\u001b[1;33m\u001b[0m\u001b[1;33m\u001b[0m\u001b[0m\n",
      "\u001b[1;32m~\\anaconda3\\lib\\site-packages\\pandas\\core\\internals\\blocks.py\u001b[0m in \u001b[0;36mapply\u001b[1;34m(self, func, **kwargs)\u001b[0m\n\u001b[0;32m    388\u001b[0m         \"\"\"\n\u001b[0;32m    389\u001b[0m         \u001b[1;32mwith\u001b[0m \u001b[0mnp\u001b[0m\u001b[1;33m.\u001b[0m\u001b[0merrstate\u001b[0m\u001b[1;33m(\u001b[0m\u001b[0mall\u001b[0m\u001b[1;33m=\u001b[0m\u001b[1;34m\"ignore\"\u001b[0m\u001b[1;33m)\u001b[0m\u001b[1;33m:\u001b[0m\u001b[1;33m\u001b[0m\u001b[1;33m\u001b[0m\u001b[0m\n\u001b[1;32m--> 390\u001b[1;33m             \u001b[0mresult\u001b[0m \u001b[1;33m=\u001b[0m \u001b[0mfunc\u001b[0m\u001b[1;33m(\u001b[0m\u001b[0mself\u001b[0m\u001b[1;33m.\u001b[0m\u001b[0mvalues\u001b[0m\u001b[1;33m,\u001b[0m \u001b[1;33m**\u001b[0m\u001b[0mkwargs\u001b[0m\u001b[1;33m)\u001b[0m\u001b[1;33m\u001b[0m\u001b[1;33m\u001b[0m\u001b[0m\n\u001b[0m\u001b[0;32m    391\u001b[0m \u001b[1;33m\u001b[0m\u001b[0m\n\u001b[0;32m    392\u001b[0m         \u001b[1;32mif\u001b[0m \u001b[0mis_extension_array_dtype\u001b[0m\u001b[1;33m(\u001b[0m\u001b[0mresult\u001b[0m\u001b[1;33m)\u001b[0m \u001b[1;32mand\u001b[0m \u001b[0mresult\u001b[0m\u001b[1;33m.\u001b[0m\u001b[0mndim\u001b[0m \u001b[1;33m>\u001b[0m \u001b[1;36m1\u001b[0m\u001b[1;33m:\u001b[0m\u001b[1;33m\u001b[0m\u001b[1;33m\u001b[0m\u001b[0m\n",
      "\u001b[1;32m~\\anaconda3\\lib\\site-packages\\pandas\\core\\ops\\array_ops.py\u001b[0m in \u001b[0;36mlogical_op\u001b[1;34m(left, right, op)\u001b[0m\n\u001b[0;32m    364\u001b[0m         \u001b[0mfiller\u001b[0m \u001b[1;33m=\u001b[0m \u001b[0mfill_int\u001b[0m \u001b[1;32mif\u001b[0m \u001b[0mis_self_int_dtype\u001b[0m \u001b[1;32mand\u001b[0m \u001b[0mis_other_int_dtype\u001b[0m \u001b[1;32melse\u001b[0m \u001b[0mfill_bool\u001b[0m\u001b[1;33m\u001b[0m\u001b[1;33m\u001b[0m\u001b[0m\n\u001b[0;32m    365\u001b[0m \u001b[1;33m\u001b[0m\u001b[0m\n\u001b[1;32m--> 366\u001b[1;33m         \u001b[0mres_values\u001b[0m \u001b[1;33m=\u001b[0m \u001b[0mna_logical_op\u001b[0m\u001b[1;33m(\u001b[0m\u001b[0mlvalues\u001b[0m\u001b[1;33m,\u001b[0m \u001b[0mrvalues\u001b[0m\u001b[1;33m,\u001b[0m \u001b[0mop\u001b[0m\u001b[1;33m)\u001b[0m\u001b[1;33m\u001b[0m\u001b[1;33m\u001b[0m\u001b[0m\n\u001b[0m\u001b[0;32m    367\u001b[0m         \u001b[0mres_values\u001b[0m \u001b[1;33m=\u001b[0m \u001b[0mfiller\u001b[0m\u001b[1;33m(\u001b[0m\u001b[0mres_values\u001b[0m\u001b[1;33m)\u001b[0m  \u001b[1;31m# type: ignore\u001b[0m\u001b[1;33m\u001b[0m\u001b[1;33m\u001b[0m\u001b[0m\n\u001b[0;32m    368\u001b[0m \u001b[1;33m\u001b[0m\u001b[0m\n",
      "\u001b[1;32m~\\anaconda3\\lib\\site-packages\\pandas\\core\\ops\\array_ops.py\u001b[0m in \u001b[0;36mna_logical_op\u001b[1;34m(x, y, op)\u001b[0m\n\u001b[0;32m    296\u001b[0m                 \u001b[0mtyp\u001b[0m \u001b[1;33m=\u001b[0m \u001b[0mtype\u001b[0m\u001b[1;33m(\u001b[0m\u001b[0my\u001b[0m\u001b[1;33m)\u001b[0m\u001b[1;33m.\u001b[0m\u001b[0m__name__\u001b[0m\u001b[1;33m\u001b[0m\u001b[1;33m\u001b[0m\u001b[0m\n\u001b[0;32m    297\u001b[0m                 raise TypeError(\n\u001b[1;32m--> 298\u001b[1;33m                     \u001b[1;34mf\"Cannot perform '{op.__name__}' with a dtyped [{x.dtype}] array \"\u001b[0m\u001b[1;33m\u001b[0m\u001b[1;33m\u001b[0m\u001b[0m\n\u001b[0m\u001b[0;32m    299\u001b[0m                     \u001b[1;34mf\"and scalar of type [{typ}]\"\u001b[0m\u001b[1;33m\u001b[0m\u001b[1;33m\u001b[0m\u001b[0m\n\u001b[0;32m    300\u001b[0m                 )\n",
      "\u001b[1;31mTypeError\u001b[0m: Cannot perform 'ror_' with a dtyped [bool] array and scalar of type [NoneType]"
     ]
    }
   ],
   "source": [
    "print(df < (Q1 - 1.5 * IQR)) |(df > (Q3 + 1.5 * IQR))"
   ]
  },
  {
   "cell_type": "code",
   "execution_count": 96,
   "metadata": {},
   "outputs": [],
   "source": [
    "#Get clean data by removing or filtering the outliers\n",
    "health_df_o = df[(z < 3).all(axis=1)]"
   ]
  },
  {
   "cell_type": "code",
   "execution_count": 97,
   "metadata": {},
   "outputs": [
    {
     "data": {
      "text/html": [
       "<div>\n",
       "<style scoped>\n",
       "    .dataframe tbody tr th:only-of-type {\n",
       "        vertical-align: middle;\n",
       "    }\n",
       "\n",
       "    .dataframe tbody tr th {\n",
       "        vertical-align: top;\n",
       "    }\n",
       "\n",
       "    .dataframe thead th {\n",
       "        text-align: right;\n",
       "    }\n",
       "</style>\n",
       "<table border=\"1\" class=\"dataframe\">\n",
       "  <thead>\n",
       "    <tr style=\"text-align: right;\">\n",
       "      <th></th>\n",
       "      <th>SBP</th>\n",
       "      <th>DBP</th>\n",
       "      <th>Pulse</th>\n",
       "      <th>Temperature</th>\n",
       "      <th>Level</th>\n",
       "    </tr>\n",
       "  </thead>\n",
       "  <tbody>\n",
       "    <tr>\n",
       "      <th>0</th>\n",
       "      <td>120</td>\n",
       "      <td>80</td>\n",
       "      <td>80</td>\n",
       "      <td>98</td>\n",
       "      <td>0</td>\n",
       "    </tr>\n",
       "    <tr>\n",
       "      <th>1</th>\n",
       "      <td>140</td>\n",
       "      <td>83</td>\n",
       "      <td>75</td>\n",
       "      <td>100</td>\n",
       "      <td>1</td>\n",
       "    </tr>\n",
       "    <tr>\n",
       "      <th>3</th>\n",
       "      <td>115</td>\n",
       "      <td>82</td>\n",
       "      <td>79</td>\n",
       "      <td>97</td>\n",
       "      <td>0</td>\n",
       "    </tr>\n",
       "    <tr>\n",
       "      <th>4</th>\n",
       "      <td>119</td>\n",
       "      <td>79</td>\n",
       "      <td>85</td>\n",
       "      <td>102</td>\n",
       "      <td>1</td>\n",
       "    </tr>\n",
       "    <tr>\n",
       "      <th>5</th>\n",
       "      <td>95</td>\n",
       "      <td>65</td>\n",
       "      <td>75</td>\n",
       "      <td>101</td>\n",
       "      <td>2</td>\n",
       "    </tr>\n",
       "    <tr>\n",
       "      <th>...</th>\n",
       "      <td>...</td>\n",
       "      <td>...</td>\n",
       "      <td>...</td>\n",
       "      <td>...</td>\n",
       "      <td>...</td>\n",
       "    </tr>\n",
       "    <tr>\n",
       "      <th>144</th>\n",
       "      <td>154</td>\n",
       "      <td>99</td>\n",
       "      <td>83</td>\n",
       "      <td>103</td>\n",
       "      <td>2</td>\n",
       "    </tr>\n",
       "    <tr>\n",
       "      <th>145</th>\n",
       "      <td>118</td>\n",
       "      <td>77</td>\n",
       "      <td>73</td>\n",
       "      <td>98</td>\n",
       "      <td>0</td>\n",
       "    </tr>\n",
       "    <tr>\n",
       "      <th>146</th>\n",
       "      <td>125</td>\n",
       "      <td>87</td>\n",
       "      <td>79</td>\n",
       "      <td>102</td>\n",
       "      <td>1</td>\n",
       "    </tr>\n",
       "    <tr>\n",
       "      <th>147</th>\n",
       "      <td>132</td>\n",
       "      <td>88</td>\n",
       "      <td>78</td>\n",
       "      <td>101</td>\n",
       "      <td>1</td>\n",
       "    </tr>\n",
       "    <tr>\n",
       "      <th>148</th>\n",
       "      <td>118</td>\n",
       "      <td>82</td>\n",
       "      <td>74</td>\n",
       "      <td>98</td>\n",
       "      <td>0</td>\n",
       "    </tr>\n",
       "  </tbody>\n",
       "</table>\n",
       "<p>148 rows × 5 columns</p>\n",
       "</div>"
      ],
      "text/plain": [
       "     SBP  DBP  Pulse  Temperature  Level\n",
       "0    120   80     80           98      0\n",
       "1    140   83     75          100      1\n",
       "3    115   82     79           97      0\n",
       "4    119   79     85          102      1\n",
       "5     95   65     75          101      2\n",
       "..   ...  ...    ...          ...    ...\n",
       "144  154   99     83          103      2\n",
       "145  118   77     73           98      0\n",
       "146  125   87     79          102      1\n",
       "147  132   88     78          101      1\n",
       "148  118   82     74           98      0\n",
       "\n",
       "[148 rows x 5 columns]"
      ]
     },
     "execution_count": 97,
     "metadata": {},
     "output_type": "execute_result"
    }
   ],
   "source": [
    "health_df_o"
   ]
  },
  {
   "cell_type": "code",
   "execution_count": 98,
   "metadata": {},
   "outputs": [
    {
     "data": {
      "text/plain": [
       "(149, 5)"
      ]
     },
     "execution_count": 98,
     "metadata": {},
     "output_type": "execute_result"
    }
   ],
   "source": [
    "df.shape"
   ]
  },
  {
   "cell_type": "code",
   "execution_count": 99,
   "metadata": {},
   "outputs": [
    {
     "data": {
      "text/plain": [
       "(148, 5)"
      ]
     },
     "execution_count": 99,
     "metadata": {},
     "output_type": "execute_result"
    }
   ],
   "source": [
    "health_df_o.shape"
   ]
  },
  {
   "cell_type": "code",
   "execution_count": 100,
   "metadata": {},
   "outputs": [],
   "source": [
    "#Use IQR score to filterout the outliers to keep only valid values"
   ]
  },
  {
   "cell_type": "code",
   "execution_count": 101,
   "metadata": {},
   "outputs": [
    {
     "data": {
      "text/plain": [
       "(142, 5)"
      ]
     },
     "execution_count": 101,
     "metadata": {},
     "output_type": "execute_result"
    }
   ],
   "source": [
    "df = df[~((df < (Q1 - 1.5 * IQR)) |(df > (Q3 + 1.5 * IQR))).any(axis=1)]\n",
    "df.shape"
   ]
  },
  {
   "cell_type": "markdown",
   "metadata": {},
   "source": [
    "# Label Encoding and one Hot Encoding"
   ]
  },
  {
   "cell_type": "code",
   "execution_count": 102,
   "metadata": {},
   "outputs": [],
   "source": [
    "#it is not possible to perform label and one hot encoding because there is no textual data present in the given dataset"
   ]
  },
  {
   "cell_type": "markdown",
   "metadata": {},
   "source": [
    "# Feature Scalling"
   ]
  },
  {
   "cell_type": "code",
   "execution_count": 103,
   "metadata": {},
   "outputs": [],
   "source": [
    "x=df.iloc[:,0:4]\n",
    "y=df.iloc[:,4]"
   ]
  },
  {
   "cell_type": "code",
   "execution_count": 104,
   "metadata": {},
   "outputs": [
    {
     "data": {
      "text/html": [
       "<div>\n",
       "<style scoped>\n",
       "    .dataframe tbody tr th:only-of-type {\n",
       "        vertical-align: middle;\n",
       "    }\n",
       "\n",
       "    .dataframe tbody tr th {\n",
       "        vertical-align: top;\n",
       "    }\n",
       "\n",
       "    .dataframe thead th {\n",
       "        text-align: right;\n",
       "    }\n",
       "</style>\n",
       "<table border=\"1\" class=\"dataframe\">\n",
       "  <thead>\n",
       "    <tr style=\"text-align: right;\">\n",
       "      <th></th>\n",
       "      <th>SBP</th>\n",
       "      <th>DBP</th>\n",
       "      <th>Pulse</th>\n",
       "      <th>Temperature</th>\n",
       "    </tr>\n",
       "  </thead>\n",
       "  <tbody>\n",
       "    <tr>\n",
       "      <th>0</th>\n",
       "      <td>120</td>\n",
       "      <td>80</td>\n",
       "      <td>80</td>\n",
       "      <td>98</td>\n",
       "    </tr>\n",
       "    <tr>\n",
       "      <th>1</th>\n",
       "      <td>140</td>\n",
       "      <td>83</td>\n",
       "      <td>75</td>\n",
       "      <td>100</td>\n",
       "    </tr>\n",
       "    <tr>\n",
       "      <th>3</th>\n",
       "      <td>115</td>\n",
       "      <td>82</td>\n",
       "      <td>79</td>\n",
       "      <td>97</td>\n",
       "    </tr>\n",
       "    <tr>\n",
       "      <th>4</th>\n",
       "      <td>119</td>\n",
       "      <td>79</td>\n",
       "      <td>85</td>\n",
       "      <td>102</td>\n",
       "    </tr>\n",
       "    <tr>\n",
       "      <th>5</th>\n",
       "      <td>95</td>\n",
       "      <td>65</td>\n",
       "      <td>75</td>\n",
       "      <td>101</td>\n",
       "    </tr>\n",
       "    <tr>\n",
       "      <th>...</th>\n",
       "      <td>...</td>\n",
       "      <td>...</td>\n",
       "      <td>...</td>\n",
       "      <td>...</td>\n",
       "    </tr>\n",
       "    <tr>\n",
       "      <th>144</th>\n",
       "      <td>154</td>\n",
       "      <td>99</td>\n",
       "      <td>83</td>\n",
       "      <td>103</td>\n",
       "    </tr>\n",
       "    <tr>\n",
       "      <th>145</th>\n",
       "      <td>118</td>\n",
       "      <td>77</td>\n",
       "      <td>73</td>\n",
       "      <td>98</td>\n",
       "    </tr>\n",
       "    <tr>\n",
       "      <th>146</th>\n",
       "      <td>125</td>\n",
       "      <td>87</td>\n",
       "      <td>79</td>\n",
       "      <td>102</td>\n",
       "    </tr>\n",
       "    <tr>\n",
       "      <th>147</th>\n",
       "      <td>132</td>\n",
       "      <td>88</td>\n",
       "      <td>78</td>\n",
       "      <td>101</td>\n",
       "    </tr>\n",
       "    <tr>\n",
       "      <th>148</th>\n",
       "      <td>118</td>\n",
       "      <td>82</td>\n",
       "      <td>74</td>\n",
       "      <td>98</td>\n",
       "    </tr>\n",
       "  </tbody>\n",
       "</table>\n",
       "<p>142 rows × 4 columns</p>\n",
       "</div>"
      ],
      "text/plain": [
       "     SBP  DBP  Pulse  Temperature\n",
       "0    120   80     80           98\n",
       "1    140   83     75          100\n",
       "3    115   82     79           97\n",
       "4    119   79     85          102\n",
       "5     95   65     75          101\n",
       "..   ...  ...    ...          ...\n",
       "144  154   99     83          103\n",
       "145  118   77     73           98\n",
       "146  125   87     79          102\n",
       "147  132   88     78          101\n",
       "148  118   82     74           98\n",
       "\n",
       "[142 rows x 4 columns]"
      ]
     },
     "execution_count": 104,
     "metadata": {},
     "output_type": "execute_result"
    }
   ],
   "source": [
    "x"
   ]
  },
  {
   "cell_type": "code",
   "execution_count": 105,
   "metadata": {},
   "outputs": [
    {
     "data": {
      "text/plain": [
       "0      0\n",
       "1      1\n",
       "3      0\n",
       "4      1\n",
       "5      2\n",
       "      ..\n",
       "144    2\n",
       "145    0\n",
       "146    1\n",
       "147    1\n",
       "148    0\n",
       "Name: Level, Length: 142, dtype: int64"
      ]
     },
     "execution_count": 105,
     "metadata": {},
     "output_type": "execute_result"
    }
   ],
   "source": [
    "y"
   ]
  },
  {
   "cell_type": "code",
   "execution_count": 106,
   "metadata": {},
   "outputs": [
    {
     "data": {
      "text/plain": [
       "array([[0.42372881, 0.46153846, 0.7826087 , 0.3       ],\n",
       "       [0.76271186, 0.53846154, 0.56521739, 0.5       ],\n",
       "       [0.33898305, 0.51282051, 0.73913043, 0.2       ],\n",
       "       [0.40677966, 0.43589744, 1.        , 0.7       ],\n",
       "       [0.        , 0.07692308, 0.56521739, 0.6       ],\n",
       "       [0.3559322 , 0.33333333, 0.34782609, 0.4       ],\n",
       "       [0.40677966, 0.41025641, 0.26086957, 0.5       ],\n",
       "       [0.25423729, 0.17948718, 0.13043478, 0.7       ],\n",
       "       [0.37288136, 0.28205128, 0.60869565, 0.4       ],\n",
       "       [0.59322034, 0.66666667, 0.95652174, 0.6       ],\n",
       "       [0.84745763, 0.71794872, 0.86956522, 0.9       ],\n",
       "       [0.38983051, 0.33333333, 0.56521739, 0.4       ],\n",
       "       [0.3220339 , 0.35897436, 0.30434783, 0.3       ],\n",
       "       [0.62711864, 0.69230769, 0.60869565, 0.6       ],\n",
       "       [0.6779661 , 0.64102564, 0.60869565, 0.5       ],\n",
       "       [0.76271186, 0.74358974, 0.7826087 , 0.7       ],\n",
       "       [0.40677966, 0.41025641, 0.34782609, 0.4       ],\n",
       "       [0.3559322 , 0.38461538, 0.52173913, 0.3       ],\n",
       "       [0.18644068, 0.15384615, 0.73913043, 0.8       ],\n",
       "       [0.57627119, 0.69230769, 0.86956522, 0.5       ],\n",
       "       [0.52542373, 0.71794872, 0.7826087 , 0.6       ],\n",
       "       [0.88135593, 0.84615385, 0.95652174, 0.9       ],\n",
       "       [0.3559322 , 0.41025641, 0.34782609, 0.3       ],\n",
       "       [0.38983051, 0.35897436, 0.26086957, 0.4       ],\n",
       "       [0.55932203, 0.64102564, 0.7826087 , 0.5       ],\n",
       "       [0.59322034, 0.58974359, 0.86956522, 0.6       ],\n",
       "       [0.89830508, 0.76923077, 0.95652174, 0.9       ],\n",
       "       [0.08474576, 0.07692308, 0.        , 0.        ],\n",
       "       [0.40677966, 0.41025641, 0.52173913, 0.3       ],\n",
       "       [0.37288136, 0.43589744, 0.60869565, 0.4       ],\n",
       "       [0.3559322 , 0.46153846, 0.52173913, 0.3       ],\n",
       "       [0.33898305, 0.41025641, 0.26086957, 0.4       ],\n",
       "       [0.52542373, 0.58974359, 0.73913043, 0.5       ],\n",
       "       [0.54237288, 0.69230769, 0.7826087 , 0.3       ],\n",
       "       [0.55932203, 0.66666667, 0.73913043, 0.6       ],\n",
       "       [0.42372881, 0.41025641, 0.34782609, 1.        ],\n",
       "       [0.08474576, 0.07692308, 0.73913043, 0.5       ],\n",
       "       [0.40677966, 0.35897436, 0.43478261, 0.3       ],\n",
       "       [0.38983051, 0.43589744, 0.34782609, 0.4       ],\n",
       "       [0.37288136, 0.41025641, 0.56521739, 0.3       ],\n",
       "       [0.84745763, 0.76923077, 0.86956522, 0.6       ],\n",
       "       [0.86440678, 0.71794872, 0.7826087 , 0.9       ],\n",
       "       [0.54237288, 0.58974359, 0.73913043, 0.5       ],\n",
       "       [0.52542373, 0.66666667, 0.69565217, 0.3       ],\n",
       "       [0.42372881, 0.35897436, 0.34782609, 0.3       ],\n",
       "       [0.38983051, 0.43589744, 0.60869565, 0.5       ],\n",
       "       [0.76271186, 0.94871795, 1.        , 0.7       ],\n",
       "       [0.55932203, 0.66666667, 0.65217391, 0.3       ],\n",
       "       [0.52542373, 0.64102564, 0.60869565, 0.4       ],\n",
       "       [0.40677966, 0.41025641, 0.34782609, 0.3       ],\n",
       "       [0.38983051, 0.38461538, 0.56521739, 0.4       ],\n",
       "       [0.15254237, 0.15384615, 0.73913043, 0.6       ],\n",
       "       [0.08474576, 0.05128205, 0.30434783, 0.9       ],\n",
       "       [0.79661017, 0.79487179, 0.7826087 , 0.7       ],\n",
       "       [0.52542373, 0.58974359, 0.73913043, 0.4       ],\n",
       "       [0.54237288, 0.56410256, 0.56521739, 0.5       ],\n",
       "       [0.38983051, 0.48717949, 0.43478261, 0.3       ],\n",
       "       [0.42372881, 0.41025641, 0.34782609, 0.4       ],\n",
       "       [0.40677966, 0.46153846, 0.56521739, 0.3       ],\n",
       "       [0.38983051, 0.41025641, 0.30434783, 0.3       ],\n",
       "       [0.54237288, 0.53846154, 0.73913043, 0.5       ],\n",
       "       [0.55932203, 0.61538462, 0.08695652, 0.6       ],\n",
       "       [0.91525424, 0.87179487, 0.86956522, 0.8       ],\n",
       "       [0.89830508, 0.84615385, 0.7826087 , 0.7       ],\n",
       "       [0.10169492, 0.15384615, 0.2173913 , 0.9       ],\n",
       "       [0.52542373, 0.58974359, 0.60869565, 0.5       ],\n",
       "       [0.54237288, 0.64102564, 0.69565217, 0.3       ],\n",
       "       [0.55932203, 0.66666667, 0.65217391, 0.4       ],\n",
       "       [0.42372881, 0.43589744, 0.56521739, 0.3       ],\n",
       "       [0.40677966, 0.41025641, 0.43478261, 0.3       ],\n",
       "       [0.38983051, 0.38461538, 0.34782609, 0.4       ],\n",
       "       [0.10169492, 0.12820513, 0.69565217, 0.5       ],\n",
       "       [0.15254237, 0.15384615, 0.73913043, 0.6       ],\n",
       "       [0.16949153, 0.17948718, 0.60869565, 0.4       ],\n",
       "       [0.08474576, 0.02564103, 0.7826087 , 0.8       ],\n",
       "       [0.3220339 , 0.41025641, 0.56521739, 0.3       ],\n",
       "       [0.3559322 , 0.43589744, 0.52173913, 0.3       ],\n",
       "       [0.37288136, 0.46153846, 0.47826087, 0.4       ],\n",
       "       [0.33898305, 0.41025641, 0.34782609, 0.3       ],\n",
       "       [0.93220339, 0.87179487, 0.86956522, 0.7       ],\n",
       "       [0.94915254, 0.84615385, 0.7826087 , 0.5       ],\n",
       "       [0.91525424, 0.82051282, 0.91304348, 0.4       ],\n",
       "       [0.49152542, 0.56410256, 0.60869565, 0.3       ],\n",
       "       [0.42372881, 0.46153846, 0.60869565, 0.3       ],\n",
       "       [0.40677966, 0.41025641, 0.34782609, 0.3       ],\n",
       "       [0.38983051, 0.35897436, 0.52173913, 0.3       ],\n",
       "       [0.37288136, 0.43589744, 0.47826087, 0.3       ],\n",
       "       [0.38983051, 0.43589744, 0.60869565, 1.        ],\n",
       "       [0.42372881, 0.46153846, 0.56521739, 1.        ],\n",
       "       [0.20338983, 0.07692308, 0.7826087 , 0.7       ],\n",
       "       [0.06779661, 0.1025641 , 0.73913043, 0.7       ],\n",
       "       [0.38983051, 0.43589744, 0.47826087, 0.4       ],\n",
       "       [0.61016949, 0.61538462, 0.60869565, 0.3       ],\n",
       "       [0.62711864, 0.64102564, 0.65217391, 0.3       ],\n",
       "       [0.62711864, 0.61538462, 0.56521739, 0.7       ],\n",
       "       [0.6440678 , 0.76923077, 0.73913043, 0.5       ],\n",
       "       [0.66101695, 0.64102564, 0.69565217, 0.4       ],\n",
       "       [0.6779661 , 0.69230769, 0.7826087 , 0.5       ],\n",
       "       [0.69491525, 0.71794872, 0.73913043, 0.6       ],\n",
       "       [0.10169492, 0.15384615, 0.34782609, 0.4       ],\n",
       "       [0.11864407, 0.12820513, 0.13043478, 0.6       ],\n",
       "       [0.06779661, 0.15384615, 0.17391304, 0.7       ],\n",
       "       [0.84745763, 0.97435897, 0.56521739, 0.5       ],\n",
       "       [0.86440678, 1.        , 0.86956522, 0.6       ],\n",
       "       [0.86440678, 0.84615385, 0.82608696, 0.5       ],\n",
       "       [0.96610169, 0.92307692, 0.56521739, 0.4       ],\n",
       "       [1.        , 0.94871795, 0.73913043, 0.5       ],\n",
       "       [0.38983051, 0.43589744, 0.39130435, 0.3       ],\n",
       "       [0.40677966, 0.35897436, 0.34782609, 0.4       ],\n",
       "       [0.42372881, 0.41025641, 0.30434783, 0.3       ],\n",
       "       [0.37288136, 0.43589744, 0.26086957, 0.3       ],\n",
       "       [0.3559322 , 0.46153846, 0.34782609, 0.3       ],\n",
       "       [0.40677966, 0.46153846, 0.47826087, 0.4       ],\n",
       "       [0.40677966, 0.43589744, 0.34782609, 0.3       ],\n",
       "       [0.50847458, 0.58974359, 0.56521739, 0.5       ],\n",
       "       [0.52542373, 0.64102564, 0.65217391, 0.6       ],\n",
       "       [0.55932203, 0.66666667, 0.73913043, 0.6       ],\n",
       "       [0.59322034, 0.58974359, 0.60869565, 0.5       ],\n",
       "       [0.89830508, 0.71794872, 0.60869565, 0.6       ],\n",
       "       [0.88135593, 0.76923077, 0.7826087 , 0.4       ],\n",
       "       [0.98305085, 1.        , 0.82608696, 0.7       ],\n",
       "       [0.94915254, 0.94871795, 0.86956522, 0.8       ],\n",
       "       [0.38983051, 0.41025641, 0.26086957, 0.3       ],\n",
       "       [0.40677966, 0.43589744, 0.34782609, 0.3       ],\n",
       "       [0.42372881, 0.41025641, 0.39130435, 0.4       ],\n",
       "       [0.40677966, 0.41025641, 0.52173913, 0.3       ],\n",
       "       [0.05084746, 0.05128205, 0.60869565, 0.3       ],\n",
       "       [0.15254237, 0.12820513, 0.95652174, 0.8       ],\n",
       "       [0.18644068, 0.        , 0.69565217, 0.7       ],\n",
       "       [0.59322034, 0.64102564, 0.60869565, 0.5       ],\n",
       "       [0.3559322 , 0.41025641, 0.47826087, 0.3       ],\n",
       "       [0.38983051, 0.43589744, 0.30434783, 0.3       ],\n",
       "       [0.37288136, 0.38461538, 0.52173913, 0.3       ],\n",
       "       [0.66101695, 0.61538462, 0.69565217, 0.5       ],\n",
       "       [0.69491525, 0.64102564, 0.7826087 , 0.6       ],\n",
       "       [0.74576271, 0.66666667, 0.82608696, 0.5       ],\n",
       "       [0.88135593, 0.82051282, 0.73913043, 0.5       ],\n",
       "       [1.        , 0.94871795, 0.91304348, 0.8       ],\n",
       "       [0.38983051, 0.38461538, 0.47826087, 0.3       ],\n",
       "       [0.50847458, 0.64102564, 0.73913043, 0.7       ],\n",
       "       [0.62711864, 0.66666667, 0.69565217, 0.6       ],\n",
       "       [0.38983051, 0.51282051, 0.52173913, 0.3       ]])"
      ]
     },
     "execution_count": 106,
     "metadata": {},
     "output_type": "execute_result"
    }
   ],
   "source": [
    "#Apply normalization to rescale the features to a standard range of values.\n",
    "#Normalize the numeric variables from column2 to column 4 in the dataframe\n",
    "minmax=preprocessing.MinMaxScaler(feature_range=(0,1))\n",
    "minmax.fit(x).transform(x)"
   ]
  },
  {
   "cell_type": "markdown",
   "metadata": {},
   "source": [
    "# Training and Testing"
   ]
  },
  {
   "cell_type": "code",
   "execution_count": 107,
   "metadata": {},
   "outputs": [],
   "source": [
    "#Splitting the dataset into Training set and Test set\n",
    "from sklearn import model_selection, neighbors\n",
    "from sklearn.model_selection import train_test_split\n",
    "x_train, x_test, y_train, y_test = train_test_split(x,y,test_size=0.2)"
   ]
  },
  {
   "cell_type": "code",
   "execution_count": 108,
   "metadata": {},
   "outputs": [
    {
     "data": {
      "text/html": [
       "<div>\n",
       "<style scoped>\n",
       "    .dataframe tbody tr th:only-of-type {\n",
       "        vertical-align: middle;\n",
       "    }\n",
       "\n",
       "    .dataframe tbody tr th {\n",
       "        vertical-align: top;\n",
       "    }\n",
       "\n",
       "    .dataframe thead th {\n",
       "        text-align: right;\n",
       "    }\n",
       "</style>\n",
       "<table border=\"1\" class=\"dataframe\">\n",
       "  <thead>\n",
       "    <tr style=\"text-align: right;\">\n",
       "      <th></th>\n",
       "      <th>SBP</th>\n",
       "      <th>DBP</th>\n",
       "      <th>Pulse</th>\n",
       "      <th>Temperature</th>\n",
       "    </tr>\n",
       "  </thead>\n",
       "  <tbody>\n",
       "    <tr>\n",
       "      <th>117</th>\n",
       "      <td>117</td>\n",
       "      <td>79</td>\n",
       "      <td>68</td>\n",
       "      <td>98</td>\n",
       "    </tr>\n",
       "    <tr>\n",
       "      <th>5</th>\n",
       "      <td>95</td>\n",
       "      <td>65</td>\n",
       "      <td>75</td>\n",
       "      <td>101</td>\n",
       "    </tr>\n",
       "    <tr>\n",
       "      <th>121</th>\n",
       "      <td>125</td>\n",
       "      <td>85</td>\n",
       "      <td>75</td>\n",
       "      <td>100</td>\n",
       "    </tr>\n",
       "    <tr>\n",
       "      <th>49</th>\n",
       "      <td>120</td>\n",
       "      <td>76</td>\n",
       "      <td>70</td>\n",
       "      <td>98</td>\n",
       "    </tr>\n",
       "    <tr>\n",
       "      <th>74</th>\n",
       "      <td>120</td>\n",
       "      <td>79</td>\n",
       "      <td>75</td>\n",
       "      <td>98</td>\n",
       "    </tr>\n",
       "    <tr>\n",
       "      <th>...</th>\n",
       "      <td>...</td>\n",
       "      <td>...</td>\n",
       "      <td>...</td>\n",
       "      <td>...</td>\n",
       "    </tr>\n",
       "    <tr>\n",
       "      <th>110</th>\n",
       "      <td>146</td>\n",
       "      <td>101</td>\n",
       "      <td>82</td>\n",
       "      <td>101</td>\n",
       "    </tr>\n",
       "    <tr>\n",
       "      <th>71</th>\n",
       "      <td>126</td>\n",
       "      <td>85</td>\n",
       "      <td>76</td>\n",
       "      <td>100</td>\n",
       "    </tr>\n",
       "    <tr>\n",
       "      <th>18</th>\n",
       "      <td>140</td>\n",
       "      <td>91</td>\n",
       "      <td>80</td>\n",
       "      <td>102</td>\n",
       "    </tr>\n",
       "    <tr>\n",
       "      <th>134</th>\n",
       "      <td>104</td>\n",
       "      <td>67</td>\n",
       "      <td>84</td>\n",
       "      <td>103</td>\n",
       "    </tr>\n",
       "    <tr>\n",
       "      <th>90</th>\n",
       "      <td>119</td>\n",
       "      <td>78</td>\n",
       "      <td>70</td>\n",
       "      <td>98</td>\n",
       "    </tr>\n",
       "  </tbody>\n",
       "</table>\n",
       "<p>113 rows × 4 columns</p>\n",
       "</div>"
      ],
      "text/plain": [
       "     SBP  DBP  Pulse  Temperature\n",
       "117  117   79     68           98\n",
       "5     95   65     75          101\n",
       "121  125   85     75          100\n",
       "49   120   76     70           98\n",
       "74   120   79     75           98\n",
       "..   ...  ...    ...          ...\n",
       "110  146  101     82          101\n",
       "71   126   85     76          100\n",
       "18   140   91     80          102\n",
       "134  104   67     84          103\n",
       "90   119   78     70           98\n",
       "\n",
       "[113 rows x 4 columns]"
      ]
     },
     "execution_count": 108,
     "metadata": {},
     "output_type": "execute_result"
    }
   ],
   "source": [
    "x_train"
   ]
  },
  {
   "cell_type": "code",
   "execution_count": 109,
   "metadata": {},
   "outputs": [
    {
     "data": {
      "text/plain": [
       "117    0\n",
       "5      2\n",
       "121    1\n",
       "49     0\n",
       "74     0\n",
       "      ..\n",
       "110    2\n",
       "71     1\n",
       "18     2\n",
       "134    2\n",
       "90     0\n",
       "Name: Level, Length: 113, dtype: int32"
      ]
     },
     "execution_count": 109,
     "metadata": {},
     "output_type": "execute_result"
    }
   ],
   "source": [
    "y_train = y_train.astype('int')\n",
    "y_train"
   ]
  },
  {
   "cell_type": "code",
   "execution_count": 110,
   "metadata": {},
   "outputs": [
    {
     "data": {
      "text/html": [
       "<div>\n",
       "<style scoped>\n",
       "    .dataframe tbody tr th:only-of-type {\n",
       "        vertical-align: middle;\n",
       "    }\n",
       "\n",
       "    .dataframe tbody tr th {\n",
       "        vertical-align: top;\n",
       "    }\n",
       "\n",
       "    .dataframe thead th {\n",
       "        text-align: right;\n",
       "    }\n",
       "</style>\n",
       "<table border=\"1\" class=\"dataframe\">\n",
       "  <thead>\n",
       "    <tr style=\"text-align: right;\">\n",
       "      <th></th>\n",
       "      <th>SBP</th>\n",
       "      <th>DBP</th>\n",
       "      <th>Pulse</th>\n",
       "      <th>Temperature</th>\n",
       "    </tr>\n",
       "  </thead>\n",
       "  <tbody>\n",
       "    <tr>\n",
       "      <th>145</th>\n",
       "      <td>118</td>\n",
       "      <td>77</td>\n",
       "      <td>73</td>\n",
       "      <td>98</td>\n",
       "    </tr>\n",
       "    <tr>\n",
       "      <th>53</th>\n",
       "      <td>126</td>\n",
       "      <td>87</td>\n",
       "      <td>76</td>\n",
       "      <td>99</td>\n",
       "    </tr>\n",
       "    <tr>\n",
       "      <th>107</th>\n",
       "      <td>102</td>\n",
       "      <td>67</td>\n",
       "      <td>65</td>\n",
       "      <td>101</td>\n",
       "    </tr>\n",
       "    <tr>\n",
       "      <th>59</th>\n",
       "      <td>126</td>\n",
       "      <td>85</td>\n",
       "      <td>79</td>\n",
       "      <td>99</td>\n",
       "    </tr>\n",
       "    <tr>\n",
       "      <th>142</th>\n",
       "      <td>139</td>\n",
       "      <td>88</td>\n",
       "      <td>81</td>\n",
       "      <td>100</td>\n",
       "    </tr>\n",
       "    <tr>\n",
       "      <th>105</th>\n",
       "      <td>136</td>\n",
       "      <td>90</td>\n",
       "      <td>79</td>\n",
       "      <td>101</td>\n",
       "    </tr>\n",
       "    <tr>\n",
       "      <th>109</th>\n",
       "      <td>145</td>\n",
       "      <td>100</td>\n",
       "      <td>75</td>\n",
       "      <td>100</td>\n",
       "    </tr>\n",
       "    <tr>\n",
       "      <th>98</th>\n",
       "      <td>118</td>\n",
       "      <td>79</td>\n",
       "      <td>73</td>\n",
       "      <td>99</td>\n",
       "    </tr>\n",
       "    <tr>\n",
       "      <th>88</th>\n",
       "      <td>124</td>\n",
       "      <td>84</td>\n",
       "      <td>76</td>\n",
       "      <td>98</td>\n",
       "    </tr>\n",
       "    <tr>\n",
       "      <th>8</th>\n",
       "      <td>119</td>\n",
       "      <td>78</td>\n",
       "      <td>68</td>\n",
       "      <td>100</td>\n",
       "    </tr>\n",
       "    <tr>\n",
       "      <th>143</th>\n",
       "      <td>147</td>\n",
       "      <td>94</td>\n",
       "      <td>79</td>\n",
       "      <td>100</td>\n",
       "    </tr>\n",
       "    <tr>\n",
       "      <th>65</th>\n",
       "      <td>127</td>\n",
       "      <td>83</td>\n",
       "      <td>79</td>\n",
       "      <td>100</td>\n",
       "    </tr>\n",
       "    <tr>\n",
       "      <th>113</th>\n",
       "      <td>154</td>\n",
       "      <td>99</td>\n",
       "      <td>79</td>\n",
       "      <td>100</td>\n",
       "    </tr>\n",
       "    <tr>\n",
       "      <th>129</th>\n",
       "      <td>118</td>\n",
       "      <td>78</td>\n",
       "      <td>68</td>\n",
       "      <td>98</td>\n",
       "    </tr>\n",
       "    <tr>\n",
       "      <th>43</th>\n",
       "      <td>118</td>\n",
       "      <td>79</td>\n",
       "      <td>70</td>\n",
       "      <td>99</td>\n",
       "    </tr>\n",
       "    <tr>\n",
       "      <th>75</th>\n",
       "      <td>119</td>\n",
       "      <td>78</td>\n",
       "      <td>72</td>\n",
       "      <td>98</td>\n",
       "    </tr>\n",
       "    <tr>\n",
       "      <th>106</th>\n",
       "      <td>101</td>\n",
       "      <td>68</td>\n",
       "      <td>70</td>\n",
       "      <td>99</td>\n",
       "    </tr>\n",
       "    <tr>\n",
       "      <th>26</th>\n",
       "      <td>118</td>\n",
       "      <td>76</td>\n",
       "      <td>68</td>\n",
       "      <td>99</td>\n",
       "    </tr>\n",
       "    <tr>\n",
       "      <th>96</th>\n",
       "      <td>107</td>\n",
       "      <td>65</td>\n",
       "      <td>80</td>\n",
       "      <td>102</td>\n",
       "    </tr>\n",
       "    <tr>\n",
       "      <th>123</th>\n",
       "      <td>128</td>\n",
       "      <td>88</td>\n",
       "      <td>79</td>\n",
       "      <td>101</td>\n",
       "    </tr>\n",
       "    <tr>\n",
       "      <th>132</th>\n",
       "      <td>119</td>\n",
       "      <td>78</td>\n",
       "      <td>74</td>\n",
       "      <td>98</td>\n",
       "    </tr>\n",
       "    <tr>\n",
       "      <th>54</th>\n",
       "      <td>119</td>\n",
       "      <td>78</td>\n",
       "      <td>70</td>\n",
       "      <td>98</td>\n",
       "    </tr>\n",
       "    <tr>\n",
       "      <th>77</th>\n",
       "      <td>101</td>\n",
       "      <td>67</td>\n",
       "      <td>78</td>\n",
       "      <td>100</td>\n",
       "    </tr>\n",
       "    <tr>\n",
       "      <th>13</th>\n",
       "      <td>118</td>\n",
       "      <td>75</td>\n",
       "      <td>75</td>\n",
       "      <td>99</td>\n",
       "    </tr>\n",
       "    <tr>\n",
       "      <th>115</th>\n",
       "      <td>119</td>\n",
       "      <td>76</td>\n",
       "      <td>70</td>\n",
       "      <td>99</td>\n",
       "    </tr>\n",
       "    <tr>\n",
       "      <th>19</th>\n",
       "      <td>119</td>\n",
       "      <td>78</td>\n",
       "      <td>70</td>\n",
       "      <td>99</td>\n",
       "    </tr>\n",
       "    <tr>\n",
       "      <th>64</th>\n",
       "      <td>118</td>\n",
       "      <td>78</td>\n",
       "      <td>69</td>\n",
       "      <td>98</td>\n",
       "    </tr>\n",
       "    <tr>\n",
       "      <th>108</th>\n",
       "      <td>99</td>\n",
       "      <td>68</td>\n",
       "      <td>66</td>\n",
       "      <td>102</td>\n",
       "    </tr>\n",
       "    <tr>\n",
       "      <th>22</th>\n",
       "      <td>129</td>\n",
       "      <td>89</td>\n",
       "      <td>82</td>\n",
       "      <td>100</td>\n",
       "    </tr>\n",
       "  </tbody>\n",
       "</table>\n",
       "</div>"
      ],
      "text/plain": [
       "     SBP  DBP  Pulse  Temperature\n",
       "145  118   77     73           98\n",
       "53   126   87     76           99\n",
       "107  102   67     65          101\n",
       "59   126   85     79           99\n",
       "142  139   88     81          100\n",
       "105  136   90     79          101\n",
       "109  145  100     75          100\n",
       "98   118   79     73           99\n",
       "88   124   84     76           98\n",
       "8    119   78     68          100\n",
       "143  147   94     79          100\n",
       "65   127   83     79          100\n",
       "113  154   99     79          100\n",
       "129  118   78     68           98\n",
       "43   118   79     70           99\n",
       "75   119   78     72           98\n",
       "106  101   68     70           99\n",
       "26   118   76     68           99\n",
       "96   107   65     80          102\n",
       "123  128   88     79          101\n",
       "132  119   78     74           98\n",
       "54   119   78     70           98\n",
       "77   101   67     78          100\n",
       "13   118   75     75           99\n",
       "115  119   76     70           99\n",
       "19   119   78     70           99\n",
       "64   118   78     69           98\n",
       "108   99   68     66          102\n",
       "22   129   89     82          100"
      ]
     },
     "execution_count": 110,
     "metadata": {},
     "output_type": "execute_result"
    }
   ],
   "source": [
    "x_test"
   ]
  },
  {
   "cell_type": "code",
   "execution_count": 111,
   "metadata": {},
   "outputs": [
    {
     "data": {
      "text/plain": [
       "145    0\n",
       "53     1\n",
       "107    2\n",
       "59     1\n",
       "142    1\n",
       "105    1\n",
       "109    2\n",
       "98     0\n",
       "88     1\n",
       "8      0\n",
       "143    2\n",
       "65     1\n",
       "113    2\n",
       "129    0\n",
       "43     0\n",
       "75     0\n",
       "106    2\n",
       "26     0\n",
       "96     2\n",
       "123    1\n",
       "132    0\n",
       "54     0\n",
       "77     2\n",
       "13     0\n",
       "115    0\n",
       "19     0\n",
       "64     0\n",
       "108    2\n",
       "22     1\n",
       "Name: Level, dtype: int32"
      ]
     },
     "execution_count": 111,
     "metadata": {},
     "output_type": "execute_result"
    }
   ],
   "source": [
    "y_test = y_test.astype('int')\n",
    "y_test"
   ]
  },
  {
   "cell_type": "markdown",
   "metadata": {},
   "source": [
    "# KNN classifier"
   ]
  },
  {
   "cell_type": "code",
   "execution_count": 112,
   "metadata": {},
   "outputs": [
    {
     "data": {
      "text/plain": [
       "KNeighborsClassifier(algorithm='auto', leaf_size=30, metric='minkowski',\n",
       "                     metric_params=None, n_jobs=None, n_neighbors=5, p=2,\n",
       "                     weights='uniform')"
      ]
     },
     "execution_count": 112,
     "metadata": {},
     "output_type": "execute_result"
    }
   ],
   "source": [
    "#Fitting Classifier to the Training set\n",
    "clf = neighbors.KNeighborsClassifier()\n",
    "clf.fit(x_train,y_train)"
   ]
  },
  {
   "cell_type": "code",
   "execution_count": 113,
   "metadata": {},
   "outputs": [],
   "source": [
    "#Predict on test data\n",
    "y_pred=clf.predict(x_test)"
   ]
  },
  {
   "cell_type": "code",
   "execution_count": 114,
   "metadata": {},
   "outputs": [
    {
     "name": "stdout",
     "output_type": "stream",
     "text": [
      "Actual Level : \n",
      "[0 1 2 1 1 1 2 0 1 0 2 1 2 0 0 0 2 0 2 1 0 0 2 0 0 0 0 2 1]\n"
     ]
    }
   ],
   "source": [
    "print(\"Actual Level : \")\n",
    "print(y_test.values)"
   ]
  },
  {
   "cell_type": "code",
   "execution_count": 115,
   "metadata": {},
   "outputs": [
    {
     "name": "stdout",
     "output_type": "stream",
     "text": [
      "\n",
      "Predicted Level : \n",
      "[0 1 2 1 1 1 2 0 1 0 2 1 2 0 0 0 2 0 2 1 0 0 2 0 0 0 0 2 1]\n"
     ]
    }
   ],
   "source": [
    "print(\"\\nPredicted Level : \")\n",
    "print(y_pred)"
   ]
  },
  {
   "cell_type": "code",
   "execution_count": 116,
   "metadata": {},
   "outputs": [
    {
     "name": "stdout",
     "output_type": "stream",
     "text": [
      "\n",
      "Accuracy score: 100.000000\n"
     ]
    }
   ],
   "source": [
    "#Accuracy score on Test and Train\n",
    "from sklearn.metrics import accuracy_score, recall_score, roc_auc_score, confusion_matrix\n",
    "\n",
    "print(\"\\nAccuracy score: %f\" %(accuracy_score(y_test,y_pred) * 100)) "
   ]
  },
  {
   "cell_type": "code",
   "execution_count": 117,
   "metadata": {},
   "outputs": [],
   "source": [
    "#Predict the probability of each test data point\n",
    "#Get the probability distribution\n",
    "probas = clf.predict_proba(x_test)"
   ]
  },
  {
   "cell_type": "code",
   "execution_count": 118,
   "metadata": {},
   "outputs": [
    {
     "data": {
      "image/png": "[encoded data removed]",
      "text/plain": [
       "<Figure size 900x600 with 1 Axes>"
      ]
     },
     "metadata": {
      "needs_background": "light"
     },
     "output_type": "display_data"
    }
   ],
   "source": [
    "#Visualize the probabilities\n",
    "# plot\n",
    "import matplotlib.pyplot as plt\n",
    "plt.figure(dpi=150)\n",
    "plt.hist(probas, bins=20)\n",
    "plt.title('Classification Probabilities')\n",
    "plt.xlabel('Probability')\n",
    "plt.ylabel('# of Instances')\n",
    "plt.xlim([0.5, 1.0])\n",
    "plt.legend(y_test)\n",
    "plt.show()"
   ]
  },
  {
   "cell_type": "code",
   "execution_count": 119,
   "metadata": {},
   "outputs": [],
   "source": [
    "x_train_std = minmax.fit_transform(x_train)\n",
    "x_test_std = minmax.transform(x_test)"
   ]
  },
  {
   "cell_type": "code",
   "execution_count": 120,
   "metadata": {},
   "outputs": [],
   "source": [
    "#Evaluation Metrics\n",
    "from sklearn.model_selection import cross_val_score,cross_val_predict"
   ]
  },
  {
   "cell_type": "code",
   "execution_count": 129,
   "metadata": {},
   "outputs": [],
   "source": [
    "#Print cross validation score for kNN\n",
    "clf_acc = cross_val_score(clf, x_train_std, y_train, cv=3, scoring=\"accuracy\",  n_jobs=-1)"
   ]
  },
  {
   "cell_type": "code",
   "execution_count": 130,
   "metadata": {},
   "outputs": [],
   "source": [
    "clf_proba = cross_val_predict(clf, x_train_std, y_train, cv=3, method='predict_proba')\n",
    "clf_scores = clf_proba[:, 1] # get the score of the positive class "
   ]
  },
  {
   "cell_type": "code",
   "execution_count": 131,
   "metadata": {},
   "outputs": [
    {
     "data": {
      "text/plain": [
       "array([0.94736842, 0.97368421, 0.97297297])"
      ]
     },
     "execution_count": 131,
     "metadata": {},
     "output_type": "execute_result"
    }
   ],
   "source": [
    "clf_acc"
   ]
  },
  {
   "cell_type": "markdown",
   "metadata": {},
   "source": [
    "# Logistic Regression"
   ]
  },
  {
   "cell_type": "code",
   "execution_count": 132,
   "metadata": {},
   "outputs": [
    {
     "name": "stderr",
     "output_type": "stream",
     "text": [
      "C:\\Users\\HP\\anaconda3\\lib\\site-packages\\sklearn\\linear_model\\_logistic.py:940: ConvergenceWarning: lbfgs failed to converge (status=1):\n",
      "STOP: TOTAL NO. of ITERATIONS REACHED LIMIT.\n",
      "\n",
      "Increase the number of iterations (max_iter) or scale the data as shown in:\n",
      "    https://scikit-learn.org/stable/modules/preprocessing.html\n",
      "Please also refer to the documentation for alternative solver options:\n",
      "    https://scikit-learn.org/stable/modules/linear_model.html#logistic-regression\n",
      "  extra_warning_msg=_LOGISTIC_SOLVER_CONVERGENCE_MSG)\n"
     ]
    }
   ],
   "source": [
    "#Build a Logistic Regression Model\n",
    "from sklearn.linear_model import LogisticRegression\n",
    "lr = LogisticRegression()\n",
    "lr.fit(x_train,y_train)\n",
    "lr_acc = cross_val_score(lr, x_train_std, y_train, cv=3, scoring='accuracy', n_jobs=-1)\n",
    "lr_proba = cross_val_predict(lr, x_train_std, y_train, cv=3, method='predict_proba')\n",
    "lr_scores = lr_proba[:, 1]"
   ]
  },
  {
   "cell_type": "code",
   "execution_count": 133,
   "metadata": {},
   "outputs": [
    {
     "data": {
      "text/plain": [
       "array([0.71052632, 0.65789474, 0.59459459])"
      ]
     },
     "execution_count": 133,
     "metadata": {},
     "output_type": "execute_result"
    }
   ],
   "source": [
    "lr_acc"
   ]
  },
  {
   "cell_type": "code",
   "execution_count": 134,
   "metadata": {},
   "outputs": [],
   "source": [
    "#Predict on test data\n",
    "y_pred=lr.predict(x_test)"
   ]
  },
  {
   "cell_type": "code",
   "execution_count": 135,
   "metadata": {},
   "outputs": [
    {
     "name": "stdout",
     "output_type": "stream",
     "text": [
      "Actual Level : \n",
      "[0 1 2 1 1 1 2 0 1 0 2 1 2 0 0 0 2 0 2 1 0 0 2 0 0 0 0 2 1]\n"
     ]
    }
   ],
   "source": [
    "print(\"Actual Level : \")\n",
    "print(y_test.values)"
   ]
  },
  {
   "cell_type": "code",
   "execution_count": 136,
   "metadata": {},
   "outputs": [
    {
     "name": "stdout",
     "output_type": "stream",
     "text": [
      "\n",
      "Predicted Level : \n",
      "[2 1 0 1 2 1 1 0 1 0 2 2 1 0 0 0 0 0 2 1 2 0 2 2 2 0 0 0 1]\n"
     ]
    }
   ],
   "source": [
    "print(\"\\nPredicted Level : \")\n",
    "print(y_pred)"
   ]
  },
  {
   "cell_type": "code",
   "execution_count": 137,
   "metadata": {},
   "outputs": [
    {
     "name": "stdout",
     "output_type": "stream",
     "text": [
      "\n",
      "Accuracy score: 62.068966\n"
     ]
    }
   ],
   "source": [
    "#Accuracy score on Test and Train\n",
    "from sklearn.metrics import accuracy_score, recall_score, roc_auc_score, confusion_matrix\n",
    "\n",
    "print(\"\\nAccuracy score: %f\" %(accuracy_score(y_test,y_pred) * 100))"
   ]
  },
  {
   "cell_type": "code",
   "execution_count": 138,
   "metadata": {},
   "outputs": [],
   "source": [
    "from sklearn.metrics import roc_auc_score,roc_curve\n",
    "def ROC_curve(title, y_train, scores, label=None):\n",
    "    # calculate the ROC score\n",
    "    fpr, tpr, thresholds = roc_curve(y_train, scores)\n",
    "    print('AUC Score ({}): {:.2f} '.format(title, roc_auc_score(y_train, scores)))\n",
    "    \n",
    "    # plot the ROC curve\n",
    "    plt.figure(figsize=(8,6))\n",
    "    plt.plot(fpr, tpr, linewidth=2, label=label, color='b')\n",
    "    plt.xlabel('False Positive Rate', fontsize=16)\n",
    "    plt.ylabel('True Positive Rate', fontsize=16)\n",
    "    plt.title('ROC Curve: {}'.format(title), fontsize=16)\n",
    "    plt.show()"
   ]
  },
  {
   "cell_type": "markdown",
   "metadata": {},
   "source": [
    "# Decission tree regressor"
   ]
  },
  {
   "cell_type": "code",
   "execution_count": 139,
   "metadata": {},
   "outputs": [],
   "source": [
    "from sklearn.tree import DecisionTreeRegressor as dr\n",
    "#Create the Decision Tree regressor object \n",
    "regressor = dr(random_state=0)"
   ]
  },
  {
   "cell_type": "code",
   "execution_count": 140,
   "metadata": {},
   "outputs": [
    {
     "data": {
      "text/plain": [
       "DecisionTreeRegressor(ccp_alpha=0.0, criterion='mse', max_depth=None,\n",
       "                      max_features=None, max_leaf_nodes=None,\n",
       "                      min_impurity_decrease=0.0, min_impurity_split=None,\n",
       "                      min_samples_leaf=1, min_samples_split=2,\n",
       "                      min_weight_fraction_leaf=0.0, presort='deprecated',\n",
       "                      random_state=0, splitter='best')"
      ]
     },
     "execution_count": 140,
     "metadata": {},
     "output_type": "execute_result"
    }
   ],
   "source": [
    "regressor.fit(x,y)"
   ]
  },
  {
   "cell_type": "code",
   "execution_count": 141,
   "metadata": {},
   "outputs": [
    {
     "name": "stdout",
     "output_type": "stream",
     "text": [
      "Accuracy of the model: 1.0\n"
     ]
    }
   ],
   "source": [
    "accuracy=regressor.score(x,y)\n",
    "print(\"Accuracy of the model:\", accuracy)"
   ]
  },
  {
   "cell_type": "markdown",
   "metadata": {},
   "source": [
    "# multiple linear regression"
   ]
  },
  {
   "cell_type": "code",
   "execution_count": 142,
   "metadata": {},
   "outputs": [
    {
     "data": {
      "text/plain": [
       "array([[120,  80,  80,  98],\n",
       "       [140,  83,  75, 100],\n",
       "       [115,  82,  79,  97],\n",
       "       [119,  79,  85, 102],\n",
       "       [ 95,  65,  75, 101],\n",
       "       [116,  75,  70,  99],\n",
       "       [119,  78,  68, 100],\n",
       "       [110,  69,  65, 102],\n",
       "       [117,  73,  76,  99],\n",
       "       [130,  88,  84, 101],\n",
       "       [145,  90,  82, 104],\n",
       "       [118,  75,  75,  99],\n",
       "       [114,  76,  69,  98],\n",
       "       [132,  89,  76, 101],\n",
       "       [135,  87,  76, 100],\n",
       "       [140,  91,  80, 102],\n",
       "       [119,  78,  70,  99],\n",
       "       [116,  77,  74,  98],\n",
       "       [106,  68,  79, 103],\n",
       "       [129,  89,  82, 100],\n",
       "       [126,  90,  80, 101],\n",
       "       [147,  95,  84, 104],\n",
       "       [116,  78,  70,  98],\n",
       "       [118,  76,  68,  99],\n",
       "       [128,  87,  80, 100],\n",
       "       [130,  85,  82, 101],\n",
       "       [148,  92,  84, 104],\n",
       "       [100,  65,  62,  95],\n",
       "       [119,  78,  74,  98],\n",
       "       [117,  79,  76,  99],\n",
       "       [116,  80,  74,  98],\n",
       "       [115,  78,  68,  99],\n",
       "       [126,  85,  79, 100],\n",
       "       [127,  89,  80,  98],\n",
       "       [128,  88,  79, 101],\n",
       "       [120,  78,  70, 105],\n",
       "       [100,  65,  79, 100],\n",
       "       [119,  76,  72,  98],\n",
       "       [118,  79,  70,  99],\n",
       "       [117,  78,  75,  98],\n",
       "       [145,  92,  82, 101],\n",
       "       [146,  90,  80, 104],\n",
       "       [127,  85,  79, 100],\n",
       "       [126,  88,  78,  98],\n",
       "       [120,  76,  70,  98],\n",
       "       [118,  79,  76, 100],\n",
       "       [140,  99,  85, 102],\n",
       "       [128,  88,  77,  98],\n",
       "       [126,  87,  76,  99],\n",
       "       [119,  78,  70,  98],\n",
       "       [118,  77,  75,  99],\n",
       "       [104,  68,  79, 101],\n",
       "       [100,  64,  69, 104],\n",
       "       [142,  93,  80, 102],\n",
       "       [126,  85,  79,  99],\n",
       "       [127,  84,  75, 100],\n",
       "       [118,  81,  72,  98],\n",
       "       [120,  78,  70,  99],\n",
       "       [119,  80,  75,  98],\n",
       "       [118,  78,  69,  98],\n",
       "       [127,  83,  79, 100],\n",
       "       [128,  86,  64, 101],\n",
       "       [149,  96,  82, 103],\n",
       "       [148,  95,  80, 102],\n",
       "       [101,  68,  67, 104],\n",
       "       [126,  85,  76, 100],\n",
       "       [127,  87,  78,  98],\n",
       "       [128,  88,  77,  99],\n",
       "       [120,  79,  75,  98],\n",
       "       [119,  78,  72,  98],\n",
       "       [118,  77,  70,  99],\n",
       "       [101,  67,  78, 100],\n",
       "       [104,  68,  79, 101],\n",
       "       [105,  69,  76,  99],\n",
       "       [100,  63,  80, 103],\n",
       "       [114,  78,  75,  98],\n",
       "       [116,  79,  74,  98],\n",
       "       [117,  80,  73,  99],\n",
       "       [115,  78,  70,  98],\n",
       "       [150,  96,  82, 102],\n",
       "       [151,  95,  80, 100],\n",
       "       [149,  94,  83,  99],\n",
       "       [124,  84,  76,  98],\n",
       "       [120,  80,  76,  98],\n",
       "       [119,  78,  70,  98],\n",
       "       [118,  76,  74,  98],\n",
       "       [117,  79,  73,  98],\n",
       "       [118,  79,  76, 105],\n",
       "       [120,  80,  75, 105],\n",
       "       [107,  65,  80, 102],\n",
       "       [ 99,  66,  79, 102],\n",
       "       [118,  79,  73,  99],\n",
       "       [131,  86,  76,  98],\n",
       "       [132,  87,  77,  98],\n",
       "       [132,  86,  75, 102],\n",
       "       [133,  92,  79, 100],\n",
       "       [134,  87,  78,  99],\n",
       "       [135,  89,  80, 100],\n",
       "       [136,  90,  79, 101],\n",
       "       [101,  68,  70,  99],\n",
       "       [102,  67,  65, 101],\n",
       "       [ 99,  68,  66, 102],\n",
       "       [145, 100,  75, 100],\n",
       "       [146, 101,  82, 101],\n",
       "       [146,  95,  81, 100],\n",
       "       [152,  98,  75,  99],\n",
       "       [154,  99,  79, 100],\n",
       "       [118,  79,  71,  98],\n",
       "       [119,  76,  70,  99],\n",
       "       [120,  78,  69,  98],\n",
       "       [117,  79,  68,  98],\n",
       "       [116,  80,  70,  98],\n",
       "       [119,  80,  73,  99],\n",
       "       [119,  79,  70,  98],\n",
       "       [125,  85,  75, 100],\n",
       "       [126,  87,  77, 101],\n",
       "       [128,  88,  79, 101],\n",
       "       [130,  85,  76, 100],\n",
       "       [148,  90,  76, 101],\n",
       "       [147,  92,  80,  99],\n",
       "       [153, 101,  81, 102],\n",
       "       [151,  99,  82, 103],\n",
       "       [118,  78,  68,  98],\n",
       "       [119,  79,  70,  98],\n",
       "       [120,  78,  71,  99],\n",
       "       [119,  78,  74,  98],\n",
       "       [ 98,  64,  76,  98],\n",
       "       [104,  67,  84, 103],\n",
       "       [106,  62,  78, 102],\n",
       "       [130,  87,  76, 100],\n",
       "       [116,  78,  73,  98],\n",
       "       [118,  79,  69,  98],\n",
       "       [117,  77,  74,  98],\n",
       "       [134,  86,  78, 100],\n",
       "       [136,  87,  80, 101],\n",
       "       [139,  88,  81, 100],\n",
       "       [147,  94,  79, 100],\n",
       "       [154,  99,  83, 103],\n",
       "       [118,  77,  73,  98],\n",
       "       [125,  87,  79, 102],\n",
       "       [132,  88,  78, 101],\n",
       "       [118,  82,  74,  98]], dtype=int64)"
      ]
     },
     "execution_count": 142,
     "metadata": {},
     "output_type": "execute_result"
    }
   ],
   "source": [
    "x=df.iloc[:,0:4].values\n",
    "x"
   ]
  },
  {
   "cell_type": "code",
   "execution_count": 143,
   "metadata": {},
   "outputs": [
    {
     "data": {
      "text/plain": [
       "array([0, 1, 0, 1, 2, 0, 0, 2, 0, 1, 2, 0, 0, 1, 1, 2, 0, 0, 2, 1, 1, 2,\n",
       "       0, 0, 1, 1, 2, 2, 0, 0, 0, 0, 1, 1, 1, 2, 2, 0, 0, 0, 2, 2, 1, 1,\n",
       "       0, 0, 2, 1, 1, 0, 0, 2, 2, 2, 1, 1, 0, 0, 0, 0, 1, 1, 2, 2, 2, 1,\n",
       "       1, 1, 0, 0, 0, 2, 2, 2, 2, 0, 0, 0, 0, 2, 2, 2, 1, 0, 0, 0, 0, 2,\n",
       "       2, 2, 2, 0, 1, 1, 1, 1, 1, 1, 1, 2, 2, 2, 2, 2, 2, 2, 2, 0, 0, 0,\n",
       "       0, 0, 0, 0, 1, 1, 1, 1, 2, 2, 2, 2, 0, 0, 0, 0, 2, 2, 2, 1, 0, 0,\n",
       "       0, 1, 1, 1, 2, 2, 0, 1, 1, 0], dtype=int64)"
      ]
     },
     "execution_count": 143,
     "metadata": {},
     "output_type": "execute_result"
    }
   ],
   "source": [
    "y=df.iloc[:,4].values\n",
    "y"
   ]
  },
  {
   "cell_type": "code",
   "execution_count": 144,
   "metadata": {},
   "outputs": [],
   "source": [
    "from sklearn.model_selection import train_test_split  #train_test_split splits arrays or matrices into random train and test subsets. \n",
    "X_train, X_test, y_train, y_test = train_test_split(x, y,test_size=0.4,random_state =1) "
   ]
  },
  {
   "cell_type": "code",
   "execution_count": 145,
   "metadata": {},
   "outputs": [
    {
     "data": {
      "text/plain": [
       "array([[151,  99,  82, 103],\n",
       "       [118,  81,  72,  98],\n",
       "       [130,  85,  76, 100],\n",
       "       [118,  79,  69,  98],\n",
       "       [119,  80,  73,  99],\n",
       "       [146, 101,  82, 101],\n",
       "       [148,  90,  76, 101],\n",
       "       [127,  84,  75, 100],\n",
       "       [118,  79,  71,  98],\n",
       "       [100,  63,  80, 103],\n",
       "       [140,  99,  85, 102],\n",
       "       [149,  96,  82, 103],\n",
       "       [119,  78,  70,  98],\n",
       "       [118,  79,  73,  99],\n",
       "       [132,  86,  75, 102],\n",
       "       [145,  90,  82, 104],\n",
       "       [128,  88,  79, 101],\n",
       "       [126,  85,  79, 100],\n",
       "       [125,  85,  75, 100],\n",
       "       [118,  79,  70,  99],\n",
       "       [145, 100,  75, 100],\n",
       "       [118,  82,  74,  98],\n",
       "       [100,  65,  62,  95],\n",
       "       [118,  76,  68,  99],\n",
       "       [128,  88,  77,  99],\n",
       "       [120,  78,  71,  99],\n",
       "       [153, 101,  81, 102],\n",
       "       [119,  79,  70,  98],\n",
       "       [106,  62,  78, 102],\n",
       "       [119,  79,  70,  98],\n",
       "       [118,  79,  76, 105],\n",
       "       [118,  77,  73,  98],\n",
       "       [102,  67,  65, 101],\n",
       "       [101,  68,  67, 104],\n",
       "       [140,  91,  80, 102],\n",
       "       [124,  84,  76,  98],\n",
       "       [146,  90,  80, 104],\n",
       "       [151,  95,  80, 100],\n",
       "       [100,  64,  69, 104],\n",
       "       [148,  92,  84, 104],\n",
       "       [116,  79,  74,  98],\n",
       "       [126,  88,  78,  98],\n",
       "       [128,  87,  80, 100],\n",
       "       [139,  88,  81, 100],\n",
       "       [117,  79,  68,  98],\n",
       "       [147,  92,  80,  99],\n",
       "       [119,  78,  70,  98],\n",
       "       [147,  95,  84, 104],\n",
       "       [118,  77,  70,  99],\n",
       "       [119,  79,  85, 102],\n",
       "       [136,  87,  80, 101],\n",
       "       [116,  80,  74,  98],\n",
       "       [125,  87,  79, 102],\n",
       "       [154,  99,  79, 100],\n",
       "       [128,  88,  77,  98],\n",
       "       [ 98,  64,  76,  98],\n",
       "       [120,  80,  75, 105],\n",
       "       [117,  73,  76,  99],\n",
       "       [149,  94,  83,  99],\n",
       "       [127,  83,  79, 100],\n",
       "       [120,  80,  80,  98],\n",
       "       [140,  83,  75, 100],\n",
       "       [120,  78,  70,  99],\n",
       "       [116,  78,  70,  98],\n",
       "       [128,  86,  64, 101],\n",
       "       [148,  95,  80, 102],\n",
       "       [110,  69,  65, 102],\n",
       "       [130,  88,  84, 101],\n",
       "       [152,  98,  75,  99],\n",
       "       [132,  89,  76, 101],\n",
       "       [117,  79,  73,  98],\n",
       "       [134,  87,  78,  99],\n",
       "       [120,  79,  75,  98],\n",
       "       [118,  77,  75,  99],\n",
       "       [ 99,  68,  66, 102],\n",
       "       [126,  90,  80, 101],\n",
       "       [130,  85,  82, 101],\n",
       "       [101,  67,  78, 100],\n",
       "       [130,  87,  76, 100],\n",
       "       [150,  96,  82, 102],\n",
       "       [134,  86,  78, 100],\n",
       "       [154,  99,  83, 103],\n",
       "       [104,  68,  79, 101],\n",
       "       [132,  88,  78, 101],\n",
       "       [119,  76,  72,  98]], dtype=int64)"
      ]
     },
     "execution_count": 145,
     "metadata": {},
     "output_type": "execute_result"
    }
   ],
   "source": [
    "X_train"
   ]
  },
  {
   "cell_type": "code",
   "execution_count": 146,
   "metadata": {},
   "outputs": [],
   "source": [
    "from sklearn import linear_model as lm\n",
    "model=lm.LinearRegression()\n",
    "results=model.fit(x,y) "
   ]
  },
  {
   "cell_type": "code",
   "execution_count": 147,
   "metadata": {},
   "outputs": [],
   "source": [
    "predictions = model.predict(x)"
   ]
  },
  {
   "cell_type": "code",
   "execution_count": 148,
   "metadata": {},
   "outputs": [
    {
     "name": "stdout",
     "output_type": "stream",
     "text": [
      "Accuracy of the model: 0.5456935757383887\n"
     ]
    }
   ],
   "source": [
    "accuracy=model.score(x,y)\n",
    "print('Accuracy of the model:', accuracy)"
   ]
  },
  {
   "cell_type": "code",
   "execution_count": 149,
   "metadata": {},
   "outputs": [
    {
     "data": {
      "text/plain": [
       "<matplotlib.collections.PathCollection at 0x27a3d634848>"
      ]
     },
     "execution_count": 149,
     "metadata": {},
     "output_type": "execute_result"
    },
    {
     "data": {
      "image/png": "[encoded data removed]",
      "text/plain": [
       "<Figure size 432x288 with 1 Axes>"
      ]
     },
     "metadata": {
      "needs_background": "light"
     },
     "output_type": "display_data"
    }
   ],
   "source": [
    "plt.scatter(y, predictions)"
   ]
  },
  {
   "cell_type": "code",
   "execution_count": null,
   "metadata": {},
   "outputs": [],
   "source": []
  },
  {
   "cell_type": "code",
   "execution_count": null,
   "metadata": {},
   "outputs": [],
   "source": []
  },
  {
   "cell_type": "code",
   "execution_count": null,
   "metadata": {},
   "outputs": [],
   "source": []
  },
  {
   "cell_type": "code",
   "execution_count": null,
   "metadata": {},
   "outputs": [],
   "source": []
  },
  {
   "cell_type": "code",
   "execution_count": null,
   "metadata": {},
   "outputs": [],
   "source": []
  },
  {
   "cell_type": "code",
   "execution_count": null,
   "metadata": {},
   "outputs": [],
   "source": []
  },
  {
   "cell_type": "code",
   "execution_count": null,
   "metadata": {},
   "outputs": [],
   "source": []
  },
  {
   "cell_type": "code",
   "execution_count": null,
   "metadata": {},
   "outputs": [],
   "source": []
  }
 ],
 "metadata": {
  "kernelspec": {
   "display_name": "Python 3",
   "language": "python",
   "name": "python3"
  },
  "language_info": {
   "codemirror_mode": {
    "name": "ipython",
    "version": 3
   },
   "file_extension": ".py",
   "mimetype": "text/x-python",
   "name": "python",
   "nbconvert_exporter": "python",
   "pygments_lexer": "ipython3",
   "version": "3.7.6"
  }
 },
 "nbformat": 4,
 "nbformat_minor": 4
}

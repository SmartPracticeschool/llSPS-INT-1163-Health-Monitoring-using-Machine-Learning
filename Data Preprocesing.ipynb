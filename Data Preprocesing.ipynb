{
 "cells": [
  {
   "cell_type": "code",
   "execution_count": 1,
   "metadata": {},
   "outputs": [
    {
     "data": {
      "text/plain": [
       "'C:\\\\Users\\\\ASHA\\\\Desktop\\\\intern\\\\dataset'"
      ]
     },
     "execution_count": 1,
     "metadata": {},
     "output_type": "execute_result"
    }
   ],
   "source": [
    "import os\n",
    "os.getcwd()"
   ]
  },
  {
   "cell_type": "code",
   "execution_count": 88,
   "metadata": {},
   "outputs": [
    {
     "data": {
      "text/html": [
       "<div>\n",
       "<style scoped>\n",
       "    .dataframe tbody tr th:only-of-type {\n",
       "        vertical-align: middle;\n",
       "    }\n",
       "\n",
       "    .dataframe tbody tr th {\n",
       "        vertical-align: top;\n",
       "    }\n",
       "\n",
       "    .dataframe thead th {\n",
       "        text-align: right;\n",
       "    }\n",
       "</style>\n",
       "<table border=\"1\" class=\"dataframe\">\n",
       "  <thead>\n",
       "    <tr style=\"text-align: right;\">\n",
       "      <th></th>\n",
       "      <th>SBP</th>\n",
       "      <th>DBP</th>\n",
       "      <th>Pulse</th>\n",
       "      <th>Temperature</th>\n",
       "      <th>Level</th>\n",
       "    </tr>\n",
       "  </thead>\n",
       "  <tbody>\n",
       "    <tr>\n",
       "      <th>0</th>\n",
       "      <td>120</td>\n",
       "      <td>80</td>\n",
       "      <td>80</td>\n",
       "      <td>98</td>\n",
       "      <td>0</td>\n",
       "    </tr>\n",
       "    <tr>\n",
       "      <th>1</th>\n",
       "      <td>140</td>\n",
       "      <td>83</td>\n",
       "      <td>75</td>\n",
       "      <td>100</td>\n",
       "      <td>1</td>\n",
       "    </tr>\n",
       "    <tr>\n",
       "      <th>2</th>\n",
       "      <td>155</td>\n",
       "      <td>100</td>\n",
       "      <td>92</td>\n",
       "      <td>104</td>\n",
       "      <td>2</td>\n",
       "    </tr>\n",
       "    <tr>\n",
       "      <th>3</th>\n",
       "      <td>115</td>\n",
       "      <td>82</td>\n",
       "      <td>79</td>\n",
       "      <td>97</td>\n",
       "      <td>0</td>\n",
       "    </tr>\n",
       "    <tr>\n",
       "      <th>4</th>\n",
       "      <td>119</td>\n",
       "      <td>79</td>\n",
       "      <td>85</td>\n",
       "      <td>102</td>\n",
       "      <td>1</td>\n",
       "    </tr>\n",
       "    <tr>\n",
       "      <th>...</th>\n",
       "      <td>...</td>\n",
       "      <td>...</td>\n",
       "      <td>...</td>\n",
       "      <td>...</td>\n",
       "      <td>...</td>\n",
       "    </tr>\n",
       "    <tr>\n",
       "      <th>144</th>\n",
       "      <td>154</td>\n",
       "      <td>99</td>\n",
       "      <td>83</td>\n",
       "      <td>103</td>\n",
       "      <td>2</td>\n",
       "    </tr>\n",
       "    <tr>\n",
       "      <th>145</th>\n",
       "      <td>118</td>\n",
       "      <td>77</td>\n",
       "      <td>73</td>\n",
       "      <td>98</td>\n",
       "      <td>0</td>\n",
       "    </tr>\n",
       "    <tr>\n",
       "      <th>146</th>\n",
       "      <td>125</td>\n",
       "      <td>87</td>\n",
       "      <td>79</td>\n",
       "      <td>102</td>\n",
       "      <td>1</td>\n",
       "    </tr>\n",
       "    <tr>\n",
       "      <th>147</th>\n",
       "      <td>132</td>\n",
       "      <td>88</td>\n",
       "      <td>78</td>\n",
       "      <td>101</td>\n",
       "      <td>1</td>\n",
       "    </tr>\n",
       "    <tr>\n",
       "      <th>148</th>\n",
       "      <td>118</td>\n",
       "      <td>82</td>\n",
       "      <td>74</td>\n",
       "      <td>98</td>\n",
       "      <td>0</td>\n",
       "    </tr>\n",
       "  </tbody>\n",
       "</table>\n",
       "<p>149 rows × 5 columns</p>\n",
       "</div>"
      ],
      "text/plain": [
       "     SBP  DBP  Pulse  Temperature  Level\n",
       "0    120   80     80           98      0\n",
       "1    140   83     75          100      1\n",
       "2    155  100     92          104      2\n",
       "3    115   82     79           97      0\n",
       "4    119   79     85          102      1\n",
       "..   ...  ...    ...          ...    ...\n",
       "144  154   99     83          103      2\n",
       "145  118   77     73           98      0\n",
       "146  125   87     79          102      1\n",
       "147  132   88     78          101      1\n",
       "148  118   82     74           98      0\n",
       "\n",
       "[149 rows x 5 columns]"
      ]
     },
     "execution_count": 88,
     "metadata": {},
     "output_type": "execute_result"
    }
   ],
   "source": [
    "import numpy as np\n",
    "import pandas as pd\n",
    "import matplotlib.pyplot as plt\n",
    "%matplotlib inline\n",
    "from sklearn import preprocessing\n",
    "data1=pd.read_csv(\"Health monitoring.csv\")\n",
    "data1"
   ]
  },
  {
   "cell_type": "code",
   "execution_count": 89,
   "metadata": {},
   "outputs": [
    {
     "data": {
      "text/plain": [
       "94"
      ]
     },
     "execution_count": 89,
     "metadata": {},
     "output_type": "execute_result"
    }
   ],
   "source": [
    "data1['Temperature'].min()"
   ]
  },
  {
   "cell_type": "code",
   "execution_count": 90,
   "metadata": {},
   "outputs": [
    {
     "data": {
      "text/plain": [
       "95"
      ]
     },
     "execution_count": 90,
     "metadata": {},
     "output_type": "execute_result"
    }
   ],
   "source": [
    "data1['SBP'].min()"
   ]
  },
  {
   "cell_type": "code",
   "execution_count": 91,
   "metadata": {},
   "outputs": [
    {
     "data": {
      "text/plain": [
       "60"
      ]
     },
     "execution_count": 91,
     "metadata": {},
     "output_type": "execute_result"
    }
   ],
   "source": [
    "data1['DBP'].min()"
   ]
  },
  {
   "cell_type": "code",
   "execution_count": 92,
   "metadata": {},
   "outputs": [
    {
     "data": {
      "text/plain": [
       "155"
      ]
     },
     "execution_count": 92,
     "metadata": {},
     "output_type": "execute_result"
    }
   ],
   "source": [
    "data1['SBP'].max()"
   ]
  },
  {
   "cell_type": "code",
   "execution_count": 93,
   "metadata": {},
   "outputs": [
    {
     "data": {
      "text/plain": [
       "101"
      ]
     },
     "execution_count": 93,
     "metadata": {},
     "output_type": "execute_result"
    }
   ],
   "source": [
    "data1['DBP'].max()"
   ]
  },
  {
   "cell_type": "code",
   "execution_count": 94,
   "metadata": {},
   "outputs": [
    {
     "data": {
      "text/plain": [
       "92"
      ]
     },
     "execution_count": 94,
     "metadata": {},
     "output_type": "execute_result"
    }
   ],
   "source": [
    "data1['Pulse'].max()"
   ]
  },
  {
   "cell_type": "code",
   "execution_count": 95,
   "metadata": {},
   "outputs": [
    {
     "data": {
      "text/plain": [
       "106"
      ]
     },
     "execution_count": 95,
     "metadata": {},
     "output_type": "execute_result"
    }
   ],
   "source": [
    "data1['Temperature'].max()"
   ]
  },
  {
   "cell_type": "code",
   "execution_count": 96,
   "metadata": {},
   "outputs": [
    {
     "data": {
      "text/plain": [
       "100.0"
      ]
     },
     "execution_count": 96,
     "metadata": {},
     "output_type": "execute_result"
    }
   ],
   "source": [
    "data1['Temperature'].median()"
   ]
  },
  {
   "cell_type": "code",
   "execution_count": 97,
   "metadata": {},
   "outputs": [
    {
     "data": {
      "text/plain": [
       "119.0"
      ]
     },
     "execution_count": 97,
     "metadata": {},
     "output_type": "execute_result"
    }
   ],
   "source": [
    "data1['SBP'].median()"
   ]
  },
  {
   "cell_type": "code",
   "execution_count": 98,
   "metadata": {},
   "outputs": [
    {
     "data": {
      "text/plain": [
       "80.0"
      ]
     },
     "execution_count": 98,
     "metadata": {},
     "output_type": "execute_result"
    }
   ],
   "source": [
    "data1['DBP'].median()"
   ]
  },
  {
   "cell_type": "code",
   "execution_count": 99,
   "metadata": {},
   "outputs": [
    {
     "data": {
      "text/plain": [
       "76.0"
      ]
     },
     "execution_count": 99,
     "metadata": {},
     "output_type": "execute_result"
    }
   ],
   "source": [
    "data1['Pulse'].median()"
   ]
  },
  {
   "cell_type": "code",
   "execution_count": 100,
   "metadata": {},
   "outputs": [
    {
     "data": {
      "text/plain": [
       "2.050025240412771"
      ]
     },
     "execution_count": 100,
     "metadata": {},
     "output_type": "execute_result"
    }
   ],
   "source": [
    "np.std(data1['Temperature'])"
   ]
  },
  {
   "cell_type": "code",
   "execution_count": 101,
   "metadata": {},
   "outputs": [
    {
     "data": {
      "text/plain": [
       "5.326187351142746"
      ]
     },
     "execution_count": 101,
     "metadata": {},
     "output_type": "execute_result"
    }
   ],
   "source": [
    "np.std(data1['Pulse'])"
   ]
  },
  {
   "cell_type": "code",
   "execution_count": 102,
   "metadata": {},
   "outputs": [
    {
     "data": {
      "text/plain": [
       "14.438299192835025"
      ]
     },
     "execution_count": 102,
     "metadata": {},
     "output_type": "execute_result"
    }
   ],
   "source": [
    "np.std(data1['SBP'])"
   ]
  },
  {
   "cell_type": "code",
   "execution_count": 103,
   "metadata": {},
   "outputs": [
    {
     "data": {
      "text/plain": [
       "9.719830951905267"
      ]
     },
     "execution_count": 103,
     "metadata": {},
     "output_type": "execute_result"
    }
   ],
   "source": [
    "np.std(data1['DBP'])"
   ]
  },
  {
   "cell_type": "code",
   "execution_count": 104,
   "metadata": {},
   "outputs": [
    {
     "data": {
      "text/plain": [
       "94.47511373361566"
      ]
     },
     "execution_count": 104,
     "metadata": {},
     "output_type": "execute_result"
    }
   ],
   "source": [
    "np.var(data1['DBP'])"
   ]
  },
  {
   "cell_type": "code",
   "execution_count": 105,
   "metadata": {},
   "outputs": [
    {
     "data": {
      "text/plain": [
       "208.46448358182056"
      ]
     },
     "execution_count": 105,
     "metadata": {},
     "output_type": "execute_result"
    }
   ],
   "source": [
    "np.var(data1['SBP'])"
   ]
  },
  {
   "cell_type": "code",
   "execution_count": 106,
   "metadata": {},
   "outputs": [
    {
     "data": {
      "text/plain": [
       "28.368271699472977"
      ]
     },
     "execution_count": 106,
     "metadata": {},
     "output_type": "execute_result"
    }
   ],
   "source": [
    "np.var(data1['Pulse'])"
   ]
  },
  {
   "cell_type": "code",
   "execution_count": 107,
   "metadata": {},
   "outputs": [
    {
     "data": {
      "text/plain": [
       "4.202603486329438"
      ]
     },
     "execution_count": 107,
     "metadata": {},
     "output_type": "execute_result"
    }
   ],
   "source": [
    "np.var(data1['Temperature'])"
   ]
  },
  {
   "cell_type": "markdown",
   "metadata": {},
   "source": [
    "# Identifying the missing values"
   ]
  },
  {
   "cell_type": "code",
   "execution_count": 108,
   "metadata": {},
   "outputs": [
    {
     "data": {
      "text/plain": [
       "SBP            0\n",
       "DBP            0\n",
       "Pulse          0\n",
       "Temperature    0\n",
       "Level          0\n",
       "dtype: int64"
      ]
     },
     "execution_count": 108,
     "metadata": {},
     "output_type": "execute_result"
    }
   ],
   "source": [
    "#Get a count of missing values in the dataset\n",
    "data1.apply(lambda x: sum(x.isnull()),axis=0)"
   ]
  },
  {
   "cell_type": "markdown",
   "metadata": {},
   "source": [
    "# Observation "
   ]
  },
  {
   "cell_type": "code",
   "execution_count": 109,
   "metadata": {},
   "outputs": [],
   "source": [
    "#There are non null values present in the Health Monitoring Dataset"
   ]
  },
  {
   "cell_type": "markdown",
   "metadata": {},
   "source": [
    "# Working With outliers"
   ]
  },
  {
   "cell_type": "code",
   "execution_count": 110,
   "metadata": {},
   "outputs": [
    {
     "data": {
      "text/plain": [
       "<matplotlib.axes._subplots.AxesSubplot at 0x14cdcd05988>"
      ]
     },
     "execution_count": 110,
     "metadata": {},
     "output_type": "execute_result"
    },
    {
     "data": {
      "image/png": "[encoded data removed]",
      "text/plain": [
       "<Figure size 432x288 with 1 Axes>"
      ]
     },
     "metadata": {
      "needs_background": "light"
     },
     "output_type": "display_data"
    }
   ],
   "source": [
    "\n",
    "import seaborn as sns\n",
    "sns.boxplot(x=data1['Level'])"
   ]
  },
  {
   "cell_type": "code",
   "execution_count": 111,
   "metadata": {},
   "outputs": [
    {
     "data": {
      "text/plain": [
       "<matplotlib.axes._subplots.AxesSubplot at 0x14cdcd6e048>"
      ]
     },
     "execution_count": 111,
     "metadata": {},
     "output_type": "execute_result"
    },
    {
     "data": {
      "image/png": "[encoded data removed]",
      "text/plain": [
       "<Figure size 432x288 with 1 Axes>"
      ]
     },
     "metadata": {
      "needs_background": "light"
     },
     "output_type": "display_data"
    }
   ],
   "source": [
    "import seaborn as sns\n",
    "sns.boxplot(x=data1['SBP'])"
   ]
  },
  {
   "cell_type": "code",
   "execution_count": 112,
   "metadata": {},
   "outputs": [
    {
     "data": {
      "text/plain": [
       "<matplotlib.axes._subplots.AxesSubplot at 0x14cdcdbe488>"
      ]
     },
     "execution_count": 112,
     "metadata": {},
     "output_type": "execute_result"
    },
    {
     "data": {
      "image/png": "[encoded data removed]",
      "text/plain": [
       "<Figure size 432x288 with 1 Axes>"
      ]
     },
     "metadata": {
      "needs_background": "light"
     },
     "output_type": "display_data"
    }
   ],
   "source": [
    "import seaborn as sns\n",
    "sns.boxplot(x=data1['DBP'])"
   ]
  },
  {
   "cell_type": "code",
   "execution_count": 113,
   "metadata": {},
   "outputs": [
    {
     "data": {
      "text/plain": [
       "<matplotlib.axes._subplots.AxesSubplot at 0x14cdce1a5c8>"
      ]
     },
     "execution_count": 113,
     "metadata": {},
     "output_type": "execute_result"
    },
    {
     "data": {
      "image/png": "[encoded data removed]",
      "text/plain": [
       "<Figure size 432x288 with 1 Axes>"
      ]
     },
     "metadata": {
      "needs_background": "light"
     },
     "output_type": "display_data"
    }
   ],
   "source": [
    "import seaborn as sns\n",
    "sns.boxplot(x=data1['Pulse'])"
   ]
  },
  {
   "cell_type": "code",
   "execution_count": 114,
   "metadata": {},
   "outputs": [
    {
     "data": {
      "text/plain": [
       "<matplotlib.axes._subplots.AxesSubplot at 0x14cdce84c88>"
      ]
     },
     "execution_count": 114,
     "metadata": {},
     "output_type": "execute_result"
    },
    {
     "data": {
      "image/png": "[encoded data removed]",
      "text/plain": [
       "<Figure size 432x288 with 1 Axes>"
      ]
     },
     "metadata": {
      "needs_background": "light"
     },
     "output_type": "display_data"
    }
   ],
   "source": [
    "import seaborn as sns\n",
    "sns.boxplot(x=data1['Temperature'])"
   ]
  },
  {
   "cell_type": "code",
   "execution_count": 115,
   "metadata": {},
   "outputs": [
    {
     "data": {
      "image/png": "[encoded data removed]",
      "text/plain": [
       "<Figure size 1152x576 with 1 Axes>"
      ]
     },
     "metadata": {
      "needs_background": "light"
     },
     "output_type": "display_data"
    }
   ],
   "source": [
    "#Create a scatter plot for two variables 'indus' & 'tax'\n",
    "fig, ax = plt.subplots(figsize=(16,8))\n",
    "ax.scatter(data1['Level'], data1['SBP'])\n",
    "ax.set_xlabel('Level')\n",
    "ax.set_ylabel('SBP')\n",
    "plt.show()"
   ]
  },
  {
   "cell_type": "code",
   "execution_count": 116,
   "metadata": {},
   "outputs": [
    {
     "name": "stdout",
     "output_type": "stream",
     "text": [
      "[[0.24357291 0.12981141 0.83543145 0.93958575 1.17216922]\n",
      " [1.1416318  0.17883593 0.10332636 0.036012   0.00792006]\n",
      " [2.18053533 1.92783754 3.08845021 1.98720749 1.18800934]\n",
      " [0.58987408 0.07595348 0.64767989 1.42738462 1.17216922]\n",
      " [0.31283314 0.23269386 1.77418927 1.01160974 0.00792006]\n",
      " [1.97507879 1.67304813 0.10332636 0.52381087 1.18800934]\n",
      " [0.52061385 0.64422365 1.04208418 0.45178687 1.17216922]\n",
      " [1.62877761 2.18746037 0.64767989 0.93958575 1.18800934]\n",
      " [0.31283314 0.33557631 1.4175873  0.036012   1.17216922]\n",
      " [0.93617526 1.26151834 1.98084199 1.01160974 1.18800934]\n",
      " [0.45135361 0.84998854 0.0844252  0.45178687 1.17216922]\n",
      " [0.44902945 0.69324817 1.5864377  0.52381087 0.00792006]\n",
      " [1.48793298 0.89901307 1.21093458 1.98720749 1.18800934]\n",
      " [0.38209338 0.64422365 0.10332636 0.45178687 1.17216922]\n",
      " [0.65913432 0.5413412  1.22983574 0.93958575 1.17216922]\n",
      " [1.28247644 1.67304813 2.91959981 1.01160974 1.18800934]\n",
      " [0.58754992 0.79613062 0.0844252  0.52381087 0.00792006]\n",
      " [0.79533062 0.59036572 0.0844252  0.036012   0.00792006]\n",
      " [1.1416318  1.00189551 0.83543145 1.01160974 1.18800934]\n",
      " [0.31283314 0.33557631 1.04208418 0.45178687 1.17216922]\n",
      " [0.52061385 0.43845875 0.29107793 0.93958575 1.17216922]\n",
      " [1.2132162  1.36440078 0.64767989 1.49940861 1.18800934]\n",
      " [0.37976921 0.79613062 1.21093458 0.036012   0.00792006]\n",
      " [0.1719885  0.89901307 0.83543145 0.52381087 0.00792006]\n",
      " [1.62645345 1.41342531 1.5864377  1.98720749 1.18800934]\n",
      " [0.52061385 0.33557631 1.04208418 0.93958575 1.17216922]\n",
      " [0.38209338 0.5413412  1.4175873  0.45178687 1.17216922]\n",
      " [0.31050897 0.59036572 0.83543145 0.036012   0.00792006]\n",
      " [0.44902945 0.38460083 1.21093458 0.52381087 0.00792006]\n",
      " [1.69571368 1.10477796 1.5864377  1.98720749 1.18800934]\n",
      " [1.62877761 1.67304813 2.54409668 2.40298236 1.18800934]\n",
      " [1.69803785 2.18746037 1.98084199 2.89078124 1.18800934]\n",
      " [0.31283314 0.33557631 0.29107793 0.93958575 1.17216922]\n",
      " [0.45135361 0.23269386 0.0844252  0.45178687 1.17216922]\n",
      " [0.52061385 0.12981141 0.29107793 0.93958575 1.17216922]\n",
      " [0.58987408 0.33557631 1.4175873  0.45178687 1.17216922]\n",
      " [0.1719885  0.38460083 0.64767989 0.036012   0.00792006]\n",
      " [0.24124874 0.79613062 0.83543145 0.93958575 0.00792006]\n",
      " [0.31050897 0.69324817 0.64767989 0.52381087 0.00792006]\n",
      " [0.24357291 0.33557631 1.04208418 2.47500636 1.18800934]\n",
      " [0.38209338 0.23269386 0.0844252  2.96280523 1.18800934]\n",
      " [1.62877761 1.67304813 0.64767989 0.036012   1.18800934]\n",
      " [0.31283314 0.5413412  0.66658105 0.93958575 1.17216922]\n",
      " [0.38209338 0.23269386 1.04208418 0.45178687 1.17216922]\n",
      " [0.45135361 0.33557631 0.10332636 0.93958575 1.17216922]\n",
      " [1.48793298 1.10477796 1.21093458 0.52381087 1.18800934]\n",
      " [1.55719321 0.89901307 0.83543145 1.98720749 1.18800934]\n",
      " [0.24124874 0.38460083 0.64767989 0.036012   0.00792006]\n",
      " [0.1719885  0.69324817 0.45992833 0.93958575 0.00792006]\n",
      " [0.24357291 0.5413412  1.04208418 0.93958575 1.17216922]\n",
      " [0.38209338 0.23269386 0.0844252  0.036012   1.17216922]\n",
      " [1.1416318  1.8249551  1.77418927 1.01160974 1.18800934]\n",
      " [0.31050897 0.69324817 0.27217676 0.93958575 0.00792006]\n",
      " [0.1719885  0.59036572 0.0844252  0.45178687 0.00792006]\n",
      " [0.31283314 0.33557631 1.04208418 0.93958575 1.17216922]\n",
      " [0.38209338 0.43845875 0.10332636 0.45178687 1.17216922]\n",
      " [1.35173667 1.36440078 0.64767989 0.52381087 1.18800934]\n",
      " [1.62877761 1.77593057 1.22983574 1.98720749 1.18800934]\n",
      " [1.28015227 1.20766041 0.83543145 1.01160974 1.18800934]\n",
      " [0.1719885  0.38460083 0.64767989 0.45178687 0.00792006]\n",
      " [0.24124874 0.28171838 0.10332636 0.036012   0.00792006]\n",
      " [0.38209338 0.02692896 0.66658105 0.93958575 1.17216922]\n",
      " [0.24357291 0.33557631 1.04208418 0.45178687 1.17216922]\n",
      " [0.31283314 0.12981141 0.10332636 0.93958575 1.17216922]\n",
      " [0.38209338 0.33557631 1.22983574 0.93958575 1.17216922]\n",
      " [0.24124874 0.17883593 0.64767989 0.036012   0.00792006]\n",
      " [0.31050897 0.48748328 2.16859356 0.52381087 0.00792006]\n",
      " [1.76497392 1.51630775 1.21093458 1.49940861 1.18800934]\n",
      " [1.69571368 1.41342531 0.83543145 1.01160974 1.18800934]\n",
      " [1.76729809 2.18746037 2.16859356 0.52381087 1.18800934]\n",
      " [1.55951738 1.36440078 1.60533887 1.98720749 1.18800934]\n",
      " [0.1719885  0.38460083 0.0844252  0.036012   0.00792006]\n",
      " [0.24124874 0.59036572 0.45992833 0.93958575 0.00792006]\n",
      " [0.31050897 0.69324817 0.27217676 0.45178687 0.00792006]\n",
      " [0.24357291 0.23269386 0.10332636 0.93958575 1.17216922]\n",
      " [0.31283314 0.33557631 0.66658105 0.93958575 1.17216922]\n",
      " [0.38209338 0.43845875 1.04208418 0.45178687 1.17216922]\n",
      " [1.55951738 1.46728323 0.45992833 0.036012   1.18800934]\n",
      " [1.35173667 1.36440078 0.64767989 0.52381087 1.18800934]\n",
      " [1.28247644 1.26151834 0.0844252  0.45178687 1.18800934]\n",
      " [1.62877761 1.87881302 0.83543145 1.49940861 1.18800934]\n",
      " [0.65913432 0.33557631 0.10332636 0.93958575 1.17216922]\n",
      " [0.52061385 0.23269386 0.29107793 0.93958575 1.17216922]\n",
      " [0.45135361 0.12981141 0.47882949 0.45178687 1.17216922]\n",
      " [0.58987408 0.33557631 1.04208418 0.93958575 1.17216922]\n",
      " [1.83423415 1.51630775 1.21093458 1.01160974 1.18800934]\n",
      " [1.90349439 1.41342531 0.83543145 0.036012   1.18800934]\n",
      " [1.76497392 1.31054286 1.39868614 0.45178687 1.18800934]\n",
      " [0.03346803 0.28171838 0.0844252  0.93958575 0.00792006]\n",
      " [0.24357291 0.12981141 0.0844252  0.93958575 1.17216922]\n",
      " [0.31283314 0.33557631 1.04208418 0.93958575 1.17216922]\n",
      " [0.38209338 0.5413412  0.29107793 0.93958575 1.17216922]\n",
      " [0.45135361 0.23269386 0.47882949 0.93958575 1.17216922]\n",
      " [0.38209338 0.23269386 0.0844252  2.47500636 1.18800934]\n",
      " [0.24357291 0.12981141 0.10332636 2.47500636 1.18800934]\n",
      " [0.45135361 2.18746037 1.77418927 0.036012   0.00792006]\n",
      " [1.14395597 1.67304813 0.83543145 1.01160974 1.18800934]\n",
      " [1.69803785 1.57016568 0.64767989 1.01160974 1.18800934]\n",
      " [0.38209338 0.23269386 0.47882949 0.45178687 1.17216922]\n",
      " [0.51828968 0.48748328 0.0844252  0.93958575 0.00792006]\n",
      " [0.58754992 0.59036572 0.27217676 0.93958575 0.00792006]\n",
      " [0.58754992 0.48748328 0.10332636 1.01160974 0.00792006]\n",
      " [0.65681015 1.10477796 0.64767989 0.036012   0.00792006]\n",
      " [0.72607039 0.59036572 0.45992833 0.45178687 0.00792006]\n",
      " [0.79533062 0.79613062 0.83543145 0.036012   0.00792006]\n",
      " [0.86459086 0.89901307 0.64767989 0.52381087 0.00792006]\n",
      " [1.55951738 1.36440078 1.04208418 0.45178687 1.18800934]\n",
      " [1.49025714 1.46728323 1.98084199 0.52381087 1.18800934]\n",
      " [1.69803785 1.36440078 1.79309043 1.01160974 1.18800934]\n",
      " [1.48793298 1.92783754 0.10332636 0.036012   1.18800934]\n",
      " [1.55719321 2.03071999 1.21093458 0.52381087 1.18800934]\n",
      " [1.55719321 1.41342531 1.02318301 0.036012   1.18800934]\n",
      " [1.97275462 1.72207265 0.10332636 0.45178687 1.18800934]\n",
      " [2.11127509 1.8249551  0.64767989 0.036012   1.18800934]\n",
      " [0.38209338 0.23269386 0.85433262 0.93958575 1.17216922]\n",
      " [0.31283314 0.5413412  1.04208418 0.45178687 1.17216922]\n",
      " [0.24357291 0.33557631 1.22983574 0.93958575 1.17216922]\n",
      " [0.45135361 0.23269386 1.4175873  0.93958575 1.17216922]\n",
      " [0.52061385 0.12981141 1.04208418 0.93958575 1.17216922]\n",
      " [0.31283314 0.12981141 0.47882949 0.45178687 1.17216922]\n",
      " [0.31283314 0.23269386 1.04208418 0.93958575 1.17216922]\n",
      " [0.10272827 0.38460083 0.10332636 0.036012   0.00792006]\n",
      " [0.1719885  0.59036572 0.27217676 0.52381087 0.00792006]\n",
      " [0.31050897 0.69324817 0.64767989 0.52381087 0.00792006]\n",
      " [0.44902945 0.38460083 0.0844252  0.036012   0.00792006]\n",
      " [1.69571368 0.89901307 0.0844252  0.52381087 1.18800934]\n",
      " [1.62645345 1.10477796 0.83543145 0.45178687 1.18800934]\n",
      " [2.04201486 2.03071999 1.02318301 1.01160974 1.18800934]\n",
      " [1.90349439 1.8249551  1.21093458 1.49940861 1.18800934]\n",
      " [0.38209338 0.33557631 1.4175873  0.93958575 1.17216922]\n",
      " [0.31283314 0.23269386 1.04208418 0.93958575 1.17216922]\n",
      " [0.24357291 0.33557631 0.85433262 0.45178687 1.17216922]\n",
      " [0.31283314 0.33557631 0.29107793 0.93958575 1.17216922]\n",
      " [1.76729809 1.77593057 0.0844252  0.93958575 1.18800934]\n",
      " [1.35173667 1.46728323 1.5864377  1.49940861 1.18800934]\n",
      " [1.2132162  1.98169547 0.45992833 1.01160974 1.18800934]\n",
      " [0.44902945 0.59036572 0.0844252  0.036012   0.00792006]\n",
      " [0.52061385 0.33557631 0.47882949 0.93958575 1.17216922]\n",
      " [0.38209338 0.23269386 1.22983574 0.93958575 1.17216922]\n",
      " [0.45135361 0.43845875 0.29107793 0.93958575 1.17216922]\n",
      " [0.72607039 0.48748328 0.45992833 0.036012   0.00792006]\n",
      " [0.86459086 0.59036572 0.83543145 0.52381087 0.00792006]\n",
      " [1.07237156 0.69324817 1.02318301 0.036012   0.00792006]\n",
      " [1.62645345 1.31054286 0.64767989 0.036012   1.18800934]\n",
      " [2.11127509 1.8249551  1.39868614 1.49940861 1.18800934]\n",
      " [0.38209338 0.43845875 0.47882949 0.93958575 1.17216922]\n",
      " [0.10272827 0.59036572 0.64767989 1.01160974 0.00792006]\n",
      " [0.58754992 0.69324817 0.45992833 0.52381087 0.00792006]\n",
      " [0.38209338 0.07595348 0.29107793 0.93958575 1.17216922]]\n"
     ]
    }
   ],
   "source": [
    "#Get Z-scores of Boston data\n",
    "from scipy import stats\n",
    "import numpy as np\n",
    "z = np.abs(stats.zscore(data1))\n",
    "print(z)"
   ]
  },
  {
   "cell_type": "code",
   "execution_count": 117,
   "metadata": {},
   "outputs": [
    {
     "name": "stdout",
     "output_type": "stream",
     "text": [
      "(array([2], dtype=int64), array([2], dtype=int64))\n"
     ]
    }
   ],
   "source": [
    "threshold = 3\n",
    "print(np.where(z > 3))"
   ]
  },
  {
   "cell_type": "code",
   "execution_count": 118,
   "metadata": {},
   "outputs": [
    {
     "name": "stdout",
     "output_type": "stream",
     "text": [
      "3.0884502074454594\n"
     ]
    }
   ],
   "source": [
    "print(z[2][2])"
   ]
  },
  {
   "cell_type": "code",
   "execution_count": 119,
   "metadata": {},
   "outputs": [
    {
     "name": "stdout",
     "output_type": "stream",
     "text": [
      "SBP            15.0\n",
      "DBP            11.0\n",
      "Pulse           7.0\n",
      "Temperature     3.0\n",
      "Level           2.0\n",
      "dtype: float64\n"
     ]
    }
   ],
   "source": [
    "Q1 = data1.quantile(0.25)\n",
    "Q3 = data1.quantile(0.75)\n",
    "IQR = Q3 - Q1\n",
    "print(IQR)"
   ]
  },
  {
   "cell_type": "code",
   "execution_count": 120,
   "metadata": {},
   "outputs": [
    {
     "data": {
      "text/html": [
       "<div>\n",
       "<style scoped>\n",
       "    .dataframe tbody tr th:only-of-type {\n",
       "        vertical-align: middle;\n",
       "    }\n",
       "\n",
       "    .dataframe tbody tr th {\n",
       "        vertical-align: top;\n",
       "    }\n",
       "\n",
       "    .dataframe thead th {\n",
       "        text-align: right;\n",
       "    }\n",
       "</style>\n",
       "<table border=\"1\" class=\"dataframe\">\n",
       "  <thead>\n",
       "    <tr style=\"text-align: right;\">\n",
       "      <th></th>\n",
       "      <th>SBP</th>\n",
       "      <th>DBP</th>\n",
       "      <th>Pulse</th>\n",
       "      <th>Temperature</th>\n",
       "      <th>Level</th>\n",
       "    </tr>\n",
       "  </thead>\n",
       "  <tbody>\n",
       "    <tr>\n",
       "      <th>0</th>\n",
       "      <td>120</td>\n",
       "      <td>80</td>\n",
       "      <td>80</td>\n",
       "      <td>98</td>\n",
       "      <td>0</td>\n",
       "    </tr>\n",
       "    <tr>\n",
       "      <th>1</th>\n",
       "      <td>140</td>\n",
       "      <td>83</td>\n",
       "      <td>75</td>\n",
       "      <td>100</td>\n",
       "      <td>1</td>\n",
       "    </tr>\n",
       "    <tr>\n",
       "      <th>3</th>\n",
       "      <td>115</td>\n",
       "      <td>82</td>\n",
       "      <td>79</td>\n",
       "      <td>97</td>\n",
       "      <td>0</td>\n",
       "    </tr>\n",
       "    <tr>\n",
       "      <th>4</th>\n",
       "      <td>119</td>\n",
       "      <td>79</td>\n",
       "      <td>85</td>\n",
       "      <td>102</td>\n",
       "      <td>1</td>\n",
       "    </tr>\n",
       "    <tr>\n",
       "      <th>5</th>\n",
       "      <td>95</td>\n",
       "      <td>65</td>\n",
       "      <td>75</td>\n",
       "      <td>101</td>\n",
       "      <td>2</td>\n",
       "    </tr>\n",
       "    <tr>\n",
       "      <th>...</th>\n",
       "      <td>...</td>\n",
       "      <td>...</td>\n",
       "      <td>...</td>\n",
       "      <td>...</td>\n",
       "      <td>...</td>\n",
       "    </tr>\n",
       "    <tr>\n",
       "      <th>144</th>\n",
       "      <td>154</td>\n",
       "      <td>99</td>\n",
       "      <td>83</td>\n",
       "      <td>103</td>\n",
       "      <td>2</td>\n",
       "    </tr>\n",
       "    <tr>\n",
       "      <th>145</th>\n",
       "      <td>118</td>\n",
       "      <td>77</td>\n",
       "      <td>73</td>\n",
       "      <td>98</td>\n",
       "      <td>0</td>\n",
       "    </tr>\n",
       "    <tr>\n",
       "      <th>146</th>\n",
       "      <td>125</td>\n",
       "      <td>87</td>\n",
       "      <td>79</td>\n",
       "      <td>102</td>\n",
       "      <td>1</td>\n",
       "    </tr>\n",
       "    <tr>\n",
       "      <th>147</th>\n",
       "      <td>132</td>\n",
       "      <td>88</td>\n",
       "      <td>78</td>\n",
       "      <td>101</td>\n",
       "      <td>1</td>\n",
       "    </tr>\n",
       "    <tr>\n",
       "      <th>148</th>\n",
       "      <td>118</td>\n",
       "      <td>82</td>\n",
       "      <td>74</td>\n",
       "      <td>98</td>\n",
       "      <td>0</td>\n",
       "    </tr>\n",
       "  </tbody>\n",
       "</table>\n",
       "<p>148 rows × 5 columns</p>\n",
       "</div>"
      ],
      "text/plain": [
       "     SBP  DBP  Pulse  Temperature  Level\n",
       "0    120   80     80           98      0\n",
       "1    140   83     75          100      1\n",
       "3    115   82     79           97      0\n",
       "4    119   79     85          102      1\n",
       "5     95   65     75          101      2\n",
       "..   ...  ...    ...          ...    ...\n",
       "144  154   99     83          103      2\n",
       "145  118   77     73           98      0\n",
       "146  125   87     79          102      1\n",
       "147  132   88     78          101      1\n",
       "148  118   82     74           98      0\n",
       "\n",
       "[148 rows x 5 columns]"
      ]
     },
     "execution_count": 120,
     "metadata": {},
     "output_type": "execute_result"
    }
   ],
   "source": [
    "air_data1_o = data1[(z < 3).all(axis=1)]\n",
    "air_data1_o"
   ]
  },
  {
   "cell_type": "code",
   "execution_count": 121,
   "metadata": {},
   "outputs": [
    {
     "data": {
      "text/html": [
       "<div>\n",
       "<style scoped>\n",
       "    .dataframe tbody tr th:only-of-type {\n",
       "        vertical-align: middle;\n",
       "    }\n",
       "\n",
       "    .dataframe tbody tr th {\n",
       "        vertical-align: top;\n",
       "    }\n",
       "\n",
       "    .dataframe thead th {\n",
       "        text-align: right;\n",
       "    }\n",
       "</style>\n",
       "<table border=\"1\" class=\"dataframe\">\n",
       "  <thead>\n",
       "    <tr style=\"text-align: right;\">\n",
       "      <th></th>\n",
       "      <th>SBP</th>\n",
       "      <th>DBP</th>\n",
       "      <th>Pulse</th>\n",
       "      <th>Temperature</th>\n",
       "      <th>Level</th>\n",
       "    </tr>\n",
       "  </thead>\n",
       "  <tbody>\n",
       "    <tr>\n",
       "      <th>0</th>\n",
       "      <td>120</td>\n",
       "      <td>80</td>\n",
       "      <td>80</td>\n",
       "      <td>98</td>\n",
       "      <td>0</td>\n",
       "    </tr>\n",
       "    <tr>\n",
       "      <th>1</th>\n",
       "      <td>140</td>\n",
       "      <td>83</td>\n",
       "      <td>75</td>\n",
       "      <td>100</td>\n",
       "      <td>1</td>\n",
       "    </tr>\n",
       "    <tr>\n",
       "      <th>3</th>\n",
       "      <td>115</td>\n",
       "      <td>82</td>\n",
       "      <td>79</td>\n",
       "      <td>97</td>\n",
       "      <td>0</td>\n",
       "    </tr>\n",
       "    <tr>\n",
       "      <th>4</th>\n",
       "      <td>119</td>\n",
       "      <td>79</td>\n",
       "      <td>85</td>\n",
       "      <td>102</td>\n",
       "      <td>1</td>\n",
       "    </tr>\n",
       "    <tr>\n",
       "      <th>5</th>\n",
       "      <td>95</td>\n",
       "      <td>65</td>\n",
       "      <td>75</td>\n",
       "      <td>101</td>\n",
       "      <td>2</td>\n",
       "    </tr>\n",
       "    <tr>\n",
       "      <th>...</th>\n",
       "      <td>...</td>\n",
       "      <td>...</td>\n",
       "      <td>...</td>\n",
       "      <td>...</td>\n",
       "      <td>...</td>\n",
       "    </tr>\n",
       "    <tr>\n",
       "      <th>144</th>\n",
       "      <td>154</td>\n",
       "      <td>99</td>\n",
       "      <td>83</td>\n",
       "      <td>103</td>\n",
       "      <td>2</td>\n",
       "    </tr>\n",
       "    <tr>\n",
       "      <th>145</th>\n",
       "      <td>118</td>\n",
       "      <td>77</td>\n",
       "      <td>73</td>\n",
       "      <td>98</td>\n",
       "      <td>0</td>\n",
       "    </tr>\n",
       "    <tr>\n",
       "      <th>146</th>\n",
       "      <td>125</td>\n",
       "      <td>87</td>\n",
       "      <td>79</td>\n",
       "      <td>102</td>\n",
       "      <td>1</td>\n",
       "    </tr>\n",
       "    <tr>\n",
       "      <th>147</th>\n",
       "      <td>132</td>\n",
       "      <td>88</td>\n",
       "      <td>78</td>\n",
       "      <td>101</td>\n",
       "      <td>1</td>\n",
       "    </tr>\n",
       "    <tr>\n",
       "      <th>148</th>\n",
       "      <td>118</td>\n",
       "      <td>82</td>\n",
       "      <td>74</td>\n",
       "      <td>98</td>\n",
       "      <td>0</td>\n",
       "    </tr>\n",
       "  </tbody>\n",
       "</table>\n",
       "<p>148 rows × 5 columns</p>\n",
       "</div>"
      ],
      "text/plain": [
       "     SBP  DBP  Pulse  Temperature  Level\n",
       "0    120   80     80           98      0\n",
       "1    140   83     75          100      1\n",
       "3    115   82     79           97      0\n",
       "4    119   79     85          102      1\n",
       "5     95   65     75          101      2\n",
       "..   ...  ...    ...          ...    ...\n",
       "144  154   99     83          103      2\n",
       "145  118   77     73           98      0\n",
       "146  125   87     79          102      1\n",
       "147  132   88     78          101      1\n",
       "148  118   82     74           98      0\n",
       "\n",
       "[148 rows x 5 columns]"
      ]
     },
     "execution_count": 121,
     "metadata": {},
     "output_type": "execute_result"
    }
   ],
   "source": [
    "air_data1_o = data1[(z < 3).all(axis=1)]\n",
    "air_data1_o"
   ]
  },
  {
   "cell_type": "code",
   "execution_count": 122,
   "metadata": {},
   "outputs": [],
   "source": [
    "air_data1_o = data1[(z < 3).all(axis=1)]"
   ]
  },
  {
   "cell_type": "code",
   "execution_count": 123,
   "metadata": {},
   "outputs": [
    {
     "data": {
      "text/html": [
       "<div>\n",
       "<style scoped>\n",
       "    .dataframe tbody tr th:only-of-type {\n",
       "        vertical-align: middle;\n",
       "    }\n",
       "\n",
       "    .dataframe tbody tr th {\n",
       "        vertical-align: top;\n",
       "    }\n",
       "\n",
       "    .dataframe thead th {\n",
       "        text-align: right;\n",
       "    }\n",
       "</style>\n",
       "<table border=\"1\" class=\"dataframe\">\n",
       "  <thead>\n",
       "    <tr style=\"text-align: right;\">\n",
       "      <th></th>\n",
       "      <th>SBP</th>\n",
       "      <th>DBP</th>\n",
       "      <th>Pulse</th>\n",
       "      <th>Temperature</th>\n",
       "      <th>Level</th>\n",
       "    </tr>\n",
       "  </thead>\n",
       "  <tbody>\n",
       "    <tr>\n",
       "      <th>0</th>\n",
       "      <td>120</td>\n",
       "      <td>80</td>\n",
       "      <td>80</td>\n",
       "      <td>98</td>\n",
       "      <td>0</td>\n",
       "    </tr>\n",
       "    <tr>\n",
       "      <th>1</th>\n",
       "      <td>140</td>\n",
       "      <td>83</td>\n",
       "      <td>75</td>\n",
       "      <td>100</td>\n",
       "      <td>1</td>\n",
       "    </tr>\n",
       "    <tr>\n",
       "      <th>3</th>\n",
       "      <td>115</td>\n",
       "      <td>82</td>\n",
       "      <td>79</td>\n",
       "      <td>97</td>\n",
       "      <td>0</td>\n",
       "    </tr>\n",
       "    <tr>\n",
       "      <th>4</th>\n",
       "      <td>119</td>\n",
       "      <td>79</td>\n",
       "      <td>85</td>\n",
       "      <td>102</td>\n",
       "      <td>1</td>\n",
       "    </tr>\n",
       "    <tr>\n",
       "      <th>5</th>\n",
       "      <td>95</td>\n",
       "      <td>65</td>\n",
       "      <td>75</td>\n",
       "      <td>101</td>\n",
       "      <td>2</td>\n",
       "    </tr>\n",
       "    <tr>\n",
       "      <th>...</th>\n",
       "      <td>...</td>\n",
       "      <td>...</td>\n",
       "      <td>...</td>\n",
       "      <td>...</td>\n",
       "      <td>...</td>\n",
       "    </tr>\n",
       "    <tr>\n",
       "      <th>144</th>\n",
       "      <td>154</td>\n",
       "      <td>99</td>\n",
       "      <td>83</td>\n",
       "      <td>103</td>\n",
       "      <td>2</td>\n",
       "    </tr>\n",
       "    <tr>\n",
       "      <th>145</th>\n",
       "      <td>118</td>\n",
       "      <td>77</td>\n",
       "      <td>73</td>\n",
       "      <td>98</td>\n",
       "      <td>0</td>\n",
       "    </tr>\n",
       "    <tr>\n",
       "      <th>146</th>\n",
       "      <td>125</td>\n",
       "      <td>87</td>\n",
       "      <td>79</td>\n",
       "      <td>102</td>\n",
       "      <td>1</td>\n",
       "    </tr>\n",
       "    <tr>\n",
       "      <th>147</th>\n",
       "      <td>132</td>\n",
       "      <td>88</td>\n",
       "      <td>78</td>\n",
       "      <td>101</td>\n",
       "      <td>1</td>\n",
       "    </tr>\n",
       "    <tr>\n",
       "      <th>148</th>\n",
       "      <td>118</td>\n",
       "      <td>82</td>\n",
       "      <td>74</td>\n",
       "      <td>98</td>\n",
       "      <td>0</td>\n",
       "    </tr>\n",
       "  </tbody>\n",
       "</table>\n",
       "<p>148 rows × 5 columns</p>\n",
       "</div>"
      ],
      "text/plain": [
       "     SBP  DBP  Pulse  Temperature  Level\n",
       "0    120   80     80           98      0\n",
       "1    140   83     75          100      1\n",
       "3    115   82     79           97      0\n",
       "4    119   79     85          102      1\n",
       "5     95   65     75          101      2\n",
       "..   ...  ...    ...          ...    ...\n",
       "144  154   99     83          103      2\n",
       "145  118   77     73           98      0\n",
       "146  125   87     79          102      1\n",
       "147  132   88     78          101      1\n",
       "148  118   82     74           98      0\n",
       "\n",
       "[148 rows x 5 columns]"
      ]
     },
     "execution_count": 123,
     "metadata": {},
     "output_type": "execute_result"
    }
   ],
   "source": [
    "air_data1_o"
   ]
  },
  {
   "cell_type": "code",
   "execution_count": 124,
   "metadata": {},
   "outputs": [
    {
     "data": {
      "text/plain": [
       "(149, 5)"
      ]
     },
     "execution_count": 124,
     "metadata": {},
     "output_type": "execute_result"
    }
   ],
   "source": [
    "data1.shape"
   ]
  },
  {
   "cell_type": "code",
   "execution_count": 125,
   "metadata": {},
   "outputs": [
    {
     "data": {
      "text/plain": [
       "(142, 5)"
      ]
     },
     "execution_count": 125,
     "metadata": {},
     "output_type": "execute_result"
    }
   ],
   "source": [
    "air_data1_out = data1[~((data1 < (Q1 - 1.5 * IQR)) |(data1 > (Q3 + 1.5 * IQR))).any(axis=1)]\n",
    "air_data1_out.shape"
   ]
  },
  {
   "cell_type": "markdown",
   "metadata": {},
   "source": [
    "# Label Encoding and One Hot Encoding "
   ]
  },
  {
   "cell_type": "markdown",
   "metadata": {},
   "source": [
    "# As our health Monitoring dataset dosent conist of categorical data we can skip this methods"
   ]
  },
  {
   "cell_type": "markdown",
   "metadata": {},
   "source": [
    "# Splitting the scale into train and test data set"
   ]
  },
  {
   "cell_type": "code",
   "execution_count": 154,
   "metadata": {},
   "outputs": [],
   "source": [
    "X=data1.iloc[:,0:4]\n",
    "y=data1.iloc[:,4]"
   ]
  },
  {
   "cell_type": "code",
   "execution_count": 155,
   "metadata": {},
   "outputs": [
    {
     "data": {
      "text/html": [
       "<div>\n",
       "<style scoped>\n",
       "    .dataframe tbody tr th:only-of-type {\n",
       "        vertical-align: middle;\n",
       "    }\n",
       "\n",
       "    .dataframe tbody tr th {\n",
       "        vertical-align: top;\n",
       "    }\n",
       "\n",
       "    .dataframe thead th {\n",
       "        text-align: right;\n",
       "    }\n",
       "</style>\n",
       "<table border=\"1\" class=\"dataframe\">\n",
       "  <thead>\n",
       "    <tr style=\"text-align: right;\">\n",
       "      <th></th>\n",
       "      <th>SBP</th>\n",
       "      <th>DBP</th>\n",
       "      <th>Pulse</th>\n",
       "      <th>Temperature</th>\n",
       "    </tr>\n",
       "  </thead>\n",
       "  <tbody>\n",
       "    <tr>\n",
       "      <th>0</th>\n",
       "      <td>120</td>\n",
       "      <td>80</td>\n",
       "      <td>80</td>\n",
       "      <td>98</td>\n",
       "    </tr>\n",
       "    <tr>\n",
       "      <th>1</th>\n",
       "      <td>140</td>\n",
       "      <td>83</td>\n",
       "      <td>75</td>\n",
       "      <td>100</td>\n",
       "    </tr>\n",
       "    <tr>\n",
       "      <th>2</th>\n",
       "      <td>155</td>\n",
       "      <td>100</td>\n",
       "      <td>92</td>\n",
       "      <td>104</td>\n",
       "    </tr>\n",
       "    <tr>\n",
       "      <th>3</th>\n",
       "      <td>115</td>\n",
       "      <td>82</td>\n",
       "      <td>79</td>\n",
       "      <td>97</td>\n",
       "    </tr>\n",
       "    <tr>\n",
       "      <th>4</th>\n",
       "      <td>119</td>\n",
       "      <td>79</td>\n",
       "      <td>85</td>\n",
       "      <td>102</td>\n",
       "    </tr>\n",
       "    <tr>\n",
       "      <th>...</th>\n",
       "      <td>...</td>\n",
       "      <td>...</td>\n",
       "      <td>...</td>\n",
       "      <td>...</td>\n",
       "    </tr>\n",
       "    <tr>\n",
       "      <th>144</th>\n",
       "      <td>154</td>\n",
       "      <td>99</td>\n",
       "      <td>83</td>\n",
       "      <td>103</td>\n",
       "    </tr>\n",
       "    <tr>\n",
       "      <th>145</th>\n",
       "      <td>118</td>\n",
       "      <td>77</td>\n",
       "      <td>73</td>\n",
       "      <td>98</td>\n",
       "    </tr>\n",
       "    <tr>\n",
       "      <th>146</th>\n",
       "      <td>125</td>\n",
       "      <td>87</td>\n",
       "      <td>79</td>\n",
       "      <td>102</td>\n",
       "    </tr>\n",
       "    <tr>\n",
       "      <th>147</th>\n",
       "      <td>132</td>\n",
       "      <td>88</td>\n",
       "      <td>78</td>\n",
       "      <td>101</td>\n",
       "    </tr>\n",
       "    <tr>\n",
       "      <th>148</th>\n",
       "      <td>118</td>\n",
       "      <td>82</td>\n",
       "      <td>74</td>\n",
       "      <td>98</td>\n",
       "    </tr>\n",
       "  </tbody>\n",
       "</table>\n",
       "<p>149 rows × 4 columns</p>\n",
       "</div>"
      ],
      "text/plain": [
       "     SBP  DBP  Pulse  Temperature\n",
       "0    120   80     80           98\n",
       "1    140   83     75          100\n",
       "2    155  100     92          104\n",
       "3    115   82     79           97\n",
       "4    119   79     85          102\n",
       "..   ...  ...    ...          ...\n",
       "144  154   99     83          103\n",
       "145  118   77     73           98\n",
       "146  125   87     79          102\n",
       "147  132   88     78          101\n",
       "148  118   82     74           98\n",
       "\n",
       "[149 rows x 4 columns]"
      ]
     },
     "execution_count": 155,
     "metadata": {},
     "output_type": "execute_result"
    }
   ],
   "source": [
    "X"
   ]
  },
  {
   "cell_type": "code",
   "execution_count": 156,
   "metadata": {},
   "outputs": [
    {
     "data": {
      "text/plain": [
       "0      0\n",
       "1      1\n",
       "2      2\n",
       "3      0\n",
       "4      1\n",
       "      ..\n",
       "144    2\n",
       "145    0\n",
       "146    1\n",
       "147    1\n",
       "148    0\n",
       "Name: Level, Length: 149, dtype: int64"
      ]
     },
     "execution_count": 156,
     "metadata": {},
     "output_type": "execute_result"
    }
   ],
   "source": [
    "y"
   ]
  },
  {
   "cell_type": "code",
   "execution_count": 157,
   "metadata": {},
   "outputs": [
    {
     "data": {
      "text/plain": [
       "array([[0.83333333, 0.97560976, 1.25      , 0.66666667],\n",
       "       [1.5       , 1.12195122, 0.9375    , 1.        ],\n",
       "       [2.        , 1.95121951, 2.        , 1.66666667],\n",
       "       [0.66666667, 1.07317073, 1.1875    , 0.5       ],\n",
       "       [0.8       , 0.92682927, 1.5625    , 1.33333333],\n",
       "       [0.        , 0.24390244, 0.9375    , 1.16666667],\n",
       "       [0.7       , 0.73170732, 0.625     , 0.83333333],\n",
       "       [0.16666667, 0.        , 1.1875    , 0.66666667],\n",
       "       [0.8       , 0.87804878, 0.5       , 1.        ],\n",
       "       [0.5       , 0.43902439, 0.3125    , 1.33333333],\n",
       "       [0.73333333, 0.63414634, 1.        , 0.83333333],\n",
       "       [1.16666667, 1.36585366, 1.5       , 1.16666667],\n",
       "       [1.66666667, 1.46341463, 1.375     , 1.66666667],\n",
       "       [0.76666667, 0.73170732, 0.9375    , 0.83333333],\n",
       "       [0.63333333, 0.7804878 , 0.5625    , 0.66666667],\n",
       "       [0.33333333, 0.24390244, 0.        , 1.33333333],\n",
       "       [1.23333333, 1.41463415, 1.        , 1.16666667],\n",
       "       [1.33333333, 1.31707317, 1.        , 1.        ],\n",
       "       [1.5       , 1.51219512, 1.25      , 1.33333333],\n",
       "       [0.8       , 0.87804878, 0.625     , 0.83333333],\n",
       "       [0.7       , 0.82926829, 0.875     , 0.66666667],\n",
       "       [0.36666667, 0.3902439 , 1.1875    , 1.5       ],\n",
       "       [1.13333333, 1.41463415, 1.375     , 1.        ],\n",
       "       [1.03333333, 1.46341463, 1.25      , 1.16666667],\n",
       "       [1.73333333, 1.70731707, 1.5       , 1.66666667],\n",
       "       [0.7       , 0.87804878, 0.625     , 0.66666667],\n",
       "       [0.76666667, 0.7804878 , 0.5       , 0.83333333],\n",
       "       [1.1       , 1.31707317, 1.25      , 1.        ],\n",
       "       [1.16666667, 1.2195122 , 1.375     , 1.16666667],\n",
       "       [1.76666667, 1.56097561, 1.5       , 1.66666667],\n",
       "       [0.16666667, 0.24390244, 0.125     , 0.16666667],\n",
       "       [0.13333333, 0.        , 0.3125    , 0.        ],\n",
       "       [0.8       , 0.87804878, 0.875     , 0.66666667],\n",
       "       [0.73333333, 0.92682927, 1.        , 0.83333333],\n",
       "       [0.7       , 0.97560976, 0.875     , 0.66666667],\n",
       "       [0.66666667, 0.87804878, 0.5       , 0.83333333],\n",
       "       [1.03333333, 1.2195122 , 1.1875    , 1.        ],\n",
       "       [1.06666667, 1.41463415, 1.25      , 0.66666667],\n",
       "       [1.1       , 1.36585366, 1.1875    , 1.16666667],\n",
       "       [0.83333333, 0.87804878, 0.625     , 1.83333333],\n",
       "       [0.76666667, 0.92682927, 1.        , 2.        ],\n",
       "       [0.16666667, 0.24390244, 1.1875    , 1.        ],\n",
       "       [0.8       , 0.7804878 , 0.75      , 0.66666667],\n",
       "       [0.76666667, 0.92682927, 0.625     , 0.83333333],\n",
       "       [0.73333333, 0.87804878, 0.9375    , 0.66666667],\n",
       "       [1.66666667, 1.56097561, 1.375     , 1.16666667],\n",
       "       [1.7       , 1.46341463, 1.25      , 1.66666667],\n",
       "       [1.06666667, 1.2195122 , 1.1875    , 1.        ],\n",
       "       [1.03333333, 1.36585366, 1.125     , 0.66666667],\n",
       "       [0.83333333, 0.7804878 , 0.625     , 0.66666667],\n",
       "       [0.76666667, 0.92682927, 1.        , 1.        ],\n",
       "       [1.5       , 1.90243902, 1.5625    , 1.33333333],\n",
       "       [1.1       , 1.36585366, 1.0625    , 0.66666667],\n",
       "       [1.03333333, 1.31707317, 1.        , 0.83333333],\n",
       "       [0.8       , 0.87804878, 0.625     , 0.66666667],\n",
       "       [0.76666667, 0.82926829, 0.9375    , 0.83333333],\n",
       "       [0.3       , 0.3902439 , 1.1875    , 1.16666667],\n",
       "       [0.16666667, 0.19512195, 0.5625    , 1.66666667],\n",
       "       [1.56666667, 1.6097561 , 1.25      , 1.33333333],\n",
       "       [1.03333333, 1.2195122 , 1.1875    , 0.83333333],\n",
       "       [1.06666667, 1.17073171, 0.9375    , 1.        ],\n",
       "       [0.76666667, 1.02439024, 0.75      , 0.66666667],\n",
       "       [0.83333333, 0.87804878, 0.625     , 0.83333333],\n",
       "       [0.8       , 0.97560976, 0.9375    , 0.66666667],\n",
       "       [0.76666667, 0.87804878, 0.5625    , 0.66666667],\n",
       "       [1.06666667, 1.12195122, 1.1875    , 1.        ],\n",
       "       [1.1       , 1.26829268, 0.25      , 1.16666667],\n",
       "       [1.8       , 1.75609756, 1.375     , 1.5       ],\n",
       "       [1.76666667, 1.70731707, 1.25      , 1.33333333],\n",
       "       [0.1       , 0.        , 0.25      , 1.16666667],\n",
       "       [0.2       , 0.3902439 , 0.4375    , 1.66666667],\n",
       "       [1.03333333, 1.2195122 , 1.        , 1.        ],\n",
       "       [1.06666667, 1.31707317, 1.125     , 0.66666667],\n",
       "       [1.1       , 1.36585366, 1.0625    , 0.83333333],\n",
       "       [0.83333333, 0.92682927, 0.9375    , 0.66666667],\n",
       "       [0.8       , 0.87804878, 0.75      , 0.66666667],\n",
       "       [0.76666667, 0.82926829, 0.625     , 0.83333333],\n",
       "       [0.2       , 0.34146341, 1.125     , 1.        ],\n",
       "       [0.3       , 0.3902439 , 1.1875    , 1.16666667],\n",
       "       [0.33333333, 0.43902439, 1.        , 0.83333333],\n",
       "       [0.16666667, 0.14634146, 1.25      , 1.5       ],\n",
       "       [0.63333333, 0.87804878, 0.9375    , 0.66666667],\n",
       "       [0.7       , 0.92682927, 0.875     , 0.66666667],\n",
       "       [0.73333333, 0.97560976, 0.8125    , 0.83333333],\n",
       "       [0.66666667, 0.87804878, 0.625     , 0.66666667],\n",
       "       [1.83333333, 1.75609756, 1.375     , 1.33333333],\n",
       "       [1.86666667, 1.70731707, 1.25      , 1.        ],\n",
       "       [1.8       , 1.65853659, 1.4375    , 0.83333333],\n",
       "       [0.96666667, 1.17073171, 1.        , 0.66666667],\n",
       "       [0.83333333, 0.97560976, 1.        , 0.66666667],\n",
       "       [0.8       , 0.87804878, 0.625     , 0.66666667],\n",
       "       [0.76666667, 0.7804878 , 0.875     , 0.66666667],\n",
       "       [0.73333333, 0.92682927, 0.8125    , 0.66666667],\n",
       "       [0.76666667, 0.92682927, 1.        , 1.83333333],\n",
       "       [0.83333333, 0.97560976, 0.9375    , 1.83333333],\n",
       "       [0.73333333, 0.        , 1.5625    , 1.        ],\n",
       "       [0.4       , 0.24390244, 1.25      , 1.33333333],\n",
       "       [0.13333333, 0.29268293, 1.1875    , 1.33333333],\n",
       "       [0.76666667, 0.92682927, 0.8125    , 0.83333333],\n",
       "       [1.2       , 1.26829268, 1.        , 0.66666667],\n",
       "       [1.23333333, 1.31707317, 1.0625    , 0.66666667],\n",
       "       [1.23333333, 1.26829268, 0.9375    , 1.33333333],\n",
       "       [1.26666667, 1.56097561, 1.1875    , 1.        ],\n",
       "       [1.3       , 1.31707317, 1.125     , 0.83333333],\n",
       "       [1.33333333, 1.41463415, 1.25      , 1.        ],\n",
       "       [1.36666667, 1.46341463, 1.1875    , 1.16666667],\n",
       "       [0.2       , 0.3902439 , 0.625     , 0.83333333],\n",
       "       [0.23333333, 0.34146341, 0.3125    , 1.16666667],\n",
       "       [0.13333333, 0.3902439 , 0.375     , 1.33333333],\n",
       "       [1.66666667, 1.95121951, 0.9375    , 1.        ],\n",
       "       [1.7       , 2.        , 1.375     , 1.16666667],\n",
       "       [1.7       , 1.70731707, 1.3125    , 1.        ],\n",
       "       [1.9       , 1.85365854, 0.9375    , 0.83333333],\n",
       "       [1.96666667, 1.90243902, 1.1875    , 1.        ],\n",
       "       [0.76666667, 0.92682927, 0.6875    , 0.66666667],\n",
       "       [0.8       , 0.7804878 , 0.625     , 0.83333333],\n",
       "       [0.83333333, 0.87804878, 0.5625    , 0.66666667],\n",
       "       [0.73333333, 0.92682927, 0.5       , 0.66666667],\n",
       "       [0.7       , 0.97560976, 0.625     , 0.66666667],\n",
       "       [0.8       , 0.97560976, 0.8125    , 0.83333333],\n",
       "       [0.8       , 0.92682927, 0.625     , 0.66666667],\n",
       "       [1.        , 1.2195122 , 0.9375    , 1.        ],\n",
       "       [1.03333333, 1.31707317, 1.0625    , 1.16666667],\n",
       "       [1.1       , 1.36585366, 1.1875    , 1.16666667],\n",
       "       [1.16666667, 1.2195122 , 1.        , 1.        ],\n",
       "       [1.76666667, 1.46341463, 1.        , 1.16666667],\n",
       "       [1.73333333, 1.56097561, 1.25      , 0.83333333],\n",
       "       [1.93333333, 2.        , 1.3125    , 1.33333333],\n",
       "       [1.86666667, 1.90243902, 1.375     , 1.5       ],\n",
       "       [0.76666667, 0.87804878, 0.5       , 0.66666667],\n",
       "       [0.8       , 0.92682927, 0.625     , 0.66666667],\n",
       "       [0.83333333, 0.87804878, 0.6875    , 0.83333333],\n",
       "       [0.8       , 0.87804878, 0.875     , 0.66666667],\n",
       "       [0.1       , 0.19512195, 1.        , 0.66666667],\n",
       "       [0.3       , 0.34146341, 1.5       , 1.5       ],\n",
       "       [0.36666667, 0.09756098, 1.125     , 1.33333333],\n",
       "       [1.16666667, 1.31707317, 1.        , 1.        ],\n",
       "       [0.7       , 0.87804878, 0.8125    , 0.66666667],\n",
       "       [0.76666667, 0.92682927, 0.5625    , 0.66666667],\n",
       "       [0.73333333, 0.82926829, 0.875     , 0.66666667],\n",
       "       [1.3       , 1.26829268, 1.125     , 1.        ],\n",
       "       [1.36666667, 1.31707317, 1.25      , 1.16666667],\n",
       "       [1.46666667, 1.36585366, 1.3125    , 1.        ],\n",
       "       [1.73333333, 1.65853659, 1.1875    , 1.        ],\n",
       "       [1.96666667, 1.90243902, 1.4375    , 1.5       ],\n",
       "       [0.76666667, 0.82926829, 0.8125    , 0.66666667],\n",
       "       [1.        , 1.31707317, 1.1875    , 1.33333333],\n",
       "       [1.23333333, 1.36585366, 1.125     , 1.16666667],\n",
       "       [0.76666667, 1.07317073, 0.875     , 0.66666667]])"
      ]
     },
     "execution_count": 157,
     "metadata": {},
     "output_type": "execute_result"
    }
   ],
   "source": [
    "minmax=preprocessing.MinMaxScaler(feature_range=(0,2))\n",
    "minmax.fit(X).transform(X)"
   ]
  },
  {
   "cell_type": "code",
   "execution_count": 158,
   "metadata": {},
   "outputs": [],
   "source": [
    "from sklearn.model_selection import train_test_split  #train_test_split splits arrays or matrices into random train and test subsets. \n",
    "X_train, X_test, y_train, y_test = train_test_split(X, y,test_size=0.2,random_state =0) "
   ]
  },
  {
   "cell_type": "code",
   "execution_count": 164,
   "metadata": {},
   "outputs": [
    {
     "data": {
      "text/html": [
       "<div>\n",
       "<style scoped>\n",
       "    .dataframe tbody tr th:only-of-type {\n",
       "        vertical-align: middle;\n",
       "    }\n",
       "\n",
       "    .dataframe tbody tr th {\n",
       "        vertical-align: top;\n",
       "    }\n",
       "\n",
       "    .dataframe thead th {\n",
       "        text-align: right;\n",
       "    }\n",
       "</style>\n",
       "<table border=\"1\" class=\"dataframe\">\n",
       "  <thead>\n",
       "    <tr style=\"text-align: right;\">\n",
       "      <th></th>\n",
       "      <th>SBP</th>\n",
       "      <th>DBP</th>\n",
       "      <th>Pulse</th>\n",
       "      <th>Temperature</th>\n",
       "    </tr>\n",
       "  </thead>\n",
       "  <tbody>\n",
       "    <tr>\n",
       "      <th>27</th>\n",
       "      <td>128</td>\n",
       "      <td>87</td>\n",
       "      <td>80</td>\n",
       "      <td>100</td>\n",
       "    </tr>\n",
       "    <tr>\n",
       "      <th>97</th>\n",
       "      <td>99</td>\n",
       "      <td>66</td>\n",
       "      <td>79</td>\n",
       "      <td>102</td>\n",
       "    </tr>\n",
       "    <tr>\n",
       "      <th>96</th>\n",
       "      <td>107</td>\n",
       "      <td>65</td>\n",
       "      <td>80</td>\n",
       "      <td>102</td>\n",
       "    </tr>\n",
       "    <tr>\n",
       "      <th>69</th>\n",
       "      <td>98</td>\n",
       "      <td>60</td>\n",
       "      <td>64</td>\n",
       "      <td>101</td>\n",
       "    </tr>\n",
       "    <tr>\n",
       "      <th>18</th>\n",
       "      <td>140</td>\n",
       "      <td>91</td>\n",
       "      <td>80</td>\n",
       "      <td>102</td>\n",
       "    </tr>\n",
       "    <tr>\n",
       "      <th>...</th>\n",
       "      <td>...</td>\n",
       "      <td>...</td>\n",
       "      <td>...</td>\n",
       "      <td>...</td>\n",
       "    </tr>\n",
       "    <tr>\n",
       "      <th>9</th>\n",
       "      <td>110</td>\n",
       "      <td>69</td>\n",
       "      <td>65</td>\n",
       "      <td>102</td>\n",
       "    </tr>\n",
       "    <tr>\n",
       "      <th>103</th>\n",
       "      <td>134</td>\n",
       "      <td>87</td>\n",
       "      <td>78</td>\n",
       "      <td>99</td>\n",
       "    </tr>\n",
       "    <tr>\n",
       "      <th>67</th>\n",
       "      <td>149</td>\n",
       "      <td>96</td>\n",
       "      <td>82</td>\n",
       "      <td>103</td>\n",
       "    </tr>\n",
       "    <tr>\n",
       "      <th>117</th>\n",
       "      <td>117</td>\n",
       "      <td>79</td>\n",
       "      <td>68</td>\n",
       "      <td>98</td>\n",
       "    </tr>\n",
       "    <tr>\n",
       "      <th>47</th>\n",
       "      <td>127</td>\n",
       "      <td>85</td>\n",
       "      <td>79</td>\n",
       "      <td>100</td>\n",
       "    </tr>\n",
       "  </tbody>\n",
       "</table>\n",
       "<p>119 rows × 4 columns</p>\n",
       "</div>"
      ],
      "text/plain": [
       "     SBP  DBP  Pulse  Temperature\n",
       "27   128   87     80          100\n",
       "97    99   66     79          102\n",
       "96   107   65     80          102\n",
       "69    98   60     64          101\n",
       "18   140   91     80          102\n",
       "..   ...  ...    ...          ...\n",
       "9    110   69     65          102\n",
       "103  134   87     78           99\n",
       "67   149   96     82          103\n",
       "117  117   79     68           98\n",
       "47   127   85     79          100\n",
       "\n",
       "[119 rows x 4 columns]"
      ]
     },
     "execution_count": 164,
     "metadata": {},
     "output_type": "execute_result"
    }
   ],
   "source": [
    "X_train"
   ]
  },
  {
   "cell_type": "code",
   "execution_count": 165,
   "metadata": {},
   "outputs": [
    {
     "data": {
      "text/plain": [
       "27     1\n",
       "97     2\n",
       "96     2\n",
       "69     2\n",
       "18     2\n",
       "      ..\n",
       "9      2\n",
       "103    1\n",
       "67     2\n",
       "117    0\n",
       "47     1\n",
       "Name: Level, Length: 119, dtype: int64"
      ]
     },
     "execution_count": 165,
     "metadata": {},
     "output_type": "execute_result"
    }
   ],
   "source": [
    "y_train "
   ]
  },
  {
   "cell_type": "code",
   "execution_count": 167,
   "metadata": {},
   "outputs": [],
   "source": [
    "X_train = X_train.values.reshape((-1,1))"
   ]
  },
  {
   "cell_type": "code",
   "execution_count": 168,
   "metadata": {},
   "outputs": [
    {
     "data": {
      "text/plain": [
       "array([[128],\n",
       "       [ 87],\n",
       "       [ 80],\n",
       "       [100],\n",
       "       [ 99],\n",
       "       [ 66],\n",
       "       [ 79],\n",
       "       [102],\n",
       "       [107],\n",
       "       [ 65],\n",
       "       [ 80],\n",
       "       [102],\n",
       "       [ 98],\n",
       "       [ 60],\n",
       "       [ 64],\n",
       "       [101],\n",
       "       [140],\n",
       "       [ 91],\n",
       "       [ 80],\n",
       "       [102],\n",
       "       [136],\n",
       "       [ 90],\n",
       "       [ 79],\n",
       "       [101],\n",
       "       [130],\n",
       "       [ 87],\n",
       "       [ 76],\n",
       "       [100],\n",
       "       [118],\n",
       "       [ 81],\n",
       "       [ 72],\n",
       "       [ 98],\n",
       "       [140],\n",
       "       [ 99],\n",
       "       [ 85],\n",
       "       [102],\n",
       "       [155],\n",
       "       [100],\n",
       "       [ 92],\n",
       "       [104],\n",
       "       [125],\n",
       "       [ 87],\n",
       "       [ 79],\n",
       "       [102],\n",
       "       [117],\n",
       "       [ 73],\n",
       "       [ 76],\n",
       "       [ 99],\n",
       "       [104],\n",
       "       [ 68],\n",
       "       [ 79],\n",
       "       [101],\n",
       "       [154],\n",
       "       [ 99],\n",
       "       [ 79],\n",
       "       [100],\n",
       "       [147],\n",
       "       [ 94],\n",
       "       [ 79],\n",
       "       [100],\n",
       "       [120],\n",
       "       [ 78],\n",
       "       [ 69],\n",
       "       [ 98],\n",
       "       [128],\n",
       "       [ 86],\n",
       "       [ 64],\n",
       "       [101],\n",
       "       [104],\n",
       "       [ 68],\n",
       "       [ 79],\n",
       "       [101],\n",
       "       [126],\n",
       "       [ 85],\n",
       "       [ 76],\n",
       "       [100],\n",
       "       [120],\n",
       "       [ 78],\n",
       "       [ 71],\n",
       "       [ 99],\n",
       "       [119],\n",
       "       [ 79],\n",
       "       [ 70],\n",
       "       [ 98],\n",
       "       [120],\n",
       "       [ 80],\n",
       "       [ 76],\n",
       "       [ 98],\n",
       "       [118],\n",
       "       [ 77],\n",
       "       [ 73],\n",
       "       [ 98],\n",
       "       [132],\n",
       "       [ 87],\n",
       "       [ 77],\n",
       "       [ 98],\n",
       "       [118],\n",
       "       [ 79],\n",
       "       [ 76],\n",
       "       [100],\n",
       "       [147],\n",
       "       [ 92],\n",
       "       [ 80],\n",
       "       [ 99],\n",
       "       [127],\n",
       "       [ 84],\n",
       "       [ 75],\n",
       "       [100],\n",
       "       [100],\n",
       "       [ 65],\n",
       "       [ 62],\n",
       "       [ 95],\n",
       "       [119],\n",
       "       [ 80],\n",
       "       [ 75],\n",
       "       [ 98],\n",
       "       [118],\n",
       "       [ 76],\n",
       "       [ 74],\n",
       "       [ 98],\n",
       "       [117],\n",
       "       [ 80],\n",
       "       [ 73],\n",
       "       [ 99],\n",
       "       [151],\n",
       "       [ 95],\n",
       "       [ 80],\n",
       "       [100],\n",
       "       [128],\n",
       "       [ 88],\n",
       "       [ 79],\n",
       "       [101],\n",
       "       [118],\n",
       "       [ 79],\n",
       "       [ 73],\n",
       "       [ 99],\n",
       "       [126],\n",
       "       [ 87],\n",
       "       [ 77],\n",
       "       [101],\n",
       "       [126],\n",
       "       [ 88],\n",
       "       [ 78],\n",
       "       [ 98],\n",
       "       [118],\n",
       "       [ 75],\n",
       "       [ 75],\n",
       "       [ 99],\n",
       "       [ 99],\n",
       "       [ 68],\n",
       "       [ 66],\n",
       "       [102],\n",
       "       [117],\n",
       "       [ 79],\n",
       "       [ 73],\n",
       "       [ 98],\n",
       "       [116],\n",
       "       [ 77],\n",
       "       [ 74],\n",
       "       [ 98],\n",
       "       [105],\n",
       "       [ 65],\n",
       "       [ 60],\n",
       "       [102],\n",
       "       [128],\n",
       "       [ 88],\n",
       "       [ 77],\n",
       "       [ 98],\n",
       "       [115],\n",
       "       [ 82],\n",
       "       [ 79],\n",
       "       [ 97],\n",
       "       [153],\n",
       "       [101],\n",
       "       [ 81],\n",
       "       [102],\n",
       "       [118],\n",
       "       [ 77],\n",
       "       [ 70],\n",
       "       [ 99],\n",
       "       [116],\n",
       "       [ 75],\n",
       "       [ 70],\n",
       "       [ 99],\n",
       "       [148],\n",
       "       [ 95],\n",
       "       [ 80],\n",
       "       [102],\n",
       "       [101],\n",
       "       [ 68],\n",
       "       [ 70],\n",
       "       [ 99],\n",
       "       [118],\n",
       "       [ 79],\n",
       "       [ 76],\n",
       "       [105],\n",
       "       [145],\n",
       "       [ 90],\n",
       "       [ 82],\n",
       "       [104],\n",
       "       [130],\n",
       "       [ 85],\n",
       "       [ 76],\n",
       "       [100],\n",
       "       [132],\n",
       "       [ 88],\n",
       "       [ 78],\n",
       "       [101],\n",
       "       [132],\n",
       "       [ 86],\n",
       "       [ 75],\n",
       "       [102],\n",
       "       [148],\n",
       "       [ 90],\n",
       "       [ 76],\n",
       "       [101],\n",
       "       [146],\n",
       "       [ 90],\n",
       "       [ 80],\n",
       "       [104],\n",
       "       [130],\n",
       "       [ 88],\n",
       "       [ 84],\n",
       "       [101],\n",
       "       [102],\n",
       "       [ 67],\n",
       "       [ 65],\n",
       "       [101],\n",
       "       [152],\n",
       "       [ 98],\n",
       "       [ 75],\n",
       "       [ 99],\n",
       "       [100],\n",
       "       [ 65],\n",
       "       [ 79],\n",
       "       [100],\n",
       "       [118],\n",
       "       [ 79],\n",
       "       [ 71],\n",
       "       [ 98],\n",
       "       [140],\n",
       "       [ 83],\n",
       "       [ 75],\n",
       "       [100],\n",
       "       [146],\n",
       "       [101],\n",
       "       [ 82],\n",
       "       [101],\n",
       "       [118],\n",
       "       [ 79],\n",
       "       [ 69],\n",
       "       [ 98],\n",
       "       [119],\n",
       "       [ 76],\n",
       "       [ 72],\n",
       "       [ 98],\n",
       "       [119],\n",
       "       [ 79],\n",
       "       [ 85],\n",
       "       [102],\n",
       "       [151],\n",
       "       [ 99],\n",
       "       [ 82],\n",
       "       [103],\n",
       "       [135],\n",
       "       [ 87],\n",
       "       [ 76],\n",
       "       [100],\n",
       "       [128],\n",
       "       [ 88],\n",
       "       [ 79],\n",
       "       [101],\n",
       "       [ 95],\n",
       "       [ 65],\n",
       "       [ 75],\n",
       "       [101],\n",
       "       [126],\n",
       "       [ 87],\n",
       "       [ 76],\n",
       "       [ 99],\n",
       "       [139],\n",
       "       [ 88],\n",
       "       [ 81],\n",
       "       [100],\n",
       "       [133],\n",
       "       [ 92],\n",
       "       [ 79],\n",
       "       [100],\n",
       "       [120],\n",
       "       [ 80],\n",
       "       [ 80],\n",
       "       [ 98],\n",
       "       [116],\n",
       "       [ 80],\n",
       "       [ 74],\n",
       "       [ 98],\n",
       "       [130],\n",
       "       [ 85],\n",
       "       [ 82],\n",
       "       [101],\n",
       "       [118],\n",
       "       [ 77],\n",
       "       [ 75],\n",
       "       [ 99],\n",
       "       [119],\n",
       "       [ 78],\n",
       "       [ 72],\n",
       "       [ 98],\n",
       "       [115],\n",
       "       [ 78],\n",
       "       [ 68],\n",
       "       [ 99],\n",
       "       [126],\n",
       "       [ 90],\n",
       "       [ 80],\n",
       "       [101],\n",
       "       [120],\n",
       "       [ 79],\n",
       "       [ 75],\n",
       "       [ 98],\n",
       "       [ 99],\n",
       "       [ 60],\n",
       "       [ 65],\n",
       "       [ 94],\n",
       "       [125],\n",
       "       [ 85],\n",
       "       [ 75],\n",
       "       [100],\n",
       "       [100],\n",
       "       [ 64],\n",
       "       [ 69],\n",
       "       [104],\n",
       "       [119],\n",
       "       [ 79],\n",
       "       [ 70],\n",
       "       [ 98],\n",
       "       [127],\n",
       "       [ 83],\n",
       "       [ 79],\n",
       "       [100],\n",
       "       [119],\n",
       "       [ 78],\n",
       "       [ 74],\n",
       "       [ 98],\n",
       "       [116],\n",
       "       [ 78],\n",
       "       [ 73],\n",
       "       [ 98],\n",
       "       [114],\n",
       "       [ 76],\n",
       "       [ 69],\n",
       "       [ 98],\n",
       "       [119],\n",
       "       [ 80],\n",
       "       [ 73],\n",
       "       [ 99],\n",
       "       [119],\n",
       "       [ 78],\n",
       "       [ 70],\n",
       "       [ 99],\n",
       "       [148],\n",
       "       [ 92],\n",
       "       [ 84],\n",
       "       [104],\n",
       "       [118],\n",
       "       [ 78],\n",
       "       [ 68],\n",
       "       [ 98],\n",
       "       [120],\n",
       "       [ 76],\n",
       "       [ 70],\n",
       "       [ 98],\n",
       "       [106],\n",
       "       [ 62],\n",
       "       [ 78],\n",
       "       [102],\n",
       "       [131],\n",
       "       [ 86],\n",
       "       [ 76],\n",
       "       [ 98],\n",
       "       [116],\n",
       "       [ 79],\n",
       "       [ 74],\n",
       "       [ 98],\n",
       "       [118],\n",
       "       [ 78],\n",
       "       [ 69],\n",
       "       [ 98],\n",
       "       [118],\n",
       "       [ 82],\n",
       "       [ 74],\n",
       "       [ 98],\n",
       "       [105],\n",
       "       [ 69],\n",
       "       [ 76],\n",
       "       [ 99],\n",
       "       [119],\n",
       "       [ 76],\n",
       "       [ 70],\n",
       "       [ 99],\n",
       "       [154],\n",
       "       [ 99],\n",
       "       [ 83],\n",
       "       [103],\n",
       "       [127],\n",
       "       [ 87],\n",
       "       [ 78],\n",
       "       [ 98],\n",
       "       [101],\n",
       "       [ 67],\n",
       "       [ 78],\n",
       "       [100],\n",
       "       [116],\n",
       "       [ 78],\n",
       "       [ 70],\n",
       "       [ 98],\n",
       "       [114],\n",
       "       [ 78],\n",
       "       [ 75],\n",
       "       [ 98],\n",
       "       [117],\n",
       "       [ 77],\n",
       "       [ 74],\n",
       "       [ 98],\n",
       "       [136],\n",
       "       [ 87],\n",
       "       [ 80],\n",
       "       [101],\n",
       "       [120],\n",
       "       [ 78],\n",
       "       [ 70],\n",
       "       [105],\n",
       "       [142],\n",
       "       [ 93],\n",
       "       [ 80],\n",
       "       [102],\n",
       "       [124],\n",
       "       [ 84],\n",
       "       [ 76],\n",
       "       [ 98],\n",
       "       [101],\n",
       "       [ 68],\n",
       "       [ 67],\n",
       "       [104],\n",
       "       [149],\n",
       "       [ 94],\n",
       "       [ 83],\n",
       "       [ 99],\n",
       "       [126],\n",
       "       [ 85],\n",
       "       [ 79],\n",
       "       [100],\n",
       "       [106],\n",
       "       [ 68],\n",
       "       [ 79],\n",
       "       [103],\n",
       "       [110],\n",
       "       [ 69],\n",
       "       [ 65],\n",
       "       [102],\n",
       "       [134],\n",
       "       [ 87],\n",
       "       [ 78],\n",
       "       [ 99],\n",
       "       [149],\n",
       "       [ 96],\n",
       "       [ 82],\n",
       "       [103],\n",
       "       [117],\n",
       "       [ 79],\n",
       "       [ 68],\n",
       "       [ 98],\n",
       "       [127],\n",
       "       [ 85],\n",
       "       [ 79],\n",
       "       [100]], dtype=int64)"
      ]
     },
     "execution_count": 168,
     "metadata": {},
     "output_type": "execute_result"
    }
   ],
   "source": [
    "X_train"
   ]
  },
  {
   "cell_type": "code",
   "execution_count": 169,
   "metadata": {},
   "outputs": [
    {
     "data": {
      "text/plain": [
       "27     1\n",
       "97     2\n",
       "96     2\n",
       "69     2\n",
       "18     2\n",
       "      ..\n",
       "9      2\n",
       "103    1\n",
       "67     2\n",
       "117    0\n",
       "47     1\n",
       "Name: Level, Length: 119, dtype: int64"
      ]
     },
     "execution_count": 169,
     "metadata": {},
     "output_type": "execute_result"
    }
   ],
   "source": [
    "y_train"
   ]
  },
  {
   "cell_type": "code",
   "execution_count": 170,
   "metadata": {},
   "outputs": [
    {
     "data": {
      "text/html": [
       "<div>\n",
       "<style scoped>\n",
       "    .dataframe tbody tr th:only-of-type {\n",
       "        vertical-align: middle;\n",
       "    }\n",
       "\n",
       "    .dataframe tbody tr th {\n",
       "        vertical-align: top;\n",
       "    }\n",
       "\n",
       "    .dataframe thead th {\n",
       "        text-align: right;\n",
       "    }\n",
       "</style>\n",
       "<table border=\"1\" class=\"dataframe\">\n",
       "  <thead>\n",
       "    <tr style=\"text-align: right;\">\n",
       "      <th></th>\n",
       "      <th>SBP</th>\n",
       "      <th>DBP</th>\n",
       "      <th>Pulse</th>\n",
       "      <th>Temperature</th>\n",
       "    </tr>\n",
       "  </thead>\n",
       "  <tbody>\n",
       "    <tr>\n",
       "      <th>133</th>\n",
       "      <td>98</td>\n",
       "      <td>64</td>\n",
       "      <td>76</td>\n",
       "      <td>98</td>\n",
       "    </tr>\n",
       "    <tr>\n",
       "      <th>109</th>\n",
       "      <td>145</td>\n",
       "      <td>100</td>\n",
       "      <td>75</td>\n",
       "      <td>100</td>\n",
       "    </tr>\n",
       "    <tr>\n",
       "      <th>59</th>\n",
       "      <td>126</td>\n",
       "      <td>85</td>\n",
       "      <td>79</td>\n",
       "      <td>99</td>\n",
       "    </tr>\n",
       "    <tr>\n",
       "      <th>80</th>\n",
       "      <td>100</td>\n",
       "      <td>63</td>\n",
       "      <td>80</td>\n",
       "      <td>103</td>\n",
       "    </tr>\n",
       "    <tr>\n",
       "      <th>7</th>\n",
       "      <td>100</td>\n",
       "      <td>60</td>\n",
       "      <td>79</td>\n",
       "      <td>98</td>\n",
       "    </tr>\n",
       "    <tr>\n",
       "      <th>104</th>\n",
       "      <td>135</td>\n",
       "      <td>89</td>\n",
       "      <td>80</td>\n",
       "      <td>100</td>\n",
       "    </tr>\n",
       "    <tr>\n",
       "      <th>140</th>\n",
       "      <td>134</td>\n",
       "      <td>86</td>\n",
       "      <td>78</td>\n",
       "      <td>100</td>\n",
       "    </tr>\n",
       "    <tr>\n",
       "      <th>95</th>\n",
       "      <td>117</td>\n",
       "      <td>60</td>\n",
       "      <td>85</td>\n",
       "      <td>100</td>\n",
       "    </tr>\n",
       "    <tr>\n",
       "      <th>118</th>\n",
       "      <td>116</td>\n",
       "      <td>80</td>\n",
       "      <td>70</td>\n",
       "      <td>98</td>\n",
       "    </tr>\n",
       "    <tr>\n",
       "      <th>84</th>\n",
       "      <td>115</td>\n",
       "      <td>78</td>\n",
       "      <td>70</td>\n",
       "      <td>98</td>\n",
       "    </tr>\n",
       "    <tr>\n",
       "      <th>33</th>\n",
       "      <td>117</td>\n",
       "      <td>79</td>\n",
       "      <td>76</td>\n",
       "      <td>99</td>\n",
       "    </tr>\n",
       "    <tr>\n",
       "      <th>44</th>\n",
       "      <td>117</td>\n",
       "      <td>78</td>\n",
       "      <td>75</td>\n",
       "      <td>98</td>\n",
       "    </tr>\n",
       "    <tr>\n",
       "      <th>54</th>\n",
       "      <td>119</td>\n",
       "      <td>78</td>\n",
       "      <td>70</td>\n",
       "      <td>98</td>\n",
       "    </tr>\n",
       "    <tr>\n",
       "      <th>24</th>\n",
       "      <td>147</td>\n",
       "      <td>95</td>\n",
       "      <td>84</td>\n",
       "      <td>104</td>\n",
       "    </tr>\n",
       "    <tr>\n",
       "      <th>37</th>\n",
       "      <td>127</td>\n",
       "      <td>89</td>\n",
       "      <td>80</td>\n",
       "      <td>98</td>\n",
       "    </tr>\n",
       "    <tr>\n",
       "      <th>132</th>\n",
       "      <td>119</td>\n",
       "      <td>78</td>\n",
       "      <td>74</td>\n",
       "      <td>98</td>\n",
       "    </tr>\n",
       "    <tr>\n",
       "      <th>111</th>\n",
       "      <td>146</td>\n",
       "      <td>95</td>\n",
       "      <td>81</td>\n",
       "      <td>100</td>\n",
       "    </tr>\n",
       "    <tr>\n",
       "      <th>73</th>\n",
       "      <td>128</td>\n",
       "      <td>88</td>\n",
       "      <td>77</td>\n",
       "      <td>99</td>\n",
       "    </tr>\n",
       "    <tr>\n",
       "      <th>16</th>\n",
       "      <td>132</td>\n",
       "      <td>89</td>\n",
       "      <td>76</td>\n",
       "      <td>101</td>\n",
       "    </tr>\n",
       "    <tr>\n",
       "      <th>45</th>\n",
       "      <td>145</td>\n",
       "      <td>92</td>\n",
       "      <td>82</td>\n",
       "      <td>101</td>\n",
       "    </tr>\n",
       "    <tr>\n",
       "      <th>40</th>\n",
       "      <td>118</td>\n",
       "      <td>79</td>\n",
       "      <td>76</td>\n",
       "      <td>106</td>\n",
       "    </tr>\n",
       "    <tr>\n",
       "      <th>8</th>\n",
       "      <td>119</td>\n",
       "      <td>78</td>\n",
       "      <td>68</td>\n",
       "      <td>100</td>\n",
       "    </tr>\n",
       "    <tr>\n",
       "      <th>85</th>\n",
       "      <td>150</td>\n",
       "      <td>96</td>\n",
       "      <td>82</td>\n",
       "      <td>102</td>\n",
       "    </tr>\n",
       "    <tr>\n",
       "      <th>22</th>\n",
       "      <td>129</td>\n",
       "      <td>89</td>\n",
       "      <td>82</td>\n",
       "      <td>100</td>\n",
       "    </tr>\n",
       "    <tr>\n",
       "      <th>62</th>\n",
       "      <td>120</td>\n",
       "      <td>78</td>\n",
       "      <td>70</td>\n",
       "      <td>99</td>\n",
       "    </tr>\n",
       "    <tr>\n",
       "      <th>94</th>\n",
       "      <td>120</td>\n",
       "      <td>80</td>\n",
       "      <td>75</td>\n",
       "      <td>105</td>\n",
       "    </tr>\n",
       "    <tr>\n",
       "      <th>90</th>\n",
       "      <td>119</td>\n",
       "      <td>78</td>\n",
       "      <td>70</td>\n",
       "      <td>98</td>\n",
       "    </tr>\n",
       "    <tr>\n",
       "      <th>26</th>\n",
       "      <td>118</td>\n",
       "      <td>76</td>\n",
       "      <td>68</td>\n",
       "      <td>99</td>\n",
       "    </tr>\n",
       "    <tr>\n",
       "      <th>43</th>\n",
       "      <td>118</td>\n",
       "      <td>79</td>\n",
       "      <td>70</td>\n",
       "      <td>99</td>\n",
       "    </tr>\n",
       "    <tr>\n",
       "      <th>134</th>\n",
       "      <td>104</td>\n",
       "      <td>67</td>\n",
       "      <td>84</td>\n",
       "      <td>103</td>\n",
       "    </tr>\n",
       "  </tbody>\n",
       "</table>\n",
       "</div>"
      ],
      "text/plain": [
       "     SBP  DBP  Pulse  Temperature\n",
       "133   98   64     76           98\n",
       "109  145  100     75          100\n",
       "59   126   85     79           99\n",
       "80   100   63     80          103\n",
       "7    100   60     79           98\n",
       "104  135   89     80          100\n",
       "140  134   86     78          100\n",
       "95   117   60     85          100\n",
       "118  116   80     70           98\n",
       "84   115   78     70           98\n",
       "33   117   79     76           99\n",
       "44   117   78     75           98\n",
       "54   119   78     70           98\n",
       "24   147   95     84          104\n",
       "37   127   89     80           98\n",
       "132  119   78     74           98\n",
       "111  146   95     81          100\n",
       "73   128   88     77           99\n",
       "16   132   89     76          101\n",
       "45   145   92     82          101\n",
       "40   118   79     76          106\n",
       "8    119   78     68          100\n",
       "85   150   96     82          102\n",
       "22   129   89     82          100\n",
       "62   120   78     70           99\n",
       "94   120   80     75          105\n",
       "90   119   78     70           98\n",
       "26   118   76     68           99\n",
       "43   118   79     70           99\n",
       "134  104   67     84          103"
      ]
     },
     "execution_count": 170,
     "metadata": {},
     "output_type": "execute_result"
    }
   ],
   "source": [
    "X_test"
   ]
  },
  {
   "cell_type": "code",
   "execution_count": 171,
   "metadata": {},
   "outputs": [],
   "source": [
    "X_test = X_test.values.reshape((-1,1))"
   ]
  },
  {
   "cell_type": "code",
   "execution_count": 172,
   "metadata": {},
   "outputs": [
    {
     "data": {
      "text/plain": [
       "array([[ 98],\n",
       "       [ 64],\n",
       "       [ 76],\n",
       "       [ 98],\n",
       "       [145],\n",
       "       [100],\n",
       "       [ 75],\n",
       "       [100],\n",
       "       [126],\n",
       "       [ 85],\n",
       "       [ 79],\n",
       "       [ 99],\n",
       "       [100],\n",
       "       [ 63],\n",
       "       [ 80],\n",
       "       [103],\n",
       "       [100],\n",
       "       [ 60],\n",
       "       [ 79],\n",
       "       [ 98],\n",
       "       [135],\n",
       "       [ 89],\n",
       "       [ 80],\n",
       "       [100],\n",
       "       [134],\n",
       "       [ 86],\n",
       "       [ 78],\n",
       "       [100],\n",
       "       [117],\n",
       "       [ 60],\n",
       "       [ 85],\n",
       "       [100],\n",
       "       [116],\n",
       "       [ 80],\n",
       "       [ 70],\n",
       "       [ 98],\n",
       "       [115],\n",
       "       [ 78],\n",
       "       [ 70],\n",
       "       [ 98],\n",
       "       [117],\n",
       "       [ 79],\n",
       "       [ 76],\n",
       "       [ 99],\n",
       "       [117],\n",
       "       [ 78],\n",
       "       [ 75],\n",
       "       [ 98],\n",
       "       [119],\n",
       "       [ 78],\n",
       "       [ 70],\n",
       "       [ 98],\n",
       "       [147],\n",
       "       [ 95],\n",
       "       [ 84],\n",
       "       [104],\n",
       "       [127],\n",
       "       [ 89],\n",
       "       [ 80],\n",
       "       [ 98],\n",
       "       [119],\n",
       "       [ 78],\n",
       "       [ 74],\n",
       "       [ 98],\n",
       "       [146],\n",
       "       [ 95],\n",
       "       [ 81],\n",
       "       [100],\n",
       "       [128],\n",
       "       [ 88],\n",
       "       [ 77],\n",
       "       [ 99],\n",
       "       [132],\n",
       "       [ 89],\n",
       "       [ 76],\n",
       "       [101],\n",
       "       [145],\n",
       "       [ 92],\n",
       "       [ 82],\n",
       "       [101],\n",
       "       [118],\n",
       "       [ 79],\n",
       "       [ 76],\n",
       "       [106],\n",
       "       [119],\n",
       "       [ 78],\n",
       "       [ 68],\n",
       "       [100],\n",
       "       [150],\n",
       "       [ 96],\n",
       "       [ 82],\n",
       "       [102],\n",
       "       [129],\n",
       "       [ 89],\n",
       "       [ 82],\n",
       "       [100],\n",
       "       [120],\n",
       "       [ 78],\n",
       "       [ 70],\n",
       "       [ 99],\n",
       "       [120],\n",
       "       [ 80],\n",
       "       [ 75],\n",
       "       [105],\n",
       "       [119],\n",
       "       [ 78],\n",
       "       [ 70],\n",
       "       [ 98],\n",
       "       [118],\n",
       "       [ 76],\n",
       "       [ 68],\n",
       "       [ 99],\n",
       "       [118],\n",
       "       [ 79],\n",
       "       [ 70],\n",
       "       [ 99],\n",
       "       [104],\n",
       "       [ 67],\n",
       "       [ 84],\n",
       "       [103]], dtype=int64)"
      ]
     },
     "execution_count": 172,
     "metadata": {},
     "output_type": "execute_result"
    }
   ],
   "source": [
    "X_test"
   ]
  },
  {
   "cell_type": "code",
   "execution_count": 162,
   "metadata": {},
   "outputs": [
    {
     "data": {
      "text/plain": [
       "133    2\n",
       "109    2\n",
       "59     1\n",
       "80     2\n",
       "7      2\n",
       "104    1\n",
       "140    1\n",
       "95     1\n",
       "118    0\n",
       "84     0\n",
       "33     0\n",
       "44     0\n",
       "54     0\n",
       "24     2\n",
       "37     1\n",
       "132    0\n",
       "111    2\n",
       "73     1\n",
       "16     1\n",
       "45     2\n",
       "40     2\n",
       "8      0\n",
       "85     2\n",
       "22     1\n",
       "62     0\n",
       "94     2\n",
       "90     0\n",
       "26     0\n",
       "43     0\n",
       "134    2\n",
       "Name: Level, dtype: int32"
      ]
     },
     "execution_count": 162,
     "metadata": {},
     "output_type": "execute_result"
    }
   ],
   "source": [
    "y_test = y_test.astype(int)\n",
    "y_test"
   ]
  },
  {
   "cell_type": "markdown",
   "metadata": {},
   "source": [
    "# Feauture Scaling "
   ]
  },
  {
   "cell_type": "markdown",
   "metadata": {},
   "source": [
    " feature scaling is a method used to standardize the range of independent variables"
   ]
  },
  {
   "cell_type": "code",
   "execution_count": 173,
   "metadata": {},
   "outputs": [],
   "source": [
    "from sklearn.preprocessing import StandardScaler\n",
    "sc1 = StandardScaler()\n",
    "X_train = sc1.fit_transform(X_train)\n",
    "X_test = sc1.transform(X_test)"
   ]
  }
 ],
 "metadata": {
  "kernelspec": {
   "display_name": "Python 3",
   "language": "python",
   "name": "python3"
  },
  "language_info": {
   "codemirror_mode": {
    "name": "ipython",
    "version": 3
   },
   "file_extension": ".py",
   "mimetype": "text/x-python",
   "name": "python",
   "nbconvert_exporter": "python",
   "pygments_lexer": "ipython3",
   "version": "3.7.6"
  }
 },
 "nbformat": 4,
 "nbformat_minor": 4
}
